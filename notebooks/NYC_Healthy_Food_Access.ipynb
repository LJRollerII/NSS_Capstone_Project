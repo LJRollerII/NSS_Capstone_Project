{
 "cells": [
  {
   "cell_type": "code",
   "execution_count": null,
   "id": "f2b119d8",
   "metadata": {},
   "outputs": [],
   "source": [
    "from shapely.geometry import Point\n",
    "import pandas as pd\n",
    "import geopandas as gpd\n",
    "import matplotlib.pyplot as plt\n",
    "import folium\n",
    "from folium.plugins import MarkerCluster\n",
    "from folium.plugins import FastMarkerCluster"
   ]
  },
  {
   "cell_type": "code",
   "execution_count": null,
   "id": "28998292",
   "metadata": {},
   "outputs": [],
   "source": [
    "nyc_cd = gpd.read_file('../data/Community_Districts.geojson')\n",
    "print(nyc_cd.crs)\n",
    "nyc_cd.head()"
   ]
  },
  {
   "cell_type": "code",
   "execution_count": null,
   "id": "1c50c168",
   "metadata": {},
   "outputs": [],
   "source": [
    "type(nyc_cd)"
   ]
  },
  {
   "cell_type": "code",
   "execution_count": null,
   "id": "b14a277d",
   "metadata": {},
   "outputs": [],
   "source": [
    "nyc_cd.loc[0, 'geometry']"
   ]
  },
  {
   "cell_type": "code",
   "execution_count": null,
   "id": "92c37f57",
   "metadata": {},
   "outputs": [],
   "source": [
    "print(nyc_cd.loc[0, 'geometry'])"
   ]
  },
  {
   "cell_type": "code",
   "execution_count": null,
   "id": "74c9a23f",
   "metadata": {},
   "outputs": [],
   "source": [
    "nyc_cd.plot();"
   ]
  },
  {
   "cell_type": "code",
   "execution_count": null,
   "id": "cf9b9713",
   "metadata": {},
   "outputs": [],
   "source": [
    "leg_kwds = {'title': 'New York City Community Districts', 'loc': 'upper left', \n",
    "            'bbox_to_anchor': (1, 1.03), 'ncol': 2}\n",
    "\n",
    "nyc_cd.plot(column = 'boro_cd', figsize=(10, 10),\n",
    "              edgecolor = 'black',\n",
    "              legend = True, legend_kwds = leg_kwds, \n",
    "              cmap = 'Set2')\n",
    "plt.show()"
   ]
  },
  {
   "cell_type": "markdown",
   "id": "a34718f0",
   "metadata": {},
   "source": [
    "First let's add the Farmers Market data"
   ]
  },
  {
   "cell_type": "code",
   "execution_count": null,
   "id": "a33152ee",
   "metadata": {},
   "outputs": [],
   "source": [
    "farmers_market = pd.read_csv('../data/DOHMH_Farmers_Markets.csv')\n",
    "print(farmers_market.shape)\n",
    "farmers_market.head(3)"
   ]
  },
  {
   "cell_type": "code",
   "execution_count": null,
   "id": "5ce17e63",
   "metadata": {},
   "outputs": [],
   "source": [
    "farmers_market = farmers_market[['Borough','Market_Name','Street_Address','Community_District','Latitude','Longitude','Location_Point']]"
   ]
  },
  {
   "cell_type": "code",
   "execution_count": null,
   "id": "9a12e887",
   "metadata": {},
   "outputs": [],
   "source": [
    "farmers_market.head()"
   ]
  },
  {
   "cell_type": "code",
   "execution_count": null,
   "id": "c472eb48",
   "metadata": {},
   "outputs": [],
   "source": [
    "farmers_market.columns = ['Borough','Market_Name','Street_Address','Community_District_FM','Latitude','Longitude','Location_Point']"
   ]
  },
  {
   "cell_type": "code",
   "execution_count": null,
   "id": "709b9ae2",
   "metadata": {},
   "outputs": [],
   "source": [
    "farmers_market.head()"
   ]
  },
  {
   "cell_type": "code",
   "execution_count": null,
   "id": "6b183556",
   "metadata": {},
   "outputs": [],
   "source": [
    "farmers_market.info()"
   ]
  },
  {
   "cell_type": "code",
   "execution_count": null,
   "id": "f3aecafc",
   "metadata": {},
   "outputs": [],
   "source": [
    "farmers_market['geometry'] = farmers_market.apply(lambda x: Point((x.Longitude, \n",
    "                                                         x.Latitude)), \n",
    "                                        axis=1)\n",
    "farmers_market.head(3)"
   ]
  },
  {
   "cell_type": "code",
   "execution_count": null,
   "id": "09bec766",
   "metadata": {},
   "outputs": [],
   "source": [
    "fm_geo = gpd.GeoDataFrame(farmers_market, \n",
    "                           crs = nyc_cd.crs, \n",
    "                           geometry = farmers_market['geometry'])"
   ]
  },
  {
   "cell_type": "code",
   "execution_count": null,
   "id": "58270c0b",
   "metadata": {},
   "outputs": [],
   "source": [
    "type(fm_geo)"
   ]
  },
  {
   "cell_type": "code",
   "execution_count": null,
   "id": "b89c182c",
   "metadata": {},
   "outputs": [],
   "source": [
    "nyc_cd.crs"
   ]
  },
  {
   "cell_type": "markdown",
   "id": "fc32223c",
   "metadata": {},
   "source": [
    "Now let's add the healthy stores data"
   ]
  },
  {
   "cell_type": "code",
   "execution_count": null,
   "id": "b202a8df",
   "metadata": {},
   "outputs": [],
   "source": [
    "healthy_stores = pd.read_csv('../data/Recognized_Shop_Healthy_Stores.csv')\n",
    "print(healthy_stores.shape)\n",
    "healthy_stores.head(3)"
   ]
  },
  {
   "cell_type": "code",
   "execution_count": null,
   "id": "70713f9d",
   "metadata": {},
   "outputs": [],
   "source": [
    "healthy_stores = healthy_stores[['Store_Name','Street_Address','Borough','Latitude','Longitude','Community_District']]"
   ]
  },
  {
   "cell_type": "code",
   "execution_count": null,
   "id": "8f56de36",
   "metadata": {},
   "outputs": [],
   "source": [
    "healthy_stores.head()"
   ]
  },
  {
   "cell_type": "code",
   "execution_count": null,
   "id": "aa66ae75",
   "metadata": {},
   "outputs": [],
   "source": [
    "healthy_stores.info()"
   ]
  },
  {
   "cell_type": "code",
   "execution_count": null,
   "id": "7542aea8",
   "metadata": {},
   "outputs": [],
   "source": [
    "healthy_stores['geometry'] = healthy_stores.apply(lambda x: Point((x.Longitude, \n",
    "                                                         x.Latitude)), \n",
    "                                        axis=1)\n",
    "healthy_stores.head(3)"
   ]
  },
  {
   "cell_type": "code",
   "execution_count": null,
   "id": "d4fbbad0",
   "metadata": {},
   "outputs": [],
   "source": [
    "hs_geo = gpd.GeoDataFrame(healthy_stores, \n",
    "                           crs = nyc_cd.crs, \n",
    "                           geometry = healthy_stores['geometry'])"
   ]
  },
  {
   "cell_type": "code",
   "execution_count": null,
   "id": "dc745f15",
   "metadata": {},
   "outputs": [],
   "source": [
    "type(hs_geo)"
   ]
  },
  {
   "cell_type": "markdown",
   "id": "7067aca8",
   "metadata": {},
   "source": [
    "Finally let's add the SNAP Centers"
   ]
  },
  {
   "cell_type": "code",
   "execution_count": null,
   "id": "cf034198",
   "metadata": {
    "scrolled": true
   },
   "outputs": [],
   "source": [
    "snap = pd.read_csv('../data/Directory_of_SNAP_Centers.csv')\n",
    "print(snap.shape)\n",
    "snap.head(3)"
   ]
  },
  {
   "cell_type": "code",
   "execution_count": null,
   "id": "64784216",
   "metadata": {
    "scrolled": false
   },
   "outputs": [],
   "source": [
    "snap['geometry'] = snap.apply(lambda x: Point((x.Longitude, \n",
    "                                                         x.Latitude)), \n",
    "                                        axis=1)\n",
    "snap.head(3)"
   ]
  },
  {
   "cell_type": "code",
   "execution_count": null,
   "id": "5a173da3",
   "metadata": {},
   "outputs": [],
   "source": [
    "nyc_cd.crs"
   ]
  },
  {
   "cell_type": "code",
   "execution_count": null,
   "id": "b243e391",
   "metadata": {},
   "outputs": [],
   "source": [
    "snap_geo = gpd.GeoDataFrame(snap, \n",
    "                           crs = nyc_cd.crs, \n",
    "                           geometry = snap['geometry'])"
   ]
  },
  {
   "cell_type": "markdown",
   "id": "c3ba3bd2",
   "metadata": {},
   "source": [
    "Do we want to rename the Community District Column? Let's think about this before we do a merge or geospatial join."
   ]
  },
  {
   "cell_type": "markdown",
   "id": "19b1563f",
   "metadata": {},
   "source": [
    "Let's also drop the unecessary columns now that we fixed the issuse from before."
   ]
  },
  {
   "cell_type": "code",
   "execution_count": null,
   "id": "7ef208a7",
   "metadata": {
    "scrolled": true
   },
   "outputs": [],
   "source": [
    "type(snap_geo)"
   ]
  },
  {
   "cell_type": "code",
   "execution_count": null,
   "id": "eabda797",
   "metadata": {},
   "outputs": [],
   "source": [
    "snap.head()"
   ]
  },
  {
   "cell_type": "code",
   "execution_count": null,
   "id": "b48a53b2",
   "metadata": {},
   "outputs": [],
   "source": [
    "snap = snap[['Borough','Facility_Name','Street_Address','Latitude','Longitude','Community_District','geometry']]"
   ]
  },
  {
   "cell_type": "code",
   "execution_count": null,
   "id": "d727183d",
   "metadata": {
    "scrolled": true
   },
   "outputs": [],
   "source": [
    "snap.head()"
   ]
  },
  {
   "cell_type": "code",
   "execution_count": null,
   "id": "bbc6b4f5",
   "metadata": {},
   "outputs": [],
   "source": [
    "snap.columns = ['Borough','Facility_Name','Street_Address','Latitude','Longitude','Community_District_SP','geometry']"
   ]
  },
  {
   "cell_type": "code",
   "execution_count": null,
   "id": "47d61c8d",
   "metadata": {},
   "outputs": [],
   "source": [
    "snap.head()"
   ]
  },
  {
   "cell_type": "code",
   "execution_count": null,
   "id": "06ef3000",
   "metadata": {},
   "outputs": [],
   "source": [
    "nyc_cd = nyc_cd[['boro_cd', 'geometry']]"
   ]
  },
  {
   "cell_type": "code",
   "execution_count": null,
   "id": "4d07f353",
   "metadata": {},
   "outputs": [],
   "source": []
  },
  {
   "cell_type": "code",
   "execution_count": null,
   "id": "b8805374",
   "metadata": {},
   "outputs": [],
   "source": []
  },
  {
   "cell_type": "code",
   "execution_count": null,
   "id": "6a603f05",
   "metadata": {},
   "outputs": [],
   "source": [
    "nyc_area_center = ['40.71','-74.00']\n",
    "print(nyc_area_center)  "
   ]
  },
  {
   "cell_type": "code",
   "execution_count": null,
   "id": "3f52ec80",
   "metadata": {},
   "outputs": [],
   "source": [
    "map_nyc = folium.Map(location = nyc_area_center, zoom_start = 12)\n",
    "map_nyc"
   ]
  },
  {
   "cell_type": "markdown",
   "id": "4f31caea",
   "metadata": {},
   "source": [
    "We will need iterrows for the farmers markets, healthy stores, and snapcenters"
   ]
  },
  {
   "cell_type": "code",
   "execution_count": null,
   "id": "3587b4bf",
   "metadata": {},
   "outputs": [],
   "source": [
    "i = 0\n",
    "for row_index, row_values in farmers_market.iterrows():\n",
    "    if i <3: \n",
    "       print('index is', row_index)\n",
    "       print('values are:')\n",
    "       print(' ')\n",
    "       print(row_values)\n",
    "       print('------------------------- ')\n",
    "       i+=1"
   ]
  },
  {
   "cell_type": "code",
   "execution_count": null,
   "id": "47561406",
   "metadata": {},
   "outputs": [],
   "source": [
    "i = 0\n",
    "for row_index, row_values in healthy_stores.iterrows():\n",
    "    if i <3: \n",
    "       print('index is', row_index)\n",
    "       print('values are:')\n",
    "       print(' ')\n",
    "       print(row_values)\n",
    "       print('------------------------- ')\n",
    "       i+=1"
   ]
  },
  {
   "cell_type": "code",
   "execution_count": null,
   "id": "05623681",
   "metadata": {},
   "outputs": [],
   "source": [
    "i = 0\n",
    "for row_index, row_values in snap.iterrows():\n",
    "    if i <3: \n",
    "        print('index is', row_index)\n",
    "        print('values are:')\n",
    "        print(' ')\n",
    "        print(row_values)\n",
    "        print('------------------------- ')\n",
    "        i+=1"
   ]
  },
  {
   "cell_type": "code",
   "execution_count": null,
   "id": "da9534d3",
   "metadata": {},
   "outputs": [],
   "source": [
    "map_nyc = folium.Map(location =  nyc_area_center, zoom_start = 12)\n",
    "\n",
    "\n",
    "for row_index, row_values in farmers_market.iterrows():\n",
    "    loc = [row_values['Latitude'], row_values['Longitude']]\n",
    "    pop = str(row_values['Market_Name'])\n",
    "    icon=folium.Icon(color=\"green\",icon=\"leaf\", prefix='fa')\n",
    "\n",
    "\n",
    "for row_index, row_values in healthy_stores.iterrows():\n",
    "    loc = [row_values['Latitude'], row_values['Longitude']]\n",
    "    pop = str(row_values['Store_Name'])\n",
    "    icon=folium.Icon(color=\"orange\",icon=\"shopping-cart\", prefix='fa')\n",
    "\n",
    "for row_index, row_values in snap.iterrows():\n",
    "    loc = [row_values['Latitude'], row_values['Longitude']]\n",
    "    pop = str(row_values['Facility_Name'])\n",
    "    icon=folium.Icon(color=\"red\",icon=\"institution\", prefix='fa')\n",
    "\n",
    "marker = folium.Marker(\n",
    "        location = loc, \n",
    "        popup = pop, icon = icon) \n",
    "\n",
    "marker.add_to(map_nyc)\n",
    "map_nyc.save('../maps/healthyfoodaccessnyc.html')\n",
    "\n",
    "\n",
    "map_nyc"
   ]
  },
  {
   "cell_type": "code",
   "execution_count": null,
   "id": "a556f1c0",
   "metadata": {},
   "outputs": [],
   "source": [
    "cluster_map_nyc = folium.Map(location =  nyc_area_center, zoom_start = 12)\n",
    "\n",
    "marker_cluster = MarkerCluster().add_to(cluster_map_nyc)\n",
    "\n",
    "\n",
    "for row_index, row_values in farmers_market.iterrows():\n",
    "    loc = [row_values['Latitude'], row_values['Longitude']]\n",
    "    pop = str(row_values['Market_Name'])\n",
    "    icon=folium.Icon(color=\"green\",icon=\"leaf\", prefix='fa')\n",
    "\n",
    "\n",
    "for row_index, row_values in healthy_stores.iterrows():\n",
    "    loc = [row_values['Latitude'], row_values['Longitude']]\n",
    "    pop = str(row_values['Store_Name'])\n",
    "    icon=folium.Icon(color=\"orange\",icon=\"shopping-cart\", prefix='fa')\n",
    "\n",
    "for row_index, row_values in snap.iterrows():\n",
    "    loc = [row_values['Latitude'], row_values['Longitude']]\n",
    "    pop = str(row_values['Facility_Name'])\n",
    "    icon=folium.Icon(color=\"red\",icon=\"institution\", prefix='fa')\n",
    "\n",
    "marker = folium.Marker(\n",
    "        location = loc, \n",
    "        popup = pop, icon = icon) \n",
    "\n",
    "marker.add_to(marker_cluster)\n",
    "\n",
    "cluster_map_nyc.save('../maps/healthyfoodaccessnyccluster.html')\n",
    "\n",
    "cluster_map_nyc"
   ]
  },
  {
   "cell_type": "markdown",
   "id": "ac302754",
   "metadata": {},
   "source": [
    "Lets make a map of the community district witht the most facilities."
   ]
  },
  {
   "cell_type": "code",
   "execution_count": null,
   "id": "6c9c1662",
   "metadata": {},
   "outputs": [],
   "source": []
  }
 ],
 "metadata": {
  "kernelspec": {
   "display_name": "Python 3 (ipykernel)",
   "language": "python",
   "name": "python3"
  },
  "language_info": {
   "codemirror_mode": {
    "name": "ipython",
    "version": 3
   },
   "file_extension": ".py",
   "mimetype": "text/x-python",
   "name": "python",
   "nbconvert_exporter": "python",
   "pygments_lexer": "ipython3",
   "version": "3.8.5"
  }
 },
 "nbformat": 4,
 "nbformat_minor": 5
}
