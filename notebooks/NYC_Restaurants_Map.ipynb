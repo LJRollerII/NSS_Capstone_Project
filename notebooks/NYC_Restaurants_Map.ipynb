{
 "cells": [
  {
   "cell_type": "code",
   "execution_count": null,
   "id": "5e1dba08",
   "metadata": {},
   "outputs": [],
   "source": [
    "from shapely.geometry import Point\n",
    "import pandas as pd\n",
    "import geopandas as gpd\n",
    "import matplotlib.pyplot as plt\n",
    "import folium\n",
    "from folium.plugins import MarkerCluster\n",
    "from folium.plugins import FastMarkerCluster"
   ]
  },
  {
   "cell_type": "code",
   "execution_count": null,
   "id": "4d8b742a",
   "metadata": {},
   "outputs": [],
   "source": [
    "nyc_cd = gpd.read_file('../data/Community_Districts.geojson')\n",
    "print(nyc_cd.crs)\n",
    "nyc_cd.head()"
   ]
  },
  {
   "cell_type": "code",
   "execution_count": null,
   "id": "fdc6e656",
   "metadata": {},
   "outputs": [],
   "source": [
    "type(nyc_cd)"
   ]
  },
  {
   "cell_type": "code",
   "execution_count": null,
   "id": "4fb1d7ca",
   "metadata": {},
   "outputs": [],
   "source": [
    "nyc_cd.loc[0, 'geometry']"
   ]
  },
  {
   "cell_type": "code",
   "execution_count": null,
   "id": "8c58c700",
   "metadata": {},
   "outputs": [],
   "source": [
    "print(nyc_cd.loc[0, 'geometry'])"
   ]
  },
  {
   "cell_type": "code",
   "execution_count": null,
   "id": "dc701a7a",
   "metadata": {},
   "outputs": [],
   "source": [
    "nyc_cd.plot();"
   ]
  },
  {
   "cell_type": "code",
   "execution_count": null,
   "id": "937f5660",
   "metadata": {},
   "outputs": [],
   "source": [
    "leg_kwds = {'title': 'New York City Community Districts', 'loc': 'upper left', \n",
    "            'bbox_to_anchor': (1, 1.03), 'ncol': 2}\n",
    "\n",
    "nyc_cd.plot(column = 'boro_cd', figsize=(10, 10),\n",
    "              edgecolor = 'black',\n",
    "              legend = True, legend_kwds = leg_kwds, \n",
    "              cmap = 'Set2')\n",
    "plt.show()"
   ]
  },
  {
   "cell_type": "code",
   "execution_count": null,
   "id": "d717a8b9",
   "metadata": {},
   "outputs": [],
   "source": [
    "nyc_restaurants = pd.read_csv('../data/DOHMH_New_York_City_Restaurant_Inspection_Results.csv')\n",
    "print(nyc_restaurants.shape)\n",
    "nyc_restaurants.head(3)"
   ]
  },
  {
   "cell_type": "code",
   "execution_count": null,
   "id": "89029299",
   "metadata": {},
   "outputs": [],
   "source": [
    "nyc_restaurants.info()"
   ]
  },
  {
   "cell_type": "code",
   "execution_count": null,
   "id": "8248a46a",
   "metadata": {},
   "outputs": [],
   "source": [
    "nyc_restaurants['geometry'] = nyc_restaurants.apply(lambda x: Point((x.Longitude, \n",
    "                                                         x.Latitude)), \n",
    "                                        axis=1)\n",
    "nyc_restaurants.head(3)"
   ]
  },
  {
   "cell_type": "code",
   "execution_count": null,
   "id": "3d19cfb8",
   "metadata": {},
   "outputs": [],
   "source": [
    "nyc_cd.crs"
   ]
  },
  {
   "cell_type": "code",
   "execution_count": null,
   "id": "434a63fd",
   "metadata": {},
   "outputs": [],
   "source": [
    "restaurants_geo = gpd.GeoDataFrame(nyc_restaurants, \n",
    "                           crs = nyc_cd.crs, \n",
    "                           geometry = nyc_restaurants['geometry'])"
   ]
  },
  {
   "cell_type": "code",
   "execution_count": null,
   "id": "e8e31d13",
   "metadata": {},
   "outputs": [],
   "source": [
    "type(restaurants_geo)"
   ]
  },
  {
   "cell_type": "code",
   "execution_count": null,
   "id": "c45b60cc",
   "metadata": {},
   "outputs": [],
   "source": [
    "nyc_cd = nyc_cd[['boro_cd', 'geometry']]"
   ]
  },
  {
   "cell_type": "code",
   "execution_count": null,
   "id": "2aa75009",
   "metadata": {},
   "outputs": [],
   "source": [
    "restaurants_cd = gpd.sjoin(restaurants_geo, nyc_cd , op = 'within')"
   ]
  },
  {
   "cell_type": "code",
   "execution_count": null,
   "id": "03907d3b",
   "metadata": {},
   "outputs": [],
   "source": [
    "restaurants_cd.head()"
   ]
  },
  {
   "cell_type": "code",
   "execution_count": null,
   "id": "3afc6425",
   "metadata": {
    "scrolled": true
   },
   "outputs": [],
   "source": [
    "restaurants_cd['Community_District'].value_counts()"
   ]
  },
  {
   "cell_type": "code",
   "execution_count": null,
   "id": "eaa0e49f",
   "metadata": {},
   "outputs": [],
   "source": [
    "restaurants_cd.boro_cd.value_counts()"
   ]
  },
  {
   "cell_type": "markdown",
   "id": "da8dc363",
   "metadata": {},
   "source": [
    "Community District 111"
   ]
  },
  {
   "cell_type": "code",
   "execution_count": null,
   "id": "b050c060",
   "metadata": {},
   "outputs": [],
   "source": [
    "restaurants_111 = restaurants_cd.loc[restaurants_cd['boro_cd'] == '111']\n",
    "restaurants_111.shape  "
   ]
  },
  {
   "cell_type": "code",
   "execution_count": null,
   "id": "9b421c30",
   "metadata": {},
   "outputs": [],
   "source": [
    "polygon_111 = restaurants_cd.loc[restaurants_cd['boro_cd']=='111']\n",
    "polygon_111.shape"
   ]
  },
  {
   "cell_type": "code",
   "execution_count": null,
   "id": "7888753b",
   "metadata": {},
   "outputs": [],
   "source": [
    "ax = polygon_111.plot(figsize = (8, 10), color = 'lightgreen')\n",
    "restaurants_111.plot( ax = ax, column = 'boro_cd');\n",
    "plt.show();"
   ]
  },
  {
   "cell_type": "code",
   "execution_count": null,
   "id": "4343c230",
   "metadata": {},
   "outputs": [],
   "source": [
    "polygon_111.centroid"
   ]
  },
  {
   "cell_type": "code",
   "execution_count": null,
   "id": "696e3255",
   "metadata": {},
   "outputs": [],
   "source": [
    "center_111 = polygon_111.geometry.centroid[81]"
   ]
  },
  {
   "cell_type": "code",
   "execution_count": null,
   "id": "e927bb2d",
   "metadata": {},
   "outputs": [],
   "source": [
    "area_center_111 = [center_111.y, center_111.x]\n",
    "print(area_center_111)"
   ]
  },
  {
   "cell_type": "code",
   "execution_count": null,
   "id": "d9824d28",
   "metadata": {
    "scrolled": true
   },
   "outputs": [],
   "source": [
    "map_111 = folium.Map(location =  area_center_111, zoom_start = 12)\n",
    "map_111"
   ]
  },
  {
   "cell_type": "code",
   "execution_count": null,
   "id": "ed746ce4",
   "metadata": {},
   "outputs": [],
   "source": [
    "i = 0\n",
    "for row_index, row_values in restaurants_111.iterrows():\n",
    "    if i <3: \n",
    "        print('index is', row_index)\n",
    "        print('values are:')\n",
    "        print(' ')\n",
    "        print(row_values)\n",
    "        print('------------------------- ')\n",
    "        i+=1"
   ]
  },
  {
   "cell_type": "code",
   "execution_count": null,
   "id": "bc3e1b85",
   "metadata": {
    "scrolled": true
   },
   "outputs": [],
   "source": [
    "map_111 = folium.Map(location =  area_center_111, zoom_start = 12)\n",
    "\n",
    "folium.GeoJson(polygon_111).add_to(map_111)\n",
    "\n",
    "for row_index, row_values in restaurants_111.iterrows():\n",
    "    loc = [row_values['Latitude'], row_values['Longitude']]\n",
    "    pop = str(row_values['Restaurant_Name'])\n",
    "    icon=folium.Icon(color=\"blue\",icon=\"cutlery\", prefix='fa')\n",
    "    \n",
    "    marker = folium.Marker(\n",
    "        location = loc, \n",
    "        popup = pop, icon = icon) \n",
    "    \n",
    "    marker.add_to(map_111)\n",
    "map_111.save('../maps/restaurants111.html')\n",
    "\n",
    "map_111"
   ]
  },
  {
   "cell_type": "code",
   "execution_count": null,
   "id": "d1512286",
   "metadata": {},
   "outputs": [],
   "source": [
    "cluster_map_111 = folium.Map(location =  area_center_111, zoom_start = 12)\n",
    "\n",
    "marker_cluster = MarkerCluster().add_to(cluster_map_111)\n",
    "\n",
    "folium.GeoJson(polygon_111).add_to(cluster_map_111)\n",
    "\n",
    "for row_index, row_values in restaurants_111.iterrows():\n",
    "    loc = [row_values['Latitude'], row_values['Longitude']]\n",
    "    pop = str(row_values['Restaurant_Name'])\n",
    "    icon=folium.Icon(color=\"blue\",icon=\"cutlery\", prefix='fa')\n",
    "    \n",
    "    marker = folium.Marker(\n",
    "        location = loc, \n",
    "        popup = pop,\n",
    "    icon = icon) \n",
    "    \n",
    "    marker.add_to(marker_cluster)\n",
    "\n",
    "cluster_map_111.save('../maps/cluster111restaurants.html')\n",
    "\n",
    "cluster_map_111"
   ]
  },
  {
   "cell_type": "markdown",
   "id": "ee045dd5",
   "metadata": {},
   "source": [
    "Community District 205"
   ]
  },
  {
   "cell_type": "code",
   "execution_count": null,
   "id": "5599a371",
   "metadata": {},
   "outputs": [],
   "source": [
    "restaurants_205 = restaurants_cd.loc[restaurants_cd['boro_cd'] == '205']\n",
    "restaurants_205.shape  "
   ]
  },
  {
   "cell_type": "code",
   "execution_count": null,
   "id": "4cfd43ec",
   "metadata": {},
   "outputs": [],
   "source": [
    "polygon_205 = restaurants_cd.loc[restaurants_cd['boro_cd']=='205']\n",
    "polygon_205.shape"
   ]
  },
  {
   "cell_type": "code",
   "execution_count": null,
   "id": "ba23f045",
   "metadata": {},
   "outputs": [],
   "source": [
    "ax = polygon_205.plot(figsize = (8, 10), color = 'lightgreen')\n",
    "restaurants_205.plot( ax = ax, column = 'boro_cd');\n",
    "plt.show();"
   ]
  },
  {
   "cell_type": "code",
   "execution_count": null,
   "id": "c629e177",
   "metadata": {},
   "outputs": [],
   "source": [
    "polygon_205.centroid"
   ]
  },
  {
   "cell_type": "code",
   "execution_count": null,
   "id": "966cebce",
   "metadata": {},
   "outputs": [],
   "source": [
    "center_205 = polygon_205.geometry.centroid[301004]"
   ]
  },
  {
   "cell_type": "code",
   "execution_count": null,
   "id": "7ecbb0c3",
   "metadata": {},
   "outputs": [],
   "source": [
    "area_center_205 = [center_205.y, center_205.x]\n",
    "print(area_center_205)"
   ]
  },
  {
   "cell_type": "code",
   "execution_count": null,
   "id": "7aaa9dd9",
   "metadata": {},
   "outputs": [],
   "source": [
    "i = 0\n",
    "for row_index, row_values in restaurants_205.iterrows():\n",
    "    if i <3: \n",
    "        print('index is', row_index)\n",
    "        print('values are:')\n",
    "        print(' ')\n",
    "        print(row_values)\n",
    "        print('------------------------- ')\n",
    "        i+=1"
   ]
  },
  {
   "cell_type": "code",
   "execution_count": null,
   "id": "c71d324f",
   "metadata": {},
   "outputs": [],
   "source": [
    "map_205 = folium.Map(location =  area_center_205, zoom_start = 12)\n",
    "\n",
    "folium.GeoJson(polygon_205).add_to(map_205)\n",
    "\n",
    "for row_index, row_values in restaurants_205.iterrows():\n",
    "    loc = [row_values['Latitude'], row_values['Longitude']]\n",
    "    pop = str(row_values['Restaurant_Name'])\n",
    "    icon=folium.Icon(color=\"blue\",icon=\"cutlery\", prefix='fa')\n",
    "    \n",
    "    marker = folium.Marker(\n",
    "        location = loc, \n",
    "        popup = pop, icon = icon) \n",
    "    \n",
    "    marker.add_to(map_205)\n",
    "map_205.save('../maps/restaurants205.html')\n",
    "\n",
    "map_205"
   ]
  },
  {
   "cell_type": "code",
   "execution_count": null,
   "id": "4412b374",
   "metadata": {},
   "outputs": [],
   "source": [
    "cluster_map_205 = folium.Map(location =  area_center_205, zoom_start = 12)\n",
    "\n",
    "marker_cluster = MarkerCluster().add_to(cluster_map_205)\n",
    "\n",
    "folium.GeoJson(polygon_205).add_to(cluster_map_205)\n",
    "\n",
    "for row_index, row_values in restaurants_205.iterrows():\n",
    "    loc = [row_values['Latitude'], row_values['Longitude']]\n",
    "    pop = str(row_values['Restaurant_Name'])\n",
    "    icon=folium.Icon(color=\"blue\",icon=\"cutlery\", prefix='fa')\n",
    "    \n",
    "    marker = folium.Marker(\n",
    "        location = loc, \n",
    "        popup = pop,\n",
    "    icon = icon) \n",
    "    \n",
    "    marker.add_to(marker_cluster)\n",
    "\n",
    "cluster_map_205.save('../maps/cluster205restaurants.html')\n",
    "\n",
    "cluster_map_205"
   ]
  },
  {
   "cell_type": "markdown",
   "id": "028a6a3b",
   "metadata": {},
   "source": [
    "Community District 206"
   ]
  },
  {
   "cell_type": "code",
   "execution_count": null,
   "id": "21900469",
   "metadata": {},
   "outputs": [],
   "source": [
    "restaurants_206 = restaurants_cd.loc[restaurants_cd['boro_cd'] == '206']\n",
    "restaurants_206.shape  "
   ]
  },
  {
   "cell_type": "code",
   "execution_count": null,
   "id": "53b07f36",
   "metadata": {},
   "outputs": [],
   "source": [
    "polygon_206 = restaurants_cd.loc[restaurants_cd['boro_cd']=='206']\n",
    "polygon_206.shape"
   ]
  },
  {
   "cell_type": "code",
   "execution_count": null,
   "id": "0809e268",
   "metadata": {},
   "outputs": [],
   "source": [
    "ax = polygon_206.plot(figsize = (8, 10), color = 'lightgreen')\n",
    "restaurants_206.plot( ax = ax, column = 'boro_cd');\n",
    "plt.show();"
   ]
  },
  {
   "cell_type": "code",
   "execution_count": null,
   "id": "0462ea6a",
   "metadata": {},
   "outputs": [],
   "source": [
    "polygon_206.centroid"
   ]
  },
  {
   "cell_type": "code",
   "execution_count": null,
   "id": "5a138eab",
   "metadata": {},
   "outputs": [],
   "source": [
    "center_206 = polygon_206.geometry.centroid[301383]"
   ]
  },
  {
   "cell_type": "code",
   "execution_count": null,
   "id": "4ad6103b",
   "metadata": {},
   "outputs": [],
   "source": [
    "area_center_206 = [center_206.y, center_206.x]\n",
    "print(area_center_206)"
   ]
  },
  {
   "cell_type": "code",
   "execution_count": null,
   "id": "8b451b65",
   "metadata": {},
   "outputs": [],
   "source": [
    "i = 0\n",
    "for row_index, row_values in restaurants_206.iterrows():\n",
    "    if i <3: \n",
    "        print('index is', row_index)\n",
    "        print('values are:')\n",
    "        print(' ')\n",
    "        print(row_values)\n",
    "        print('------------------------- ')\n",
    "        i+=1"
   ]
  },
  {
   "cell_type": "code",
   "execution_count": null,
   "id": "6d542004",
   "metadata": {},
   "outputs": [],
   "source": [
    "map_206 = folium.Map(location =  area_center_206, zoom_start = 12)\n",
    "\n",
    "folium.GeoJson(polygon_206).add_to(map_206)\n",
    "\n",
    "for row_index, row_values in restaurants_206.iterrows():\n",
    "    loc = [row_values['Latitude'], row_values['Longitude']]\n",
    "    pop = str(row_values['Restaurant_Name'])\n",
    "    icon=folium.Icon(color=\"blue\",icon=\"cutlery\", prefix='fa')\n",
    "    \n",
    "    marker = folium.Marker(\n",
    "        location = loc, \n",
    "        popup = pop, icon = icon) \n",
    "    \n",
    "    marker.add_to(map_206)\n",
    "map_206.save('../maps/restaurants206.html')\n",
    "\n",
    "map_206"
   ]
  },
  {
   "cell_type": "code",
   "execution_count": null,
   "id": "91f110e8",
   "metadata": {},
   "outputs": [],
   "source": [
    "cluster_map_206 = folium.Map(location =  area_center_206, zoom_start = 12)\n",
    "\n",
    "marker_cluster = MarkerCluster().add_to(cluster_map_206)\n",
    "\n",
    "folium.GeoJson(polygon_206).add_to(cluster_map_206)\n",
    "\n",
    "for row_index, row_values in restaurants_206.iterrows():\n",
    "    loc = [row_values['Latitude'], row_values['Longitude']]\n",
    "    pop = str(row_values['Restaurant_Name'])\n",
    "    icon=folium.Icon(color=\"blue\",icon=\"cutlery\", prefix='fa')\n",
    "    \n",
    "    marker = folium.Marker(\n",
    "        location = loc, \n",
    "        popup = pop,\n",
    "    icon = icon) \n",
    "    \n",
    "    marker.add_to(marker_cluster)\n",
    "\n",
    "cluster_map_206.save('../maps/cluster206restaurants.html')\n",
    "\n",
    "cluster_map_206"
   ]
  },
  {
   "cell_type": "markdown",
   "id": "dcaac2e6",
   "metadata": {},
   "source": [
    "Community District 305"
   ]
  },
  {
   "cell_type": "code",
   "execution_count": null,
   "id": "b76890fb",
   "metadata": {},
   "outputs": [],
   "source": [
    "restaurants_305 = restaurants_cd.loc[restaurants_cd['boro_cd'] == '305']\n",
    "restaurants_305.shape  "
   ]
  },
  {
   "cell_type": "code",
   "execution_count": null,
   "id": "eb2433cd",
   "metadata": {},
   "outputs": [],
   "source": [
    "polygon_305 = restaurants_cd.loc[restaurants_cd['boro_cd']=='305']\n",
    "polygon_305.shape"
   ]
  },
  {
   "cell_type": "code",
   "execution_count": null,
   "id": "2def1dff",
   "metadata": {},
   "outputs": [],
   "source": [
    "ax = polygon_305.plot(figsize = (8, 10), color = 'lightgreen')\n",
    "restaurants_305.plot( ax = ax, column = 'boro_cd');\n",
    "plt.show();"
   ]
  },
  {
   "cell_type": "code",
   "execution_count": null,
   "id": "fef12687",
   "metadata": {},
   "outputs": [],
   "source": [
    "polygon_305.centroid"
   ]
  },
  {
   "cell_type": "code",
   "execution_count": null,
   "id": "3633a473",
   "metadata": {},
   "outputs": [],
   "source": [
    "center_305 = polygon_305.geometry.centroid[7]"
   ]
  },
  {
   "cell_type": "code",
   "execution_count": null,
   "id": "595967f8",
   "metadata": {},
   "outputs": [],
   "source": [
    "area_center_305 = [center_305.y, center_305.x]\n",
    "print(area_center_305)"
   ]
  },
  {
   "cell_type": "code",
   "execution_count": null,
   "id": "738d4088",
   "metadata": {},
   "outputs": [],
   "source": [
    "i = 0\n",
    "for row_index, row_values in restaurants_305.iterrows():\n",
    "    if i <3: \n",
    "        print('index is', row_index)\n",
    "        print('values are:')\n",
    "        print(' ')\n",
    "        print(row_values)\n",
    "        print('------------------------- ')\n",
    "        i+=1"
   ]
  },
  {
   "cell_type": "code",
   "execution_count": null,
   "id": "c5660fdf",
   "metadata": {},
   "outputs": [],
   "source": [
    "map_305 = folium.Map(location =  area_center_305, zoom_start = 12)\n",
    "\n",
    "folium.GeoJson(polygon_305).add_to(map_305)\n",
    "\n",
    "for row_index, row_values in restaurants_305.iterrows():\n",
    "    loc = [row_values['Latitude'], row_values['Longitude']]\n",
    "    pop = str(row_values['Restaurant_Name'])\n",
    "    icon=folium.Icon(color=\"blue\",icon=\"cutlery\", prefix='fa')\n",
    "    \n",
    "    marker = folium.Marker(\n",
    "        location = loc, \n",
    "        popup = pop, icon = icon) \n",
    "    \n",
    "    marker.add_to(map_305)\n",
    "map_305.save('../maps/restaurants305.html')\n",
    "\n",
    "map_305"
   ]
  },
  {
   "cell_type": "code",
   "execution_count": null,
   "id": "ce7d61e3",
   "metadata": {},
   "outputs": [],
   "source": [
    "cluster_map_305 = folium.Map(location =  area_center_305, zoom_start = 12)\n",
    "\n",
    "marker_cluster = MarkerCluster().add_to(cluster_map_305)\n",
    "\n",
    "folium.GeoJson(polygon_305).add_to(cluster_map_305)\n",
    "\n",
    "for row_index, row_values in restaurants_305.iterrows():\n",
    "    loc = [row_values['Latitude'], row_values['Longitude']]\n",
    "    pop = str(row_values['Restaurant_Name'])\n",
    "    icon=folium.Icon(color=\"blue\",icon=\"cutlery\", prefix='fa')\n",
    "    \n",
    "    marker = folium.Marker(\n",
    "        location = loc, \n",
    "        popup = pop,\n",
    "    icon = icon) \n",
    "    \n",
    "    marker.add_to(marker_cluster)\n",
    "\n",
    "cluster_map_305.save('../maps/cluster305restaurants.html')\n",
    "\n",
    "cluster_map_305"
   ]
  },
  {
   "cell_type": "markdown",
   "id": "96690c0b",
   "metadata": {},
   "source": [
    "Community District 316"
   ]
  },
  {
   "cell_type": "code",
   "execution_count": null,
   "id": "cda34800",
   "metadata": {},
   "outputs": [],
   "source": [
    "restaurants_316 = restaurants_cd.loc[restaurants_cd['boro_cd'] == '316']\n",
    "restaurants_316.shape  "
   ]
  },
  {
   "cell_type": "code",
   "execution_count": null,
   "id": "1dba85d9",
   "metadata": {},
   "outputs": [],
   "source": [
    "polygon_316 = restaurants_cd.loc[restaurants_cd['boro_cd']=='316']\n",
    "polygon_316.shape"
   ]
  },
  {
   "cell_type": "code",
   "execution_count": null,
   "id": "855846e2",
   "metadata": {},
   "outputs": [],
   "source": [
    "ax = polygon_316.plot(figsize = (8, 10), color = 'lightgreen')\n",
    "restaurants_316.plot( ax = ax, column = 'boro_cd');\n",
    "plt.show();"
   ]
  },
  {
   "cell_type": "code",
   "execution_count": null,
   "id": "8ec81942",
   "metadata": {},
   "outputs": [],
   "source": [
    "polygon_316.centroid"
   ]
  },
  {
   "cell_type": "code",
   "execution_count": null,
   "id": "7eca6e0d",
   "metadata": {},
   "outputs": [],
   "source": [
    "center_316 = polygon_316.geometry.centroid[96]"
   ]
  },
  {
   "cell_type": "code",
   "execution_count": null,
   "id": "2ca0d4e8",
   "metadata": {},
   "outputs": [],
   "source": [
    "area_center_316 = [center_316.y, center_316.x]\n",
    "print(area_center_316)"
   ]
  },
  {
   "cell_type": "code",
   "execution_count": null,
   "id": "1b02b12c",
   "metadata": {},
   "outputs": [],
   "source": [
    "i = 0\n",
    "for row_index, row_values in restaurants_316.iterrows():\n",
    "    if i <3: \n",
    "        print('index is', row_index)\n",
    "        print('values are:')\n",
    "        print(' ')\n",
    "        print(row_values)\n",
    "        print('------------------------- ')\n",
    "        i+=1"
   ]
  },
  {
   "cell_type": "code",
   "execution_count": null,
   "id": "5e5a5a24",
   "metadata": {},
   "outputs": [],
   "source": [
    "map_316 = folium.Map(location =  area_center_316, zoom_start = 12)\n",
    "\n",
    "folium.GeoJson(polygon_316).add_to(map_316)\n",
    "\n",
    "for row_index, row_values in restaurants_316.iterrows():\n",
    "    loc = [row_values['Latitude'], row_values['Longitude']]\n",
    "    pop = str(row_values['Restaurant_Name'])\n",
    "    icon=folium.Icon(color=\"blue\",icon=\"cutlery\", prefix='fa')\n",
    "    \n",
    "    marker = folium.Marker(\n",
    "        location = loc, \n",
    "        popup = pop, icon = icon) \n",
    "    \n",
    "    marker.add_to(map_316)\n",
    "map_316.save('../maps/restaurants316.html')\n",
    "\n",
    "map_316"
   ]
  },
  {
   "cell_type": "code",
   "execution_count": null,
   "id": "100d6f63",
   "metadata": {},
   "outputs": [],
   "source": [
    "cluster_map_316 = folium.Map(location =  area_center_316, zoom_start = 12)\n",
    "\n",
    "marker_cluster = MarkerCluster().add_to(cluster_map_316)\n",
    "\n",
    "folium.GeoJson(polygon_316).add_to(cluster_map_316)\n",
    "\n",
    "for row_index, row_values in restaurants_316.iterrows():\n",
    "    loc = [row_values['Latitude'], row_values['Longitude']]\n",
    "    pop = str(row_values['Restaurant_Name'])\n",
    "    icon=folium.Icon(color=\"blue\",icon=\"cutlery\", prefix='fa')\n",
    "    \n",
    "    marker = folium.Marker(\n",
    "        location = loc, \n",
    "        popup = pop,\n",
    "    icon = icon) \n",
    "    \n",
    "    marker.add_to(marker_cluster)\n",
    "\n",
    "cluster_map_316.save('../maps/cluster316restaurants.html')\n",
    "\n",
    "cluster_map_316"
   ]
  },
  {
   "cell_type": "markdown",
   "id": "17405830",
   "metadata": {},
   "source": [
    "Community District 318"
   ]
  },
  {
   "cell_type": "code",
   "execution_count": null,
   "id": "2422e2be",
   "metadata": {},
   "outputs": [],
   "source": [
    "restaurants_318 = restaurants_cd.loc[restaurants_cd['boro_cd'] == '318']\n",
    "restaurants_318.shape  "
   ]
  },
  {
   "cell_type": "code",
   "execution_count": null,
   "id": "12eaab68",
   "metadata": {},
   "outputs": [],
   "source": [
    "polygon_318 = restaurants_cd.loc[restaurants_cd['boro_cd']=='318']\n",
    "polygon_318.shape"
   ]
  },
  {
   "cell_type": "code",
   "execution_count": null,
   "id": "92604f98",
   "metadata": {},
   "outputs": [],
   "source": [
    "ax = polygon_318.plot(figsize = (8, 10), color = 'lightgreen')\n",
    "restaurants_318.plot( ax = ax, column = 'boro_cd');\n",
    "plt.show();"
   ]
  },
  {
   "cell_type": "code",
   "execution_count": null,
   "id": "81190ce2",
   "metadata": {},
   "outputs": [],
   "source": [
    "polygon_318.centroid"
   ]
  },
  {
   "cell_type": "code",
   "execution_count": null,
   "id": "4c79c986",
   "metadata": {},
   "outputs": [],
   "source": [
    "center_318 = polygon_318.geometry.centroid[186]"
   ]
  },
  {
   "cell_type": "code",
   "execution_count": null,
   "id": "ad8791f8",
   "metadata": {},
   "outputs": [],
   "source": [
    "area_center_318 = [center_318.y, center_318.x]\n",
    "print(area_center_318)"
   ]
  },
  {
   "cell_type": "code",
   "execution_count": null,
   "id": "64514ddc",
   "metadata": {},
   "outputs": [],
   "source": [
    "i = 0\n",
    "for row_index, row_values in restaurants_318.iterrows():\n",
    "    if i <3: \n",
    "        print('index is', row_index)\n",
    "        print('values are:')\n",
    "        print(' ')\n",
    "        print(row_values)\n",
    "        print('------------------------- ')\n",
    "        i+=1"
   ]
  },
  {
   "cell_type": "code",
   "execution_count": null,
   "id": "090df93d",
   "metadata": {},
   "outputs": [],
   "source": [
    "map_318 = folium.Map(location =  area_center_318, zoom_start = 12)\n",
    "\n",
    "folium.GeoJson(polygon_318).add_to(map_318)\n",
    "\n",
    "for row_index, row_values in restaurants_318.iterrows():\n",
    "    loc = [row_values['Latitude'], row_values['Longitude']]\n",
    "    pop = str(row_values['Restaurant_Name'])\n",
    "    icon=folium.Icon(color=\"blue\",icon=\"cutlery\", prefix='fa')\n",
    "    \n",
    "    marker = folium.Marker(\n",
    "        location = loc, \n",
    "        popup = pop, icon = icon) \n",
    "    \n",
    "    marker.add_to(map_318)\n",
    "map_318.save('../maps/restaurants318.html')\n",
    "\n",
    "map_318"
   ]
  },
  {
   "cell_type": "code",
   "execution_count": null,
   "id": "4c31a2df",
   "metadata": {},
   "outputs": [],
   "source": [
    "cluster_map_318 = folium.Map(location =  area_center_318, zoom_start = 12)\n",
    "\n",
    "marker_cluster = MarkerCluster().add_to(cluster_map_318)\n",
    "\n",
    "folium.GeoJson(polygon_318).add_to(cluster_map_318)\n",
    "\n",
    "for row_index, row_values in restaurants_318.iterrows():\n",
    "    loc = [row_values['Latitude'], row_values['Longitude']]\n",
    "    pop = str(row_values['Restaurant_Name'])\n",
    "    icon=folium.Icon(color=\"blue\",icon=\"cutlery\", prefix='fa')\n",
    "    \n",
    "    marker = folium.Marker(\n",
    "        location = loc, \n",
    "        popup = pop,\n",
    "    icon = icon) \n",
    "    \n",
    "    marker.add_to(marker_cluster)\n",
    "\n",
    "cluster_map_318.save('../maps/cluster318restaurants.html')\n",
    "\n",
    "cluster_map_318"
   ]
  },
  {
   "cell_type": "markdown",
   "id": "41b54fc4",
   "metadata": {},
   "source": [
    "Community District 410"
   ]
  },
  {
   "cell_type": "code",
   "execution_count": null,
   "id": "4ea51e58",
   "metadata": {},
   "outputs": [],
   "source": [
    "restaurants_410 = restaurants_cd.loc[restaurants_cd['boro_cd'] == '410']\n",
    "restaurants_410.shape  "
   ]
  },
  {
   "cell_type": "code",
   "execution_count": null,
   "id": "e574dc03",
   "metadata": {},
   "outputs": [],
   "source": [
    "polygon_410 = restaurants_cd.loc[restaurants_cd['boro_cd']=='410.0']\n",
    "polygon_410.shape"
   ]
  },
  {
   "cell_type": "code",
   "execution_count": null,
   "id": "373dcbac",
   "metadata": {},
   "outputs": [],
   "source": [
    "ax = polygon_410.plot(figsize = (8, 10), color = 'lightgreen')\n",
    "restaurants_410.plot( ax = ax, column = 'boro_cd');\n",
    "plt.show();"
   ]
  },
  {
   "cell_type": "code",
   "execution_count": null,
   "id": "a496e41a",
   "metadata": {},
   "outputs": [],
   "source": [
    "polygon_410.centroid"
   ]
  },
  {
   "cell_type": "code",
   "execution_count": null,
   "id": "2bad0a7d",
   "metadata": {},
   "outputs": [],
   "source": [
    "center_410 = polygon_410.geometry.centroid[]"
   ]
  },
  {
   "cell_type": "code",
   "execution_count": null,
   "id": "0bb9c51b",
   "metadata": {},
   "outputs": [],
   "source": [
    "area_center_410 = ['40.67','-73.83']\n",
    "print(area_center_410)"
   ]
  },
  {
   "cell_type": "code",
   "execution_count": null,
   "id": "da534d87",
   "metadata": {},
   "outputs": [],
   "source": [
    "i = 0\n",
    "for row_index, row_values in restaurants_410.iterrows():\n",
    "    if i <3: \n",
    "        print('index is', row_index)\n",
    "        print('values are:')\n",
    "        print(' ')\n",
    "        print(row_values)\n",
    "        print('------------------------- ')\n",
    "        i+=1"
   ]
  },
  {
   "cell_type": "code",
   "execution_count": null,
   "id": "84bdabd0",
   "metadata": {},
   "outputs": [],
   "source": [
    "map_410 = folium.Map(location =  area_center_410, zoom_start = 12)\n",
    "\n",
    "folium.GeoJson(polygon_410).add_to(map_410)\n",
    "\n",
    "for row_index, row_values in restaurants_410.iterrows():\n",
    "    loc = [row_values['Latitude'], row_values['Longitude']]\n",
    "    pop = str(row_values['Restaurant_Name'])\n",
    "    icon=folium.Icon(color=\"blue\",icon=\"cutlery\", prefix='fa')\n",
    "    \n",
    "    marker = folium.Marker(\n",
    "        location = loc, \n",
    "        popup = pop, icon = icon) \n",
    "    \n",
    "    marker.add_to(map_410)\n",
    "map_410.save('../maps/restaurants410.html')\n",
    "\n",
    "map_410"
   ]
  },
  {
   "cell_type": "code",
   "execution_count": null,
   "id": "ae8d5c82",
   "metadata": {},
   "outputs": [],
   "source": [
    "cluster_map_410 = folium.Map(location =  area_center_410, zoom_start = 12)\n",
    "\n",
    "marker_cluster = MarkerCluster().add_to(cluster_map_410)\n",
    "\n",
    "folium.GeoJson(polygon_410).add_to(cluster_map_410)\n",
    "\n",
    "for row_index, row_values in restaurants_410.iterrows():\n",
    "    loc = [row_values['Latitude'], row_values['Longitude']]\n",
    "    pop = str(row_values['Restaurant_Name'])\n",
    "    icon=folium.Icon(color=\"blue\",icon=\"cutlery\", prefix='fa')\n",
    "    \n",
    "    marker = folium.Marker(\n",
    "        location = loc, \n",
    "        popup = pop,\n",
    "    icon = icon) \n",
    "    \n",
    "    marker.add_to(marker_cluster)\n",
    "\n",
    "cluster_map_410.save('../maps/cluster410restaurants.html')\n",
    "\n",
    "cluster_map_410"
   ]
  },
  {
   "cell_type": "markdown",
   "id": "1b667ec8",
   "metadata": {},
   "source": [
    "Community District 411"
   ]
  },
  {
   "cell_type": "code",
   "execution_count": null,
   "id": "ef37d605",
   "metadata": {},
   "outputs": [],
   "source": [
    "restaurants_411 = restaurants_cd.loc[restaurants_cd['boro_cd'] == '411']\n",
    "restaurants_411.shape  "
   ]
  },
  {
   "cell_type": "code",
   "execution_count": null,
   "id": "680d3ec8",
   "metadata": {},
   "outputs": [],
   "source": [
    "polygon_411 = restaurants_cd.loc[restaurants_cd['boro_cd']=='411']\n",
    "polygon_411.shape"
   ]
  },
  {
   "cell_type": "code",
   "execution_count": null,
   "id": "da0426c1",
   "metadata": {},
   "outputs": [],
   "source": [
    "ax = polygon_411.plot(figsize = (8, 10), color = 'lightgreen')\n",
    "restaurants_411.plot( ax = ax, column = 'boro_cd');\n",
    "plt.show();"
   ]
  },
  {
   "cell_type": "code",
   "execution_count": null,
   "id": "9cc57333",
   "metadata": {},
   "outputs": [],
   "source": [
    "polygon_411.centroid"
   ]
  },
  {
   "cell_type": "code",
   "execution_count": null,
   "id": "82dbf293",
   "metadata": {},
   "outputs": [],
   "source": [
    "center_411 = polygon_411.geometry.centroid[550]"
   ]
  },
  {
   "cell_type": "code",
   "execution_count": null,
   "id": "70edc89e",
   "metadata": {},
   "outputs": [],
   "source": [
    "area_center_411 = [center_411.y, center_411.x]\n",
    "print(area_center_411)"
   ]
  },
  {
   "cell_type": "code",
   "execution_count": null,
   "id": "02c256ee",
   "metadata": {},
   "outputs": [],
   "source": [
    "i = 0\n",
    "for row_index, row_values in restaurants_411.iterrows():\n",
    "    if i <3: \n",
    "        print('index is', row_index)\n",
    "        print('values are:')\n",
    "        print(' ')\n",
    "        print(row_values)\n",
    "        print('------------------------- ')\n",
    "        i+=1"
   ]
  },
  {
   "cell_type": "code",
   "execution_count": null,
   "id": "56ecef44",
   "metadata": {},
   "outputs": [],
   "source": [
    "map_411 = folium.Map(location =  area_center_411, zoom_start = 12)\n",
    "\n",
    "folium.GeoJson(polygon_411).add_to(map_411)\n",
    "\n",
    "for row_index, row_values in restaurants_411.iterrows():\n",
    "    loc = [row_values['Latitude'], row_values['Longitude']]\n",
    "    pop = str(row_values['Restaurant_Name'])\n",
    "    icon=folium.Icon(color=\"blue\",icon=\"cutlery\", prefix='fa')\n",
    "    \n",
    "    marker = folium.Marker(\n",
    "        location = loc, \n",
    "        popup = pop, icon = icon) \n",
    "    \n",
    "    marker.add_to(map_411)\n",
    "map_411.save('../maps/restaurants411.html')\n",
    "\n",
    "map_411"
   ]
  },
  {
   "cell_type": "code",
   "execution_count": null,
   "id": "4a9c7c0b",
   "metadata": {},
   "outputs": [],
   "source": [
    "cluster_map_411 = folium.Map(location =  area_center_411, zoom_start = 12)\n",
    "\n",
    "marker_cluster = MarkerCluster().add_to(cluster_map_411)\n",
    "\n",
    "folium.GeoJson(polygon_411).add_to(cluster_map_411)\n",
    "\n",
    "for row_index, row_values in restaurants_411.iterrows():\n",
    "    loc = [row_values['Latitude'], row_values['Longitude']]\n",
    "    pop = str(row_values['Restaurant_Name'])\n",
    "    icon=folium.Icon(color=\"blue\",icon=\"cutlery\", prefix='fa')\n",
    "    \n",
    "    marker = folium.Marker(\n",
    "        location = loc, \n",
    "        popup = pop,\n",
    "    icon = icon) \n",
    "    \n",
    "    marker.add_to(marker_cluster)\n",
    "\n",
    "cluster_map_411.save('../maps/cluster411restaurants.html')\n",
    "\n",
    "cluster_map_411"
   ]
  },
  {
   "cell_type": "markdown",
   "id": "4748816d",
   "metadata": {},
   "source": [
    "Community District 503"
   ]
  },
  {
   "cell_type": "code",
   "execution_count": null,
   "id": "a96903e3",
   "metadata": {},
   "outputs": [],
   "source": [
    "restaurants_503 = restaurants_cd.loc[restaurants_cd['boro_cd'] == '503']\n",
    "restaurants_503.shape  "
   ]
  },
  {
   "cell_type": "code",
   "execution_count": null,
   "id": "85942e9d",
   "metadata": {},
   "outputs": [],
   "source": [
    "polygon_503 = restaurants_cd.loc[restaurants_cd['boro_cd']=='503']\n",
    "polygon_503.shape"
   ]
  },
  {
   "cell_type": "code",
   "execution_count": null,
   "id": "1583a4b2",
   "metadata": {},
   "outputs": [],
   "source": [
    "ax = polygon_503.plot(figsize = (8, 10), color = 'lightgreen')\n",
    "restaurants_503.plot( ax = ax, column = 'boro_cd');\n",
    "plt.show();"
   ]
  },
  {
   "cell_type": "code",
   "execution_count": null,
   "id": "b48cde19",
   "metadata": {},
   "outputs": [],
   "source": [
    "polygon_503.centroid"
   ]
  },
  {
   "cell_type": "code",
   "execution_count": null,
   "id": "af51e257",
   "metadata": {},
   "outputs": [],
   "source": [
    "center_503 = polygon_503.geometry.centroid[322]"
   ]
  },
  {
   "cell_type": "code",
   "execution_count": null,
   "id": "530919c6",
   "metadata": {},
   "outputs": [],
   "source": [
    "area_center_503 = [center_205.y, center_503.x]\n",
    "print(area_center_503)"
   ]
  },
  {
   "cell_type": "code",
   "execution_count": null,
   "id": "cdc4f1fc",
   "metadata": {},
   "outputs": [],
   "source": [
    "i = 0\n",
    "for row_index, row_values in restaurants_503.iterrows():\n",
    "    if i <3: \n",
    "        print('index is', row_index)\n",
    "        print('values are:')\n",
    "        print(' ')\n",
    "        print(row_values)\n",
    "        print('------------------------- ')\n",
    "        i+=1"
   ]
  },
  {
   "cell_type": "code",
   "execution_count": null,
   "id": "9e403d41",
   "metadata": {},
   "outputs": [],
   "source": [
    "map_503 = folium.Map(location =  area_center_503, zoom_start = 12)\n",
    "\n",
    "folium.GeoJson(polygon_503).add_to(map_503)\n",
    "\n",
    "for row_index, row_values in restaurants_503.iterrows():\n",
    "    loc = [row_values['Latitude'], row_values['Longitude']]\n",
    "    pop = str(row_values['Restaurant_Name'])\n",
    "    icon=folium.Icon(color=\"blue\",icon=\"cutlery\", prefix='fa')\n",
    "    \n",
    "    marker = folium.Marker(\n",
    "        location = loc, \n",
    "        popup = pop, icon = icon) \n",
    "    \n",
    "    marker.add_to(map_503)\n",
    "map_503.save('../maps/restaurants503.html')\n",
    "\n",
    "map_503"
   ]
  },
  {
   "cell_type": "code",
   "execution_count": null,
   "id": "1440d668",
   "metadata": {},
   "outputs": [],
   "source": [
    "cluster_map_503 = folium.Map(location =  area_center_503, zoom_start = 12)\n",
    "\n",
    "marker_cluster = MarkerCluster().add_to(cluster_map_503)\n",
    "\n",
    "folium.GeoJson(polygon_503).add_to(cluster_map_503)\n",
    "\n",
    "for row_index, row_values in restaurants_503.iterrows():\n",
    "    loc = [row_values['Latitude'], row_values['Longitude']]\n",
    "    pop = str(row_values['Restaurant_Name'])\n",
    "    icon=folium.Icon(color=\"blue\",icon=\"cutlery\", prefix='fa')\n",
    "    \n",
    "    marker = folium.Marker(\n",
    "        location = loc, \n",
    "        popup = pop,\n",
    "    icon = icon) \n",
    "    \n",
    "    marker.add_to(marker_cluster)\n",
    "\n",
    "cluster_map_503.save('../maps/cluster503restaurants.html')\n",
    "\n",
    "cluster_map_503"
   ]
  },
  {
   "cell_type": "code",
   "execution_count": null,
   "id": "9f48b944",
   "metadata": {},
   "outputs": [],
   "source": []
  }
 ],
 "metadata": {
  "kernelspec": {
   "display_name": "Python 3 (ipykernel)",
   "language": "python",
   "name": "python3"
  },
  "language_info": {
   "codemirror_mode": {
    "name": "ipython",
    "version": 3
   },
   "file_extension": ".py",
   "mimetype": "text/x-python",
   "name": "python",
   "nbconvert_exporter": "python",
   "pygments_lexer": "ipython3",
   "version": "3.8.5"
  }
 },
 "nbformat": 4,
 "nbformat_minor": 5
}
