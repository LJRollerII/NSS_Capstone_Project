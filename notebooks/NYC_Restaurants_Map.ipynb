{
 "cells": [
  {
   "cell_type": "code",
   "execution_count": null,
   "id": "69ce8007",
   "metadata": {},
   "outputs": [],
   "source": [
    "from shapely.geometry import Point\n",
    "import pandas as pd\n",
    "import geopandas as gpd\n",
    "import matplotlib.pyplot as plt\n",
    "import folium\n",
    "from folium.plugins import MarkerCluster\n",
    "from folium.plugins import FastMarkerCluster"
   ]
  },
  {
   "cell_type": "code",
   "execution_count": null,
   "id": "641aaaf9",
   "metadata": {},
   "outputs": [],
   "source": [
    "nyc_cd = gpd.read_file('../data/Community_Districts.geojson')\n",
    "print(nyc_cd.crs)\n",
    "nyc_cd.head()"
   ]
  },
  {
   "cell_type": "code",
   "execution_count": null,
   "id": "d3cc7f92",
   "metadata": {},
   "outputs": [],
   "source": [
    "type(nyc_cd)"
   ]
  },
  {
   "cell_type": "code",
   "execution_count": null,
   "id": "d112f252",
   "metadata": {},
   "outputs": [],
   "source": [
    "nyc_cd.loc[0, 'geometry']"
   ]
  },
  {
   "cell_type": "code",
   "execution_count": null,
   "id": "df21dcb6",
   "metadata": {},
   "outputs": [],
   "source": [
    "print(nyc_cd.loc[0, 'geometry'])"
   ]
  },
  {
   "cell_type": "code",
   "execution_count": null,
   "id": "65ae6dc7",
   "metadata": {},
   "outputs": [],
   "source": [
    "nyc_cd.plot();"
   ]
  },
  {
   "cell_type": "code",
   "execution_count": null,
   "id": "1c297c4c",
   "metadata": {},
   "outputs": [],
   "source": [
    "leg_kwds = {'title': 'New York City Community Districts', 'loc': 'upper left', \n",
    "            'bbox_to_anchor': (1, 1.03), 'ncol': 2}\n",
    "\n",
    "nyc_cd.plot(column = 'boro_cd', figsize=(10, 10),\n",
    "              edgecolor = 'black',\n",
    "              legend = True, legend_kwds = leg_kwds, \n",
    "              cmap = 'Set2')\n",
    "plt.show()"
   ]
  },
  {
   "cell_type": "code",
   "execution_count": null,
   "id": "4273ed8b",
   "metadata": {},
   "outputs": [],
   "source": [
    "nyc_restaurants = pd.read_csv('../data/DOHMH_New_York_City_Restaurant_Inspection_Results.csv')\n",
    "print(nyc_restaurants.shape)\n",
    "nyc_restaurants.head(3)"
   ]
  },
  {
   "cell_type": "code",
   "execution_count": null,
   "id": "ae4c039f",
   "metadata": {},
   "outputs": [],
   "source": [
    "nyc_restaurants.info()"
   ]
  },
  {
   "cell_type": "code",
   "execution_count": null,
   "id": "58e19fb0",
   "metadata": {},
   "outputs": [],
   "source": [
    "nyc_restaurants['geometry'] = nyc_restaurants.apply(lambda x: Point((x.Longitude, \n",
    "                                                         x.Latitude)), \n",
    "                                        axis=1)\n",
    "nyc_restaurants.head(3)"
   ]
  },
  {
   "cell_type": "code",
   "execution_count": null,
   "id": "a46a293c",
   "metadata": {},
   "outputs": [],
   "source": [
    "nyc_cd.crs"
   ]
  },
  {
   "cell_type": "code",
   "execution_count": null,
   "id": "9d332f5c",
   "metadata": {},
   "outputs": [],
   "source": [
    "restaurants_geo = gpd.GeoDataFrame(nyc_restaurants, \n",
    "                           crs = nyc_cd.crs, \n",
    "                           geometry = nyc_restaurants['geometry'])"
   ]
  },
  {
   "cell_type": "code",
   "execution_count": null,
   "id": "0c83ce74",
   "metadata": {},
   "outputs": [],
   "source": [
    "type(restaurants_geo)"
   ]
  },
  {
   "cell_type": "code",
   "execution_count": null,
   "id": "7a88aac3",
   "metadata": {},
   "outputs": [],
   "source": [
    "nyc_cd = nyc_cd[['boro_cd', 'geometry']]"
   ]
  },
  {
   "cell_type": "code",
   "execution_count": null,
   "id": "c1d07f8a",
   "metadata": {},
   "outputs": [],
   "source": [
    "restaurants_cd = gpd.sjoin(restaurants_geo, nyc_cd , op = 'within')"
   ]
  },
  {
   "cell_type": "code",
   "execution_count": null,
   "id": "13ca0d9a",
   "metadata": {},
   "outputs": [],
   "source": [
    "restaurants_cd.head()"
   ]
  },
  {
   "cell_type": "code",
   "execution_count": null,
   "id": "04247633",
   "metadata": {
    "scrolled": true
   },
   "outputs": [],
   "source": [
    "restaurants_cd['Community_District'].value_counts()"
   ]
  },
  {
   "cell_type": "code",
   "execution_count": null,
   "id": "8e61a39d",
   "metadata": {},
   "outputs": [],
   "source": [
    "restaurants_cd.boro_cd.value_counts()"
   ]
  },
  {
   "cell_type": "markdown",
   "id": "5ab2da18",
   "metadata": {},
   "source": [
    "Community District 111"
   ]
  },
  {
   "cell_type": "code",
   "execution_count": null,
   "id": "b5ff60da",
   "metadata": {},
   "outputs": [],
   "source": [
    "restaurants_111 = restaurants_cd.loc[restaurants_cd['boro_cd'] == '111']\n",
    "restaurants_111.shape  "
   ]
  },
  {
   "cell_type": "code",
   "execution_count": null,
   "id": "c2362ca6",
   "metadata": {},
   "outputs": [],
   "source": [
    "polygon_111 = restaurants_cd.loc[restaurants_cd['boro_cd']=='111']\n",
    "polygon_111.shape"
   ]
  },
  {
   "cell_type": "code",
   "execution_count": null,
   "id": "926798ec",
   "metadata": {},
   "outputs": [],
   "source": [
    "ax = polygon_111.plot(figsize = (8, 10), color = 'lightgreen')\n",
    "restaurants_111.plot( ax = ax, column = 'boro_cd');\n",
    "plt.show();"
   ]
  },
  {
   "cell_type": "code",
   "execution_count": null,
   "id": "e796b1b8",
   "metadata": {},
   "outputs": [],
   "source": [
    "polygon_111.centroid"
   ]
  },
  {
   "cell_type": "code",
   "execution_count": null,
   "id": "8fc29ded",
   "metadata": {},
   "outputs": [],
   "source": [
    "center_111 = polygon_111.geometry.centroid[81]"
   ]
  },
  {
   "cell_type": "code",
   "execution_count": null,
   "id": "a0a9ed8f",
   "metadata": {},
   "outputs": [],
   "source": [
    "area_center_111 = [center_111.y, center_111.x]\n",
    "print(area_center_111)"
   ]
  },
  {
   "cell_type": "code",
   "execution_count": null,
   "id": "374471a9",
   "metadata": {
    "scrolled": true
   },
   "outputs": [],
   "source": [
    "map_111 = folium.Map(location =  area_center_111, zoom_start = 12)\n",
    "map_111"
   ]
  },
  {
   "cell_type": "code",
   "execution_count": null,
   "id": "2a905bc9",
   "metadata": {},
   "outputs": [],
   "source": [
    "i = 0\n",
    "for row_index, row_values in restaurants_111.iterrows():\n",
    "    if i <3: \n",
    "        print('index is', row_index)\n",
    "        print('values are:')\n",
    "        print(' ')\n",
    "        print(row_values)\n",
    "        print('------------------------- ')\n",
    "        i+=1"
   ]
  },
  {
   "cell_type": "code",
   "execution_count": null,
   "id": "53388026",
   "metadata": {
    "scrolled": true
   },
   "outputs": [],
   "source": [
    "map_111 = folium.Map(location =  area_center_111, zoom_start = 12)\n",
    "\n",
    "folium.GeoJson(polygon_111).add_to(map_111)\n",
    "\n",
    "for row_index, row_values in restaurants_111.iterrows():\n",
    "    loc = [row_values['Latitude'], row_values['Longitude']]\n",
    "    pop = str(row_values['Restaurant_Name'])\n",
    "    icon=folium.Icon(color=\"blue\",icon=\"cutlery\", prefix='fa')\n",
    "    \n",
    "    marker = folium.Marker(\n",
    "        location = loc, \n",
    "        popup = pop, icon = icon) \n",
    "    \n",
    "    marker.add_to(map_111)\n",
    "map_111.save('../maps/restaurants111.html')\n",
    "\n",
    "map_111"
   ]
  },
  {
   "cell_type": "code",
   "execution_count": null,
   "id": "e8e45c6f",
   "metadata": {},
   "outputs": [],
   "source": [
    "cluster_map_111 = folium.Map(location =  area_center_111, zoom_start = 12)\n",
    "\n",
    "marker_cluster = MarkerCluster().add_to(cluster_map_111)\n",
    "\n",
    "folium.GeoJson(polygon_111).add_to(cluster_map_111)\n",
    "\n",
    "for row_index, row_values in restaurants_111.iterrows():\n",
    "    loc = [row_values['Latitude'], row_values['Longitude']]\n",
    "    pop = str(row_values['Restaurant_Name'])\n",
    "    icon=folium.Icon(color=\"blue\",icon=\"cutlery\", prefix='fa')\n",
    "    \n",
    "    marker = folium.Marker(\n",
    "        location = loc, \n",
    "        popup = pop,\n",
    "    icon = icon) \n",
    "    \n",
    "    marker.add_to(marker_cluster)\n",
    "\n",
    "cluster_map_111.save('../maps/cluster111restaurants.html')\n",
    "\n",
    "cluster_map_111"
   ]
  },
  {
   "cell_type": "markdown",
   "id": "1ff7c9b7",
   "metadata": {},
   "source": [
    "Community District 205"
   ]
  },
  {
   "cell_type": "code",
   "execution_count": null,
   "id": "8d23fc69",
   "metadata": {},
   "outputs": [],
   "source": [
    "restaurants_205 = restaurants_cd.loc[restaurants_cd['boro_cd'] == '205']\n",
    "restaurants_205.shape  "
   ]
  },
  {
   "cell_type": "code",
   "execution_count": null,
   "id": "7deacbb9",
   "metadata": {},
   "outputs": [],
   "source": [
    "polygon_205 = restaurants_cd.loc[restaurants_cd['boro_cd']=='205']\n",
    "polygon_205.shape"
   ]
  },
  {
   "cell_type": "code",
   "execution_count": null,
   "id": "b4025848",
   "metadata": {},
   "outputs": [],
   "source": [
    "ax = polygon_205.plot(figsize = (8, 10), color = 'lightgreen')\n",
    "restaurants_205.plot( ax = ax, column = 'boro_cd');\n",
    "plt.show();"
   ]
  },
  {
   "cell_type": "code",
   "execution_count": null,
   "id": "a5efd8d7",
   "metadata": {},
   "outputs": [],
   "source": [
    "polygon_205.centroid"
   ]
  },
  {
   "cell_type": "code",
   "execution_count": null,
   "id": "97dcd8b8",
   "metadata": {},
   "outputs": [],
   "source": [
    "center_205 = polygon_205.geometry.centroid[301004]"
   ]
  },
  {
   "cell_type": "code",
   "execution_count": null,
   "id": "f1173b44",
   "metadata": {},
   "outputs": [],
   "source": [
    "area_center_205 = [center_205.y, center_205.x]\n",
    "print(area_center_205)"
   ]
  },
  {
   "cell_type": "code",
   "execution_count": null,
   "id": "a9c8dbbf",
   "metadata": {},
   "outputs": [],
   "source": [
    "i = 0\n",
    "for row_index, row_values in restaurants_205.iterrows():\n",
    "    if i <3: \n",
    "        print('index is', row_index)\n",
    "        print('values are:')\n",
    "        print(' ')\n",
    "        print(row_values)\n",
    "        print('------------------------- ')\n",
    "        i+=1"
   ]
  },
  {
   "cell_type": "code",
   "execution_count": null,
   "id": "bb41f02c",
   "metadata": {},
   "outputs": [],
   "source": [
    "map_205 = folium.Map(location =  area_center_205, zoom_start = 12)\n",
    "\n",
    "folium.GeoJson(polygon_205).add_to(map_205)\n",
    "\n",
    "for row_index, row_values in restaurants_205.iterrows():\n",
    "    loc = [row_values['Latitude'], row_values['Longitude']]\n",
    "    pop = str(row_values['Restaurant_Name'])\n",
    "    icon=folium.Icon(color=\"blue\",icon=\"cutlery\", prefix='fa')\n",
    "    \n",
    "    marker = folium.Marker(\n",
    "        location = loc, \n",
    "        popup = pop, icon = icon) \n",
    "    \n",
    "    marker.add_to(map_205)\n",
    "map_205.save('../maps/restaurants205.html')\n",
    "\n",
    "map_205"
   ]
  },
  {
   "cell_type": "code",
   "execution_count": null,
   "id": "b6f05def",
   "metadata": {},
   "outputs": [],
   "source": [
    "cluster_map_205 = folium.Map(location =  area_center_205, zoom_start = 12)\n",
    "\n",
    "marker_cluster = MarkerCluster().add_to(cluster_map_205)\n",
    "\n",
    "folium.GeoJson(polygon_205).add_to(cluster_map_205)\n",
    "\n",
    "for row_index, row_values in restaurants_205.iterrows():\n",
    "    loc = [row_values['Latitude'], row_values['Longitude']]\n",
    "    pop = str(row_values['Restaurant_Name'])\n",
    "    icon=folium.Icon(color=\"blue\",icon=\"cutlery\", prefix='fa')\n",
    "    \n",
    "    marker = folium.Marker(\n",
    "        location = loc, \n",
    "        popup = pop,\n",
    "    icon = icon) \n",
    "    \n",
    "    marker.add_to(marker_cluster)\n",
    "\n",
    "cluster_map_205.save('../maps/cluster205restaurants.html')\n",
    "\n",
    "cluster_map_205"
   ]
  },
  {
   "cell_type": "markdown",
   "id": "52277f33",
   "metadata": {},
   "source": [
    "Community District 206"
   ]
  },
  {
   "cell_type": "code",
   "execution_count": null,
   "id": "cfae4405",
   "metadata": {},
   "outputs": [],
   "source": [
    "restaurants_206 = restaurants_cd.loc[restaurants_cd['boro_cd'] == '206']\n",
    "restaurants_206.shape  "
   ]
  },
  {
   "cell_type": "code",
   "execution_count": null,
   "id": "e4eb54ca",
   "metadata": {},
   "outputs": [],
   "source": [
    "polygon_206 = restaurants_cd.loc[restaurants_cd['boro_cd']=='206']\n",
    "polygon_206.shape"
   ]
  },
  {
   "cell_type": "code",
   "execution_count": null,
   "id": "5704a2fc",
   "metadata": {},
   "outputs": [],
   "source": [
    "ax = polygon_206.plot(figsize = (8, 10), color = 'lightgreen')\n",
    "restaurants_206.plot( ax = ax, column = 'boro_cd');\n",
    "plt.show();"
   ]
  },
  {
   "cell_type": "code",
   "execution_count": null,
   "id": "c074ab1c",
   "metadata": {},
   "outputs": [],
   "source": [
    "polygon_206.centroid"
   ]
  },
  {
   "cell_type": "code",
   "execution_count": null,
   "id": "8bd80d60",
   "metadata": {},
   "outputs": [],
   "source": [
    "center_206 = polygon_206.geometry.centroid[301383]"
   ]
  },
  {
   "cell_type": "code",
   "execution_count": null,
   "id": "2dc7d289",
   "metadata": {},
   "outputs": [],
   "source": [
    "area_center_206 = [center_206.y, center_206.x]\n",
    "print(area_center_206)"
   ]
  },
  {
   "cell_type": "code",
   "execution_count": null,
   "id": "c586aa10",
   "metadata": {},
   "outputs": [],
   "source": [
    "i = 0\n",
    "for row_index, row_values in restaurants_206.iterrows():\n",
    "    if i <3: \n",
    "        print('index is', row_index)\n",
    "        print('values are:')\n",
    "        print(' ')\n",
    "        print(row_values)\n",
    "        print('------------------------- ')\n",
    "        i+=1"
   ]
  },
  {
   "cell_type": "code",
   "execution_count": null,
   "id": "67cd5451",
   "metadata": {},
   "outputs": [],
   "source": [
    "map_206 = folium.Map(location =  area_center_206, zoom_start = 12)\n",
    "\n",
    "folium.GeoJson(polygon_206).add_to(map_206)\n",
    "\n",
    "for row_index, row_values in restaurants_206.iterrows():\n",
    "    loc = [row_values['Latitude'], row_values['Longitude']]\n",
    "    pop = str(row_values['Restaurant_Name'])\n",
    "    icon=folium.Icon(color=\"blue\",icon=\"cutlery\", prefix='fa')\n",
    "    \n",
    "    marker = folium.Marker(\n",
    "        location = loc, \n",
    "        popup = pop, icon = icon) \n",
    "    \n",
    "    marker.add_to(map_206)\n",
    "map_206.save('../maps/restaurants206.html')\n",
    "\n",
    "map_206"
   ]
  },
  {
   "cell_type": "code",
   "execution_count": null,
   "id": "3198d114",
   "metadata": {},
   "outputs": [],
   "source": [
    "cluster_map_206 = folium.Map(location =  area_center_206, zoom_start = 12)\n",
    "\n",
    "marker_cluster = MarkerCluster().add_to(cluster_map_206)\n",
    "\n",
    "folium.GeoJson(polygon_206).add_to(cluster_map_206)\n",
    "\n",
    "for row_index, row_values in restaurants_206.iterrows():\n",
    "    loc = [row_values['Latitude'], row_values['Longitude']]\n",
    "    pop = str(row_values['Restaurant_Name'])\n",
    "    icon=folium.Icon(color=\"blue\",icon=\"cutlery\", prefix='fa')\n",
    "    \n",
    "    marker = folium.Marker(\n",
    "        location = loc, \n",
    "        popup = pop,\n",
    "    icon = icon) \n",
    "    \n",
    "    marker.add_to(marker_cluster)\n",
    "\n",
    "cluster_map_206.save('../maps/cluster206restaurants.html')\n",
    "\n",
    "cluster_map_206"
   ]
  },
  {
   "cell_type": "markdown",
   "id": "2aae2649",
   "metadata": {},
   "source": [
    "Community District 305"
   ]
  },
  {
   "cell_type": "code",
   "execution_count": null,
   "id": "85a64dcb",
   "metadata": {},
   "outputs": [],
   "source": [
    "restaurants_305 = restaurants_cd.loc[restaurants_cd['boro_cd'] == '305']\n",
    "restaurants_305.shape  "
   ]
  },
  {
   "cell_type": "code",
   "execution_count": null,
   "id": "f4a8b330",
   "metadata": {},
   "outputs": [],
   "source": [
    "polygon_305 = restaurants_cd.loc[restaurants_cd['boro_cd']=='305']\n",
    "polygon_305.shape"
   ]
  },
  {
   "cell_type": "code",
   "execution_count": null,
   "id": "5ea2227d",
   "metadata": {},
   "outputs": [],
   "source": [
    "ax = polygon_305.plot(figsize = (8, 10), color = 'lightgreen')\n",
    "restaurants_305.plot( ax = ax, column = 'boro_cd');\n",
    "plt.show();"
   ]
  },
  {
   "cell_type": "code",
   "execution_count": null,
   "id": "ac8316f3",
   "metadata": {},
   "outputs": [],
   "source": [
    "polygon_305.centroid"
   ]
  },
  {
   "cell_type": "code",
   "execution_count": null,
   "id": "bf218b94",
   "metadata": {},
   "outputs": [],
   "source": [
    "center_305 = polygon_305.geometry.centroid[7]"
   ]
  },
  {
   "cell_type": "code",
   "execution_count": null,
   "id": "7e9350cf",
   "metadata": {},
   "outputs": [],
   "source": [
    "area_center_305 = [center_305.y, center_305.x]\n",
    "print(area_center_305)"
   ]
  },
  {
   "cell_type": "code",
   "execution_count": null,
   "id": "51ad9315",
   "metadata": {},
   "outputs": [],
   "source": [
    "i = 0\n",
    "for row_index, row_values in restaurants_305.iterrows():\n",
    "    if i <3: \n",
    "        print('index is', row_index)\n",
    "        print('values are:')\n",
    "        print(' ')\n",
    "        print(row_values)\n",
    "        print('------------------------- ')\n",
    "        i+=1"
   ]
  },
  {
   "cell_type": "code",
   "execution_count": null,
   "id": "01b4346c",
   "metadata": {},
   "outputs": [],
   "source": [
    "map_305 = folium.Map(location =  area_center_305, zoom_start = 12)\n",
    "\n",
    "folium.GeoJson(polygon_305).add_to(map_305)\n",
    "\n",
    "for row_index, row_values in restaurants_305.iterrows():\n",
    "    loc = [row_values['Latitude'], row_values['Longitude']]\n",
    "    pop = str(row_values['Restaurant_Name'])\n",
    "    icon=folium.Icon(color=\"blue\",icon=\"cutlery\", prefix='fa')\n",
    "    \n",
    "    marker = folium.Marker(\n",
    "        location = loc, \n",
    "        popup = pop, icon = icon) \n",
    "    \n",
    "    marker.add_to(map_305)\n",
    "map_305.save('../maps/restaurants305.html')\n",
    "\n",
    "map_305"
   ]
  },
  {
   "cell_type": "code",
   "execution_count": null,
   "id": "7368e817",
   "metadata": {},
   "outputs": [],
   "source": [
    "cluster_map_305 = folium.Map(location =  area_center_305, zoom_start = 12)\n",
    "\n",
    "marker_cluster = MarkerCluster().add_to(cluster_map_305)\n",
    "\n",
    "folium.GeoJson(polygon_305).add_to(cluster_map_305)\n",
    "\n",
    "for row_index, row_values in restaurants_305.iterrows():\n",
    "    loc = [row_values['Latitude'], row_values['Longitude']]\n",
    "    pop = str(row_values['Restaurant_Name'])\n",
    "    icon=folium.Icon(color=\"blue\",icon=\"cutlery\", prefix='fa')\n",
    "    \n",
    "    marker = folium.Marker(\n",
    "        location = loc, \n",
    "        popup = pop,\n",
    "    icon = icon) \n",
    "    \n",
    "    marker.add_to(marker_cluster)\n",
    "\n",
    "cluster_map_305.save('../maps/cluster305restaurants.html')\n",
    "\n",
    "cluster_map_305"
   ]
  },
  {
   "cell_type": "markdown",
   "id": "002d2288",
   "metadata": {},
   "source": [
    "Community District 316"
   ]
  },
  {
   "cell_type": "code",
   "execution_count": null,
   "id": "3a950c21",
   "metadata": {},
   "outputs": [],
   "source": [
    "restaurants_316 = restaurants_cd.loc[restaurants_cd['boro_cd'] == '316']\n",
    "restaurants_316.shape  "
   ]
  },
  {
   "cell_type": "code",
   "execution_count": null,
   "id": "482fc695",
   "metadata": {},
   "outputs": [],
   "source": [
    "polygon_316 = restaurants_cd.loc[restaurants_cd['boro_cd']=='316']\n",
    "polygon_316.shape"
   ]
  },
  {
   "cell_type": "code",
   "execution_count": null,
   "id": "f2e50790",
   "metadata": {},
   "outputs": [],
   "source": [
    "ax = polygon_316.plot(figsize = (8, 10), color = 'lightgreen')\n",
    "restaurants_316.plot( ax = ax, column = 'boro_cd');\n",
    "plt.show();"
   ]
  },
  {
   "cell_type": "code",
   "execution_count": null,
   "id": "e82737f4",
   "metadata": {},
   "outputs": [],
   "source": [
    "polygon_316.centroid"
   ]
  },
  {
   "cell_type": "code",
   "execution_count": null,
   "id": "96d7b59c",
   "metadata": {},
   "outputs": [],
   "source": [
    "center_316 = polygon_316.geometry.centroid[96]"
   ]
  },
  {
   "cell_type": "code",
   "execution_count": null,
   "id": "2c98276a",
   "metadata": {},
   "outputs": [],
   "source": [
    "area_center_316 = [center_316.y, center_316.x]\n",
    "print(area_center_316)"
   ]
  },
  {
   "cell_type": "code",
   "execution_count": null,
   "id": "9a9fd733",
   "metadata": {},
   "outputs": [],
   "source": [
    "i = 0\n",
    "for row_index, row_values in restaurants_316.iterrows():\n",
    "    if i <3: \n",
    "        print('index is', row_index)\n",
    "        print('values are:')\n",
    "        print(' ')\n",
    "        print(row_values)\n",
    "        print('------------------------- ')\n",
    "        i+=1"
   ]
  },
  {
   "cell_type": "code",
   "execution_count": null,
   "id": "04e79b29",
   "metadata": {},
   "outputs": [],
   "source": [
    "map_316 = folium.Map(location =  area_center_316, zoom_start = 12)\n",
    "\n",
    "folium.GeoJson(polygon_316).add_to(map_316)\n",
    "\n",
    "for row_index, row_values in restaurants_316.iterrows():\n",
    "    loc = [row_values['Latitude'], row_values['Longitude']]\n",
    "    pop = str(row_values['Restaurant_Name'])\n",
    "    icon=folium.Icon(color=\"blue\",icon=\"cutlery\", prefix='fa')\n",
    "    \n",
    "    marker = folium.Marker(\n",
    "        location = loc, \n",
    "        popup = pop, icon = icon) \n",
    "    \n",
    "    marker.add_to(map_316)\n",
    "map_316.save('../maps/restaurants316.html')\n",
    "\n",
    "map_316"
   ]
  },
  {
   "cell_type": "code",
   "execution_count": null,
   "id": "2a8085ae",
   "metadata": {},
   "outputs": [],
   "source": [
    "cluster_map_316 = folium.Map(location =  area_center_316, zoom_start = 12)\n",
    "\n",
    "marker_cluster = MarkerCluster().add_to(cluster_map_316)\n",
    "\n",
    "folium.GeoJson(polygon_316).add_to(cluster_map_316)\n",
    "\n",
    "for row_index, row_values in restaurants_316.iterrows():\n",
    "    loc = [row_values['Latitude'], row_values['Longitude']]\n",
    "    pop = str(row_values['Restaurant_Name'])\n",
    "    icon=folium.Icon(color=\"blue\",icon=\"cutlery\", prefix='fa')\n",
    "    \n",
    "    marker = folium.Marker(\n",
    "        location = loc, \n",
    "        popup = pop,\n",
    "    icon = icon) \n",
    "    \n",
    "    marker.add_to(marker_cluster)\n",
    "\n",
    "cluster_map_316.save('../maps/cluster316restaurants.html')\n",
    "\n",
    "cluster_map_316"
   ]
  },
  {
   "cell_type": "markdown",
   "id": "252c97d2",
   "metadata": {},
   "source": [
    "Community District 318"
   ]
  },
  {
   "cell_type": "code",
   "execution_count": null,
   "id": "e831e8a8",
   "metadata": {},
   "outputs": [],
   "source": [
    "restaurants_318 = restaurants_cd.loc[restaurants_cd['boro_cd'] == '318']\n",
    "restaurants_318.shape  "
   ]
  },
  {
   "cell_type": "code",
   "execution_count": null,
   "id": "c3a150a2",
   "metadata": {},
   "outputs": [],
   "source": [
    "polygon_318 = restaurants_cd.loc[restaurants_cd['boro_cd']=='318']\n",
    "polygon_318.shape"
   ]
  },
  {
   "cell_type": "code",
   "execution_count": null,
   "id": "9df85325",
   "metadata": {},
   "outputs": [],
   "source": [
    "ax = polygon_318.plot(figsize = (8, 10), color = 'lightgreen')\n",
    "restaurants_318.plot( ax = ax, column = 'boro_cd');\n",
    "plt.show();"
   ]
  },
  {
   "cell_type": "code",
   "execution_count": null,
   "id": "7424b904",
   "metadata": {},
   "outputs": [],
   "source": [
    "polygon_318.centroid"
   ]
  },
  {
   "cell_type": "code",
   "execution_count": null,
   "id": "5e934555",
   "metadata": {},
   "outputs": [],
   "source": [
    "center_318 = polygon_318.geometry.centroid[186]"
   ]
  },
  {
   "cell_type": "code",
   "execution_count": null,
   "id": "644feaa1",
   "metadata": {},
   "outputs": [],
   "source": [
    "area_center_318 = [center_318.y, center_318.x]\n",
    "print(area_center_318)"
   ]
  },
  {
   "cell_type": "code",
   "execution_count": null,
   "id": "df24454b",
   "metadata": {},
   "outputs": [],
   "source": [
    "i = 0\n",
    "for row_index, row_values in restaurants_318.iterrows():\n",
    "    if i <3: \n",
    "        print('index is', row_index)\n",
    "        print('values are:')\n",
    "        print(' ')\n",
    "        print(row_values)\n",
    "        print('------------------------- ')\n",
    "        i+=1"
   ]
  },
  {
   "cell_type": "code",
   "execution_count": null,
   "id": "aba13f2b",
   "metadata": {},
   "outputs": [],
   "source": [
    "map_318 = folium.Map(location =  area_center_318, zoom_start = 12)\n",
    "\n",
    "folium.GeoJson(polygon_318).add_to(map_318)\n",
    "\n",
    "for row_index, row_values in restaurants_318.iterrows():\n",
    "    loc = [row_values['Latitude'], row_values['Longitude']]\n",
    "    pop = str(row_values['Restaurant_Name'])\n",
    "    icon=folium.Icon(color=\"blue\",icon=\"cutlery\", prefix='fa')\n",
    "    \n",
    "    marker = folium.Marker(\n",
    "        location = loc, \n",
    "        popup = pop, icon = icon) \n",
    "    \n",
    "    marker.add_to(map_318)\n",
    "map_318.save('../maps/restaurants318.html')\n",
    "\n",
    "map_318"
   ]
  },
  {
   "cell_type": "code",
   "execution_count": null,
   "id": "420c7931",
   "metadata": {},
   "outputs": [],
   "source": [
    "cluster_map_318 = folium.Map(location =  area_center_318, zoom_start = 12)\n",
    "\n",
    "marker_cluster = MarkerCluster().add_to(cluster_map_318)\n",
    "\n",
    "folium.GeoJson(polygon_318).add_to(cluster_map_318)\n",
    "\n",
    "for row_index, row_values in restaurants_318.iterrows():\n",
    "    loc = [row_values['Latitude'], row_values['Longitude']]\n",
    "    pop = str(row_values['Restaurant_Name'])\n",
    "    icon=folium.Icon(color=\"blue\",icon=\"cutlery\", prefix='fa')\n",
    "    \n",
    "    marker = folium.Marker(\n",
    "        location = loc, \n",
    "        popup = pop,\n",
    "    icon = icon) \n",
    "    \n",
    "    marker.add_to(marker_cluster)\n",
    "\n",
    "cluster_map_318.save('../maps/cluster318restaurants.html')\n",
    "\n",
    "cluster_map_318"
   ]
  },
  {
   "cell_type": "markdown",
   "id": "4b99389b",
   "metadata": {},
   "source": [
    "Community District 410"
   ]
  },
  {
   "cell_type": "code",
   "execution_count": null,
   "id": "cc2c408f",
   "metadata": {},
   "outputs": [],
   "source": [
    "restaurants_410 = restaurants_cd.loc[restaurants_cd['boro_cd'] == '410']\n",
    "restaurants_410.shape  "
   ]
  },
  {
   "cell_type": "code",
   "execution_count": null,
   "id": "5a0a53bf",
   "metadata": {},
   "outputs": [],
   "source": [
    "polygon_410 = restaurants_cd.loc[restaurants_cd['boro_cd']=='410.0']\n",
    "polygon_410.shape"
   ]
  },
  {
   "cell_type": "code",
   "execution_count": null,
   "id": "f2b5ff4d",
   "metadata": {},
   "outputs": [],
   "source": [
    "ax = polygon_410.plot(figsize = (8, 10), color = 'lightgreen')\n",
    "restaurants_410.plot( ax = ax, column = 'boro_cd');\n",
    "plt.show();"
   ]
  },
  {
   "cell_type": "code",
   "execution_count": null,
   "id": "53735e49",
   "metadata": {},
   "outputs": [],
   "source": [
    "polygon_410.centroid"
   ]
  },
  {
   "cell_type": "code",
   "execution_count": null,
   "id": "00791da7",
   "metadata": {},
   "outputs": [],
   "source": [
    "center_410 = polygon_410.geometry.centroid[]"
   ]
  },
  {
   "cell_type": "code",
   "execution_count": null,
   "id": "33c0e5d0",
   "metadata": {},
   "outputs": [],
   "source": [
    "area_center_410 = [center_205.y, center_410.x]\n",
    "print(area_center_410)"
   ]
  },
  {
   "cell_type": "code",
   "execution_count": null,
   "id": "95687e80",
   "metadata": {},
   "outputs": [],
   "source": [
    "i = 0\n",
    "for row_index, row_values in restaurants_410.iterrows():\n",
    "    if i <3: \n",
    "        print('index is', row_index)\n",
    "        print('values are:')\n",
    "        print(' ')\n",
    "        print(row_values)\n",
    "        print('------------------------- ')\n",
    "        i+=1"
   ]
  },
  {
   "cell_type": "code",
   "execution_count": null,
   "id": "f3ae66ce",
   "metadata": {},
   "outputs": [],
   "source": [
    "map_410 = folium.Map(location =  area_center_410, zoom_start = 12)\n",
    "\n",
    "folium.GeoJson(polygon_410).add_to(map_410)\n",
    "\n",
    "for row_index, row_values in restaurants_410.iterrows():\n",
    "    loc = [row_values['Latitude'], row_values['Longitude']]\n",
    "    pop = str(row_values['Restaurant_Name'])\n",
    "    icon=folium.Icon(color=\"blue\",icon=\"cutlery\", prefix='fa')\n",
    "    \n",
    "    marker = folium.Marker(\n",
    "        location = loc, \n",
    "        popup = pop, icon = icon) \n",
    "    \n",
    "    marker.add_to(map_410)\n",
    "map_410.save('../maps/restaurants410.html')\n",
    "\n",
    "map_410"
   ]
  },
  {
   "cell_type": "code",
   "execution_count": null,
   "id": "5d323bd0",
   "metadata": {},
   "outputs": [],
   "source": [
    "cluster_map_410 = folium.Map(location =  area_center_410, zoom_start = 12)\n",
    "\n",
    "marker_cluster = MarkerCluster().add_to(cluster_map_410)\n",
    "\n",
    "folium.GeoJson(polygon_410).add_to(cluster_map_410)\n",
    "\n",
    "for row_index, row_values in restaurants_410.iterrows():\n",
    "    loc = [row_values['Latitude'], row_values['Longitude']]\n",
    "    pop = str(row_values['Restaurant_Name'])\n",
    "    icon=folium.Icon(color=\"blue\",icon=\"cutlery\", prefix='fa')\n",
    "    \n",
    "    marker = folium.Marker(\n",
    "        location = loc, \n",
    "        popup = pop,\n",
    "    icon = icon) \n",
    "    \n",
    "    marker.add_to(marker_cluster)\n",
    "\n",
    "cluster_map_410.save('../maps/cluster410restaurants.html')\n",
    "\n",
    "cluster_map_410"
   ]
  },
  {
   "cell_type": "markdown",
   "id": "d871f74c",
   "metadata": {},
   "source": [
    "Community District 411"
   ]
  },
  {
   "cell_type": "code",
   "execution_count": null,
   "id": "953c15be",
   "metadata": {},
   "outputs": [],
   "source": [
    "restaurants_411 = restaurants_cd.loc[restaurants_cd['boro_cd'] == '411']\n",
    "restaurants_411.shape  "
   ]
  },
  {
   "cell_type": "code",
   "execution_count": null,
   "id": "2e3b479f",
   "metadata": {},
   "outputs": [],
   "source": [
    "polygon_411 = restaurants_cd.loc[restaurants_cd['boro_cd']=='411']\n",
    "polygon_411.shape"
   ]
  },
  {
   "cell_type": "code",
   "execution_count": null,
   "id": "7b79d0e5",
   "metadata": {},
   "outputs": [],
   "source": [
    "ax = polygon_411.plot(figsize = (8, 10), color = 'lightgreen')\n",
    "restaurants_411.plot( ax = ax, column = 'boro_cd');\n",
    "plt.show();"
   ]
  },
  {
   "cell_type": "code",
   "execution_count": null,
   "id": "2a9171b1",
   "metadata": {},
   "outputs": [],
   "source": [
    "polygon_411.centroid"
   ]
  },
  {
   "cell_type": "code",
   "execution_count": null,
   "id": "ac894cb5",
   "metadata": {},
   "outputs": [],
   "source": [
    "center_411 = polygon_411.geometry.centroid[550]"
   ]
  },
  {
   "cell_type": "code",
   "execution_count": null,
   "id": "2ef7a4fd",
   "metadata": {},
   "outputs": [],
   "source": [
    "area_center_411 = [center_411.y, center_411.x]\n",
    "print(area_center_411)"
   ]
  },
  {
   "cell_type": "code",
   "execution_count": null,
   "id": "90a204f5",
   "metadata": {},
   "outputs": [],
   "source": [
    "i = 0\n",
    "for row_index, row_values in restaurants_411.iterrows():\n",
    "    if i <3: \n",
    "        print('index is', row_index)\n",
    "        print('values are:')\n",
    "        print(' ')\n",
    "        print(row_values)\n",
    "        print('------------------------- ')\n",
    "        i+=1"
   ]
  },
  {
   "cell_type": "code",
   "execution_count": null,
   "id": "838cfa5c",
   "metadata": {},
   "outputs": [],
   "source": [
    "map_411 = folium.Map(location =  area_center_411, zoom_start = 12)\n",
    "\n",
    "folium.GeoJson(polygon_411).add_to(map_411)\n",
    "\n",
    "for row_index, row_values in restaurants_411.iterrows():\n",
    "    loc = [row_values['Latitude'], row_values['Longitude']]\n",
    "    pop = str(row_values['Restaurant_Name'])\n",
    "    icon=folium.Icon(color=\"blue\",icon=\"cutlery\", prefix='fa')\n",
    "    \n",
    "    marker = folium.Marker(\n",
    "        location = loc, \n",
    "        popup = pop, icon = icon) \n",
    "    \n",
    "    marker.add_to(map_411)\n",
    "map_411.save('../maps/restaurants411.html')\n",
    "\n",
    "map_411"
   ]
  },
  {
   "cell_type": "code",
   "execution_count": null,
   "id": "b1d2557a",
   "metadata": {},
   "outputs": [],
   "source": [
    "cluster_map_411 = folium.Map(location =  area_center_411, zoom_start = 12)\n",
    "\n",
    "marker_cluster = MarkerCluster().add_to(cluster_map_411)\n",
    "\n",
    "folium.GeoJson(polygon_411).add_to(cluster_map_411)\n",
    "\n",
    "for row_index, row_values in restaurants_411.iterrows():\n",
    "    loc = [row_values['Latitude'], row_values['Longitude']]\n",
    "    pop = str(row_values['Restaurant_Name'])\n",
    "    icon=folium.Icon(color=\"blue\",icon=\"cutlery\", prefix='fa')\n",
    "    \n",
    "    marker = folium.Marker(\n",
    "        location = loc, \n",
    "        popup = pop,\n",
    "    icon = icon) \n",
    "    \n",
    "    marker.add_to(marker_cluster)\n",
    "\n",
    "cluster_map_411.save('../maps/cluster411restaurants.html')\n",
    "\n",
    "cluster_map_411"
   ]
  },
  {
   "cell_type": "markdown",
   "id": "fe8b4920",
   "metadata": {},
   "source": [
    "Community District 503"
   ]
  },
  {
   "cell_type": "code",
   "execution_count": null,
   "id": "e4527c67",
   "metadata": {},
   "outputs": [],
   "source": [
    "restaurants_503 = restaurants_cd.loc[restaurants_cd['boro_cd'] == '503']\n",
    "restaurants_503.shape  "
   ]
  },
  {
   "cell_type": "code",
   "execution_count": null,
   "id": "a18a84e1",
   "metadata": {},
   "outputs": [],
   "source": [
    "polygon_503 = restaurants_cd.loc[restaurants_cd['boro_cd']=='503']\n",
    "polygon_503.shape"
   ]
  },
  {
   "cell_type": "code",
   "execution_count": null,
   "id": "4c1e4f3c",
   "metadata": {},
   "outputs": [],
   "source": [
    "ax = polygon_503.plot(figsize = (8, 10), color = 'lightgreen')\n",
    "restaurants_503.plot( ax = ax, column = 'boro_cd');\n",
    "plt.show();"
   ]
  },
  {
   "cell_type": "code",
   "execution_count": null,
   "id": "0100abf2",
   "metadata": {},
   "outputs": [],
   "source": [
    "polygon_503.centroid"
   ]
  },
  {
   "cell_type": "code",
   "execution_count": null,
   "id": "ec874340",
   "metadata": {},
   "outputs": [],
   "source": [
    "center_503 = polygon_503.geometry.centroid[322]"
   ]
  },
  {
   "cell_type": "code",
   "execution_count": null,
   "id": "db550a4c",
   "metadata": {},
   "outputs": [],
   "source": [
    "area_center_503 = [center_205.y, center_503.x]\n",
    "print(area_center_503)"
   ]
  },
  {
   "cell_type": "code",
   "execution_count": null,
   "id": "1135ed72",
   "metadata": {},
   "outputs": [],
   "source": [
    "i = 0\n",
    "for row_index, row_values in restaurants_503.iterrows():\n",
    "    if i <3: \n",
    "        print('index is', row_index)\n",
    "        print('values are:')\n",
    "        print(' ')\n",
    "        print(row_values)\n",
    "        print('------------------------- ')\n",
    "        i+=1"
   ]
  },
  {
   "cell_type": "code",
   "execution_count": null,
   "id": "5042f52b",
   "metadata": {},
   "outputs": [],
   "source": [
    "map_503 = folium.Map(location =  area_center_503, zoom_start = 12)\n",
    "\n",
    "folium.GeoJson(polygon_503).add_to(map_503)\n",
    "\n",
    "for row_index, row_values in restaurants_503.iterrows():\n",
    "    loc = [row_values['Latitude'], row_values['Longitude']]\n",
    "    pop = str(row_values['Restaurant_Name'])\n",
    "    icon=folium.Icon(color=\"blue\",icon=\"cutlery\", prefix='fa')\n",
    "    \n",
    "    marker = folium.Marker(\n",
    "        location = loc, \n",
    "        popup = pop, icon = icon) \n",
    "    \n",
    "    marker.add_to(map_503)\n",
    "map_503.save('../maps/restaurants503.html')\n",
    "\n",
    "map_503"
   ]
  },
  {
   "cell_type": "code",
   "execution_count": null,
   "id": "f617f65e",
   "metadata": {},
   "outputs": [],
   "source": [
    "cluster_map_503 = folium.Map(location =  area_center_503, zoom_start = 12)\n",
    "\n",
    "marker_cluster = MarkerCluster().add_to(cluster_map_503)\n",
    "\n",
    "folium.GeoJson(polygon_503).add_to(cluster_map_503)\n",
    "\n",
    "for row_index, row_values in restaurants_503.iterrows():\n",
    "    loc = [row_values['Latitude'], row_values['Longitude']]\n",
    "    pop = str(row_values['Restaurant_Name'])\n",
    "    icon=folium.Icon(color=\"blue\",icon=\"cutlery\", prefix='fa')\n",
    "    \n",
    "    marker = folium.Marker(\n",
    "        location = loc, \n",
    "        popup = pop,\n",
    "    icon = icon) \n",
    "    \n",
    "    marker.add_to(marker_cluster)\n",
    "\n",
    "cluster_map_503.save('../maps/cluster503restaurants.html')\n",
    "\n",
    "cluster_map_503"
   ]
  },
  {
   "cell_type": "code",
   "execution_count": null,
   "id": "71a2d1b6",
   "metadata": {},
   "outputs": [],
   "source": []
  }
 ],
 "metadata": {
  "kernelspec": {
   "display_name": "Python 3 (ipykernel)",
   "language": "python",
   "name": "python3"
  },
  "language_info": {
   "codemirror_mode": {
    "name": "ipython",
    "version": 3
   },
   "file_extension": ".py",
   "mimetype": "text/x-python",
   "name": "python",
   "nbconvert_exporter": "python",
   "pygments_lexer": "ipython3",
   "version": "3.8.5"
  }
 },
 "nbformat": 4,
 "nbformat_minor": 5
}
