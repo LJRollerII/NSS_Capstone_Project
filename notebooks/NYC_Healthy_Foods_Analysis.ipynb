{
 "cells": [
  {
   "cell_type": "code",
   "execution_count": null,
   "id": "dca09b99",
   "metadata": {},
   "outputs": [],
   "source": [
    "import pandas as pd\n",
    "import numpy as np\n",
    "import matplotlib.pyplot as plt\n",
    "import seaborn as sns"
   ]
  },
  {
   "cell_type": "code",
   "execution_count": null,
   "id": "03d610a8",
   "metadata": {},
   "outputs": [],
   "source": [
    "%matplotlib inline"
   ]
  },
  {
   "cell_type": "markdown",
   "id": "4e0b646b",
   "metadata": {},
   "source": [
    "Let's first bring in and explore Farmers Market data"
   ]
  },
  {
   "cell_type": "code",
   "execution_count": null,
   "id": "20e29317",
   "metadata": {},
   "outputs": [],
   "source": [
    "fmarket_df = pd.read_csv(\"../data/DOHMH_Farmers_Markets.csv\")"
   ]
  },
  {
   "cell_type": "code",
   "execution_count": null,
   "id": "caac7bf1",
   "metadata": {},
   "outputs": [],
   "source": [
    "fmarket_df.head()"
   ]
  },
  {
   "cell_type": "code",
   "execution_count": null,
   "id": "a78f717c",
   "metadata": {},
   "outputs": [],
   "source": [
    "fmarket_df.info"
   ]
  },
  {
   "cell_type": "code",
   "execution_count": null,
   "id": "a4b0bc9a",
   "metadata": {},
   "outputs": [],
   "source": [
    "fmarket_df.shape"
   ]
  },
  {
   "cell_type": "code",
   "execution_count": null,
   "id": "13965892",
   "metadata": {},
   "outputs": [],
   "source": [
    "print(fmarket_df.dtypes)"
   ]
  },
  {
   "cell_type": "code",
   "execution_count": null,
   "id": "638e7bad",
   "metadata": {},
   "outputs": [],
   "source": [
    "fmarket_df.describe()"
   ]
  },
  {
   "cell_type": "code",
   "execution_count": null,
   "id": "d89e1dd9",
   "metadata": {
    "scrolled": true
   },
   "outputs": [],
   "source": [
    "fmarket_df.corr()"
   ]
  },
  {
   "cell_type": "markdown",
   "id": "799f89ea",
   "metadata": {},
   "source": [
    "Let's get some info on the Farmers Markets"
   ]
  },
  {
   "cell_type": "code",
   "execution_count": null,
   "id": "3dd6395c",
   "metadata": {},
   "outputs": [],
   "source": [
    "fmarket_df.Accepts_EBT.value_counts()"
   ]
  },
  {
   "cell_type": "code",
   "execution_count": null,
   "id": "18bbc4bf",
   "metadata": {
    "scrolled": true
   },
   "outputs": [],
   "source": [
    "plt.pie(fmarket_df.Accepts_EBT.value_counts())\n",
    "plt.show()"
   ]
  },
  {
   "cell_type": "code",
   "execution_count": null,
   "id": "2601f159",
   "metadata": {},
   "outputs": [],
   "source": [
    "fmarket_df.Open_Year_Round.value_counts()"
   ]
  },
  {
   "cell_type": "code",
   "execution_count": null,
   "id": "4d5bc602",
   "metadata": {},
   "outputs": [],
   "source": [
    "plt.pie(fmarket_df.Open_Year_Round.value_counts())\n",
    "plt.show()"
   ]
  },
  {
   "cell_type": "code",
   "execution_count": null,
   "id": "6c7668d0",
   "metadata": {},
   "outputs": [],
   "source": [
    "fmarket_df.Stellar_Cooking_Demonstrations.value_counts()"
   ]
  },
  {
   "cell_type": "code",
   "execution_count": null,
   "id": "167d2639",
   "metadata": {},
   "outputs": [],
   "source": [
    "plt.pie(fmarket_df.Stellar_Cooking_Demonstrations.value_counts())\n",
    "plt.show()"
   ]
  },
  {
   "cell_type": "code",
   "execution_count": null,
   "id": "de4c14c7",
   "metadata": {},
   "outputs": [],
   "source": [
    "fmarket_df.Food_Activities_for_Kids.value_counts()"
   ]
  },
  {
   "cell_type": "code",
   "execution_count": null,
   "id": "9ba65fa5",
   "metadata": {
    "scrolled": false
   },
   "outputs": [],
   "source": [
    "plt.pie(fmarket_df.Food_Activities_for_Kids.value_counts())\n",
    "plt.show()"
   ]
  },
  {
   "cell_type": "markdown",
   "id": "68e7bc86",
   "metadata": {},
   "source": [
    "95.6% of NYC farmers markets accept EBT and 73.2% are open year round"
   ]
  },
  {
   "cell_type": "markdown",
   "id": "d953ac26",
   "metadata": {},
   "source": [
    "None of the Farmers Markets have cooking demonstrations or activities for kids."
   ]
  },
  {
   "cell_type": "code",
   "execution_count": null,
   "id": "0d70278a",
   "metadata": {
    "scrolled": true
   },
   "outputs": [],
   "source": [
    "fmarket_df.Days_of_Operation.value_counts()"
   ]
  },
  {
   "cell_type": "markdown",
   "id": "22a45436",
   "metadata": {},
   "source": [
    "Saturday is the most popular day for Farmers Markets to be opn in NYC"
   ]
  },
  {
   "cell_type": "code",
   "execution_count": null,
   "id": "78897931",
   "metadata": {},
   "outputs": [],
   "source": [
    "fmarket_df.Borough.value_counts()"
   ]
  },
  {
   "cell_type": "code",
   "execution_count": null,
   "id": "70fcd817",
   "metadata": {
    "scrolled": true
   },
   "outputs": [],
   "source": [
    "plt.hist(fmarket_df.Borough)\n",
    "plt.show()"
   ]
  },
  {
   "cell_type": "markdown",
   "id": "0d62d370",
   "metadata": {},
   "source": [
    "Brooklyn has the most farmers markets"
   ]
  },
  {
   "cell_type": "markdown",
   "id": "9ca1b0e6",
   "metadata": {},
   "source": [
    "Now let's look into the community districts"
   ]
  },
  {
   "cell_type": "code",
   "execution_count": null,
   "id": "3a24507c",
   "metadata": {
    "scrolled": true
   },
   "outputs": [],
   "source": [
    "fmarket_df.Community_District.value_counts()"
   ]
  },
  {
   "cell_type": "markdown",
   "id": "ecb5020d",
   "metadata": {},
   "source": [
    "Brooklyn Community District 16 has the most Farmers Markets in NYC"
   ]
  },
  {
   "cell_type": "markdown",
   "id": "4f8b66d4",
   "metadata": {},
   "source": [
    "We will need this community district info later for further analysis, so let's turn it into a dataframe."
   ]
  },
  {
   "cell_type": "code",
   "execution_count": null,
   "id": "ea17e2ec",
   "metadata": {},
   "outputs": [],
   "source": [
    "fmarket_cd = pd.DataFrame(fmarket_df.Community_District.value_counts())"
   ]
  },
  {
   "cell_type": "code",
   "execution_count": null,
   "id": "c5be7bb6",
   "metadata": {},
   "outputs": [],
   "source": [
    "fmarket_cd"
   ]
  },
  {
   "cell_type": "code",
   "execution_count": null,
   "id": "69371975",
   "metadata": {},
   "outputs": [],
   "source": [
    "fmarket_cd.columns = ['Farmers Markets']"
   ]
  },
  {
   "cell_type": "code",
   "execution_count": null,
   "id": "667f520e",
   "metadata": {},
   "outputs": [],
   "source": [
    "fmarket_cd"
   ]
  },
  {
   "cell_type": "markdown",
   "id": "c6ab35d5",
   "metadata": {},
   "source": [
    "Lets bring in the SNAP Centers data"
   ]
  },
  {
   "cell_type": "code",
   "execution_count": null,
   "id": "45bd9bc1",
   "metadata": {},
   "outputs": [],
   "source": [
    "snapcenter_df = pd.read_csv(\"../data/Directory_of_SNAP_Centers.csv\")"
   ]
  },
  {
   "cell_type": "code",
   "execution_count": null,
   "id": "ee1dc0c3",
   "metadata": {},
   "outputs": [],
   "source": [
    "snapcenter_df.head()"
   ]
  },
  {
   "cell_type": "code",
   "execution_count": null,
   "id": "617d40e7",
   "metadata": {},
   "outputs": [],
   "source": [
    "snapcenter_df.info"
   ]
  },
  {
   "cell_type": "code",
   "execution_count": null,
   "id": "8650aac6",
   "metadata": {},
   "outputs": [],
   "source": [
    "snapcenter_df.shape"
   ]
  },
  {
   "cell_type": "code",
   "execution_count": null,
   "id": "fd79bcc1",
   "metadata": {},
   "outputs": [],
   "source": [
    "print(snapcenter_df.dtypes)"
   ]
  },
  {
   "cell_type": "code",
   "execution_count": null,
   "id": "a198c341",
   "metadata": {},
   "outputs": [],
   "source": [
    "snapcenter_df.describe()"
   ]
  },
  {
   "cell_type": "code",
   "execution_count": null,
   "id": "4ba60f26",
   "metadata": {},
   "outputs": [],
   "source": [
    "snapcenter_df.corr()"
   ]
  },
  {
   "cell_type": "markdown",
   "id": "f6719a1a",
   "metadata": {},
   "source": [
    "Let's get some info on the SNAP Centers"
   ]
  },
  {
   "cell_type": "code",
   "execution_count": null,
   "id": "70b83c0d",
   "metadata": {},
   "outputs": [],
   "source": [
    "snapcenter_df.Borough.value_counts()"
   ]
  },
  {
   "cell_type": "code",
   "execution_count": null,
   "id": "0463c667",
   "metadata": {},
   "outputs": [],
   "source": [
    "plt.hist(snapcenter_df.Borough)\n",
    "plt.show()"
   ]
  },
  {
   "cell_type": "markdown",
   "id": "d95ab80a",
   "metadata": {},
   "source": [
    "Brooklyn has the most SNAP Centers"
   ]
  },
  {
   "cell_type": "code",
   "execution_count": null,
   "id": "3a64c380",
   "metadata": {},
   "outputs": [],
   "source": [
    "snapcenter_df.Community_District.value_counts()"
   ]
  },
  {
   "cell_type": "markdown",
   "id": "789aa9c8",
   "metadata": {},
   "source": [
    "Brooklyn Community District 13 has the most SNAP Centers. It's the only district in the city that has more than one."
   ]
  },
  {
   "cell_type": "markdown",
   "id": "ceaa1d8b",
   "metadata": {},
   "source": [
    "We will need this community district info later for further analysis, so let's turn it into a dataframe."
   ]
  },
  {
   "cell_type": "code",
   "execution_count": null,
   "id": "2a1acbfa",
   "metadata": {},
   "outputs": [],
   "source": [
    "snapcenter_cd = pd.DataFrame(snapcenter_df.Community_District.value_counts())"
   ]
  },
  {
   "cell_type": "code",
   "execution_count": null,
   "id": "1a9042f4",
   "metadata": {},
   "outputs": [],
   "source": [
    "snapcenter_cd"
   ]
  },
  {
   "cell_type": "markdown",
   "id": "2f07bc07",
   "metadata": {},
   "source": [
    "Lets bring in the Healthy Stores data"
   ]
  },
  {
   "cell_type": "code",
   "execution_count": null,
   "id": "2b0d17fb",
   "metadata": {},
   "outputs": [],
   "source": [
    "healthystores_df = pd.read_csv(\"../data/Recognized_Shop_Healthy_Stores.csv\")"
   ]
  },
  {
   "cell_type": "code",
   "execution_count": null,
   "id": "0c5826bf",
   "metadata": {},
   "outputs": [],
   "source": [
    "healthystores_df.head()"
   ]
  },
  {
   "cell_type": "code",
   "execution_count": null,
   "id": "d3284ffe",
   "metadata": {},
   "outputs": [],
   "source": [
    "healthystores_df.info"
   ]
  },
  {
   "cell_type": "code",
   "execution_count": null,
   "id": "caeb4d54",
   "metadata": {},
   "outputs": [],
   "source": [
    "healthystores_df.shape"
   ]
  },
  {
   "cell_type": "code",
   "execution_count": null,
   "id": "a45ca94d",
   "metadata": {},
   "outputs": [],
   "source": [
    "print(healthystores_df.dtypes)"
   ]
  },
  {
   "cell_type": "code",
   "execution_count": null,
   "id": "ea52afa7",
   "metadata": {},
   "outputs": [],
   "source": [
    "healthystores_df.describe()"
   ]
  },
  {
   "cell_type": "code",
   "execution_count": null,
   "id": "2c55c65d",
   "metadata": {},
   "outputs": [],
   "source": [
    "healthystores_df.corr()"
   ]
  },
  {
   "cell_type": "markdown",
   "id": "5ebe5fbb",
   "metadata": {},
   "source": [
    "Let's get some info on the Healthy Stores"
   ]
  },
  {
   "cell_type": "code",
   "execution_count": null,
   "id": "5e94875a",
   "metadata": {},
   "outputs": [],
   "source": [
    "healthystores_df.Borough.value_counts()"
   ]
  },
  {
   "cell_type": "code",
   "execution_count": null,
   "id": "84065e93",
   "metadata": {
    "scrolled": true
   },
   "outputs": [],
   "source": [
    "plt.hist(healthystores_df.Borough)\n",
    "plt.show()"
   ]
  },
  {
   "cell_type": "markdown",
   "id": "8e64ad87",
   "metadata": {},
   "source": [
    "The Bronx had the most health stores. There were no recognized healthy stores in Queens or Staten Island. That is both interesting and surprising. I'm going to look deeper into the history of the recognized healthy shops to see if there is a reason for that."
   ]
  },
  {
   "cell_type": "code",
   "execution_count": null,
   "id": "9ad9377a",
   "metadata": {},
   "outputs": [],
   "source": [
    "healthystores_df.Community_District.value_counts()"
   ]
  },
  {
   "cell_type": "markdown",
   "id": "25a2a8fe",
   "metadata": {},
   "source": [
    "Manhattan Distirct 11 had the most health recognized shops."
   ]
  },
  {
   "cell_type": "markdown",
   "id": "ea1cc476",
   "metadata": {},
   "source": [
    "We will need this community district info later for further analysis, so let's turn it into a dataframe."
   ]
  },
  {
   "cell_type": "code",
   "execution_count": null,
   "id": "3f514025",
   "metadata": {},
   "outputs": [],
   "source": [
    "healthystores_cd = pd.DataFrame(healthystores.Community_District.value_counts())"
   ]
  }
 ],
 "metadata": {
  "kernelspec": {
   "display_name": "Python 3 (ipykernel)",
   "language": "python",
   "name": "python3"
  },
  "language_info": {
   "codemirror_mode": {
    "name": "ipython",
    "version": 3
   },
   "file_extension": ".py",
   "mimetype": "text/x-python",
   "name": "python",
   "nbconvert_exporter": "python",
   "pygments_lexer": "ipython3",
   "version": "3.9.7"
  }
 },
 "nbformat": 4,
 "nbformat_minor": 5
}
