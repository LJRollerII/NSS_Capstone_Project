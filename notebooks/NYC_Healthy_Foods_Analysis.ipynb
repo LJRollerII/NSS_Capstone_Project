{
 "cells": [
  {
   "cell_type": "code",
   "execution_count": null,
   "id": "dca09b99",
   "metadata": {},
   "outputs": [],
   "source": [
    "import pandas as pd\n",
    "import numpy as np\n",
    "import matplotlib.pyplot as plt\n",
    "import seaborn as sns"
   ]
  },
  {
   "cell_type": "code",
   "execution_count": null,
   "id": "03d610a8",
   "metadata": {},
   "outputs": [],
   "source": [
    "%matplotlib inline"
   ]
  },
  {
   "cell_type": "markdown",
   "id": "4e0b646b",
   "metadata": {},
   "source": [
    "Let's first bring in and explore Farmers Market data"
   ]
  },
  {
   "cell_type": "code",
   "execution_count": null,
   "id": "20e29317",
   "metadata": {},
   "outputs": [],
   "source": [
    "fmarket_df = pd.read_csv(\"../data/DOHMH_Farmers_Markets.csv\")"
   ]
  },
  {
   "cell_type": "code",
   "execution_count": null,
   "id": "caac7bf1",
   "metadata": {},
   "outputs": [],
   "source": [
    "fmarket_df.head()"
   ]
  },
  {
   "cell_type": "code",
   "execution_count": null,
   "id": "a78f717c",
   "metadata": {},
   "outputs": [],
   "source": [
    "fmarket_df.info"
   ]
  },
  {
   "cell_type": "code",
   "execution_count": null,
   "id": "a4b0bc9a",
   "metadata": {},
   "outputs": [],
   "source": [
    "fmarket_df.shape"
   ]
  },
  {
   "cell_type": "code",
   "execution_count": null,
   "id": "13965892",
   "metadata": {},
   "outputs": [],
   "source": [
    "print(fmarket_df.dtypes)"
   ]
  },
  {
   "cell_type": "code",
   "execution_count": null,
   "id": "638e7bad",
   "metadata": {},
   "outputs": [],
   "source": [
    "fmarket_df.describe()"
   ]
  },
  {
   "cell_type": "code",
   "execution_count": null,
   "id": "d89e1dd9",
   "metadata": {
    "scrolled": true
   },
   "outputs": [],
   "source": [
    "fmarket_df.corr()"
   ]
  },
  {
   "cell_type": "markdown",
   "id": "799f89ea",
   "metadata": {},
   "source": [
    "Let's get some info on the Farmers Markets"
   ]
  },
  {
   "cell_type": "code",
   "execution_count": null,
   "id": "3dd6395c",
   "metadata": {},
   "outputs": [],
   "source": [
    "fmarket_df.Accepts_EBT.value_counts()"
   ]
  },
  {
   "cell_type": "code",
   "execution_count": null,
   "id": "18bbc4bf",
   "metadata": {
    "scrolled": true
   },
   "outputs": [],
   "source": [
    "plt.pie(fmarket_df.Accepts_EBT.value_counts())\n",
    "plt.show()"
   ]
  },
  {
   "cell_type": "code",
   "execution_count": null,
   "id": "2601f159",
   "metadata": {},
   "outputs": [],
   "source": [
    "fmarket_df.Open_Year_Round.value_counts()"
   ]
  },
  {
   "cell_type": "code",
   "execution_count": null,
   "id": "4d5bc602",
   "metadata": {},
   "outputs": [],
   "source": [
    "plt.pie(fmarket_df.Open_Year_Round.value_counts())\n",
    "plt.show()"
   ]
  },
  {
   "cell_type": "code",
   "execution_count": null,
   "id": "6c7668d0",
   "metadata": {},
   "outputs": [],
   "source": [
    "fmarket_df.Stellar_Cooking_Demonstrations.value_counts()"
   ]
  },
  {
   "cell_type": "code",
   "execution_count": null,
   "id": "167d2639",
   "metadata": {},
   "outputs": [],
   "source": [
    "plt.pie(fmarket_df.Stellar_Cooking_Demonstrations.value_counts())\n",
    "plt.show()"
   ]
  },
  {
   "cell_type": "code",
   "execution_count": null,
   "id": "de4c14c7",
   "metadata": {},
   "outputs": [],
   "source": [
    "fmarket_df.Food_Activities_for_Kids.value_counts()"
   ]
  },
  {
   "cell_type": "code",
   "execution_count": null,
   "id": "9ba65fa5",
   "metadata": {
    "scrolled": false
   },
   "outputs": [],
   "source": [
    "plt.pie(fmarket_df.Food_Activities_for_Kids.value_counts())\n",
    "plt.show()"
   ]
  },
  {
   "cell_type": "markdown",
   "id": "c1a0a7d1",
   "metadata": {},
   "source": [
    "Let's make some dataframes for the boolean measurements to make an excel spreadsheet for later."
   ]
  },
  {
   "cell_type": "code",
   "execution_count": null,
   "id": "9a1a6b8f",
   "metadata": {},
   "outputs": [],
   "source": [
    "fm_ebt = pd.DataFrame(fmarket_df.Accepts_EBT.value_counts().reset_index())"
   ]
  },
  {
   "cell_type": "code",
   "execution_count": null,
   "id": "85eb43ea",
   "metadata": {},
   "outputs": [],
   "source": [
    "fm_ebt"
   ]
  },
  {
   "cell_type": "code",
   "execution_count": null,
   "id": "ed5a237d",
   "metadata": {},
   "outputs": [],
   "source": [
    "fm_ebt.columns = ['Accepts EBT', 'Total']"
   ]
  },
  {
   "cell_type": "code",
   "execution_count": null,
   "id": "e8212601",
   "metadata": {},
   "outputs": [],
   "source": [
    "fm_ebt"
   ]
  },
  {
   "cell_type": "code",
   "execution_count": null,
   "id": "12383a0a",
   "metadata": {},
   "outputs": [],
   "source": [
    "fm_yearround = pd.DataFrame(fmarket_df.Open_Year_Round.value_counts().reset_index())"
   ]
  },
  {
   "cell_type": "code",
   "execution_count": null,
   "id": "e6d18c44",
   "metadata": {},
   "outputs": [],
   "source": [
    "fm_yearround"
   ]
  },
  {
   "cell_type": "code",
   "execution_count": null,
   "id": "c647e21f",
   "metadata": {},
   "outputs": [],
   "source": [
    "fm_yearround.columns = ['Open Year Round', 'Total']"
   ]
  },
  {
   "cell_type": "code",
   "execution_count": null,
   "id": "a9aeecff",
   "metadata": {},
   "outputs": [],
   "source": [
    "fm_yearround"
   ]
  },
  {
   "cell_type": "code",
   "execution_count": null,
   "id": "4c3170fe",
   "metadata": {},
   "outputs": [],
   "source": [
    "fm_cooking = pd.DataFrame(fmarket_df.Stellar_Cooking_Demonstrations.value_counts().reset_index())"
   ]
  },
  {
   "cell_type": "code",
   "execution_count": null,
   "id": "296e7a8c",
   "metadata": {},
   "outputs": [],
   "source": [
    "fm_cooking"
   ]
  },
  {
   "cell_type": "code",
   "execution_count": null,
   "id": "2984b62d",
   "metadata": {},
   "outputs": [],
   "source": [
    "fm_cooking.columns = ['Stellar Cooking Demonstrations', 'Total']"
   ]
  },
  {
   "cell_type": "code",
   "execution_count": null,
   "id": "16280dfc",
   "metadata": {},
   "outputs": [],
   "source": [
    "fm_cooking"
   ]
  },
  {
   "cell_type": "code",
   "execution_count": null,
   "id": "99fd243b",
   "metadata": {},
   "outputs": [],
   "source": [
    "fm_kids = pd.DataFrame(fmarket_df.Food_Activities_for_Kids.value_counts().reset_index())"
   ]
  },
  {
   "cell_type": "code",
   "execution_count": null,
   "id": "4fa7f41b",
   "metadata": {},
   "outputs": [],
   "source": [
    "fm_kids"
   ]
  },
  {
   "cell_type": "code",
   "execution_count": null,
   "id": "a301bc04",
   "metadata": {},
   "outputs": [],
   "source": [
    "fm_kids.columns = ['Food Activities for Kids', 'Total']"
   ]
  },
  {
   "cell_type": "code",
   "execution_count": null,
   "id": "ebff8f01",
   "metadata": {},
   "outputs": [],
   "source": [
    "fm_kids"
   ]
  },
  {
   "cell_type": "markdown",
   "id": "68e7bc86",
   "metadata": {},
   "source": [
    "95.6% of NYC farmers markets accept EBT and 73.2% are open year round"
   ]
  },
  {
   "cell_type": "markdown",
   "id": "d953ac26",
   "metadata": {},
   "source": [
    "None of the Farmers Markets have cooking demonstrations or activities for kids."
   ]
  },
  {
   "cell_type": "code",
   "execution_count": null,
   "id": "aefdd0c0",
   "metadata": {
    "scrolled": true
   },
   "outputs": [],
   "source": [
    "fmarket_df.Days_of_Operation.value_counts()"
   ]
  },
  {
   "cell_type": "markdown",
   "id": "b976b616",
   "metadata": {},
   "source": [
    "Saturday is the most popular day for Farmers Markets to be opn in NYC"
   ]
  },
  {
   "cell_type": "code",
   "execution_count": null,
   "id": "5dfe4121",
   "metadata": {},
   "outputs": [],
   "source": [
    "fmarket_df.Borough.value_counts()"
   ]
  },
  {
   "cell_type": "code",
   "execution_count": null,
   "id": "b3cf00c5",
   "metadata": {
    "scrolled": false
   },
   "outputs": [],
   "source": [
    "plt.hist(fmarket_df.Borough)\n",
    "plt.show()"
   ]
  },
  {
   "cell_type": "markdown",
   "id": "95d0f341",
   "metadata": {},
   "source": [
    "Let's make a dataframe for this to extraxt into a csv or xlsx in the future."
   ]
  },
  {
   "cell_type": "code",
   "execution_count": null,
   "id": "d19642ad",
   "metadata": {},
   "outputs": [],
   "source": [
    "borough_fm = pd.DataFrame(fmarket_df.Borough.value_counts().reset_index())"
   ]
  },
  {
   "cell_type": "code",
   "execution_count": null,
   "id": "49a1a0f1",
   "metadata": {
    "scrolled": true
   },
   "outputs": [],
   "source": [
    "borough_fm"
   ]
  },
  {
   "cell_type": "code",
   "execution_count": null,
   "id": "4a61bdab",
   "metadata": {},
   "outputs": [],
   "source": [
    "borough_fm.columns = ['Borough', 'Farmers Markets']"
   ]
  },
  {
   "cell_type": "code",
   "execution_count": null,
   "id": "30f9b597",
   "metadata": {},
   "outputs": [],
   "source": [
    "borough_fm"
   ]
  },
  {
   "cell_type": "markdown",
   "id": "fa6d87fb",
   "metadata": {},
   "source": [
    "Brooklyn has the most farmers markets"
   ]
  },
  {
   "cell_type": "markdown",
   "id": "9ca1b0e6",
   "metadata": {},
   "source": [
    "Now let's look into the community districts"
   ]
  },
  {
   "cell_type": "code",
   "execution_count": null,
   "id": "3a24507c",
   "metadata": {
    "scrolled": true
   },
   "outputs": [],
   "source": [
    "fmarket_df.Community_District.value_counts()"
   ]
  },
  {
   "cell_type": "markdown",
   "id": "cc89f6bd",
   "metadata": {},
   "source": [
    "Brooklyn Community District 16 has the most Farmers Markets in NYC"
   ]
  },
  {
   "cell_type": "markdown",
   "id": "4f8b66d4",
   "metadata": {},
   "source": [
    "We will need this community district info later for further analysis, so let's turn it into a dataframe."
   ]
  },
  {
   "cell_type": "code",
   "execution_count": null,
   "id": "ea17e2ec",
   "metadata": {},
   "outputs": [],
   "source": [
    "fmarket_cd = pd.DataFrame(fmarket_df.Community_District.value_counts().reset_index())"
   ]
  },
  {
   "cell_type": "code",
   "execution_count": null,
   "id": "c5be7bb6",
   "metadata": {},
   "outputs": [],
   "source": [
    "fmarket_cd"
   ]
  },
  {
   "cell_type": "code",
   "execution_count": null,
   "id": "69371975",
   "metadata": {},
   "outputs": [],
   "source": [
    "fmarket_cd.columns = ['Community District','Farmers Markets']"
   ]
  },
  {
   "cell_type": "code",
   "execution_count": null,
   "id": "667f520e",
   "metadata": {},
   "outputs": [],
   "source": [
    "fmarket_cd"
   ]
  },
  {
   "cell_type": "markdown",
   "id": "dde4b4f7",
   "metadata": {},
   "source": [
    "Lets bring in the SNAP Centers data"
   ]
  },
  {
   "cell_type": "code",
   "execution_count": null,
   "id": "8e05a8ee",
   "metadata": {},
   "outputs": [],
   "source": [
    "snapcenter_df = pd.read_csv(\"../data/Directory_of_SNAP_Centers.csv\")"
   ]
  },
  {
   "cell_type": "code",
   "execution_count": null,
   "id": "4d63d636",
   "metadata": {},
   "outputs": [],
   "source": [
    "snapcenter_df.head()"
   ]
  },
  {
   "cell_type": "code",
   "execution_count": null,
   "id": "29683ecd",
   "metadata": {},
   "outputs": [],
   "source": [
    "snapcenter_df.info"
   ]
  },
  {
   "cell_type": "code",
   "execution_count": null,
   "id": "dfc97261",
   "metadata": {},
   "outputs": [],
   "source": [
    "snapcenter_df.shape"
   ]
  },
  {
   "cell_type": "code",
   "execution_count": null,
   "id": "39367cab",
   "metadata": {},
   "outputs": [],
   "source": [
    "print(snapcenter_df.dtypes)"
   ]
  },
  {
   "cell_type": "code",
   "execution_count": null,
   "id": "021b0389",
   "metadata": {},
   "outputs": [],
   "source": [
    "snapcenter_df.describe()"
   ]
  },
  {
   "cell_type": "code",
   "execution_count": null,
   "id": "2dfa0825",
   "metadata": {},
   "outputs": [],
   "source": [
    "snapcenter_df.corr()"
   ]
  },
  {
   "cell_type": "markdown",
   "id": "85f87c78",
   "metadata": {},
   "source": [
    "Let's get some info on the SNAP Centers"
   ]
  },
  {
   "cell_type": "code",
   "execution_count": null,
   "id": "740a2682",
   "metadata": {},
   "outputs": [],
   "source": [
    "snapcenter_df.Borough.value_counts()"
   ]
  },
  {
   "cell_type": "code",
   "execution_count": null,
   "id": "ba550eaa",
   "metadata": {},
   "outputs": [],
   "source": [
    "plt.hist(snapcenter_df.Borough)\n",
    "plt.show()"
   ]
  },
  {
   "cell_type": "markdown",
   "id": "83070f16",
   "metadata": {},
   "source": [
    "Let's make a dataframe for this to extraxt into a csv or xlsx in the future."
   ]
  },
  {
   "cell_type": "code",
   "execution_count": null,
   "id": "dbee8318",
   "metadata": {},
   "outputs": [],
   "source": [
    "borough_snapcenter = pd.DataFrame(snapcenter_df.Borough.value_counts().reset_index())"
   ]
  },
  {
   "cell_type": "code",
   "execution_count": null,
   "id": "240e9f95",
   "metadata": {},
   "outputs": [],
   "source": [
    "borough_snapcenter"
   ]
  },
  {
   "cell_type": "code",
   "execution_count": null,
   "id": "1778c330",
   "metadata": {},
   "outputs": [],
   "source": [
    "borough_snapcenter.columns = ['Borough', 'SNAP Centers']"
   ]
  },
  {
   "cell_type": "code",
   "execution_count": null,
   "id": "0c0f91c3",
   "metadata": {},
   "outputs": [],
   "source": [
    "borough_snapcenter"
   ]
  },
  {
   "cell_type": "markdown",
   "id": "ae04f1f2",
   "metadata": {},
   "source": [
    "Brooklyn has the most SNAP Centers"
   ]
  },
  {
   "cell_type": "code",
   "execution_count": null,
   "id": "16fb4ddd",
   "metadata": {},
   "outputs": [],
   "source": [
    "snapcenter_df.Community_District.value_counts()"
   ]
  },
  {
   "cell_type": "markdown",
   "id": "75fad192",
   "metadata": {},
   "source": [
    "Brooklyn Community District 13 has the most SNAP Centers. It's the only district in the city that has more than one."
   ]
  },
  {
   "cell_type": "markdown",
   "id": "de6e89fc",
   "metadata": {},
   "source": [
    "We will need this community district info later for further analysis, so let's turn it into a dataframe."
   ]
  },
  {
   "cell_type": "code",
   "execution_count": null,
   "id": "04b346fe",
   "metadata": {},
   "outputs": [],
   "source": [
    "snapcenter_cd = pd.DataFrame(snapcenter_df.Community_District.value_counts().reset_index())"
   ]
  },
  {
   "cell_type": "code",
   "execution_count": null,
   "id": "5be81441",
   "metadata": {},
   "outputs": [],
   "source": [
    "snapcenter_cd"
   ]
  },
  {
   "cell_type": "code",
   "execution_count": null,
   "id": "c511739b",
   "metadata": {},
   "outputs": [],
   "source": [
    "snapcenter_cd.columns = ['Community District', 'SNAP Centers']"
   ]
  },
  {
   "cell_type": "code",
   "execution_count": null,
   "id": "621b1924",
   "metadata": {},
   "outputs": [],
   "source": [
    "snapcenter_cd"
   ]
  },
  {
   "cell_type": "markdown",
   "id": "c60a413c",
   "metadata": {},
   "source": [
    "Lets bring in the Healthy Stores data"
   ]
  },
  {
   "cell_type": "code",
   "execution_count": null,
   "id": "a57b7400",
   "metadata": {},
   "outputs": [],
   "source": [
    "healthystores_df = pd.read_csv(\"../data/Recognized_Shop_Healthy_Stores.csv\")"
   ]
  },
  {
   "cell_type": "code",
   "execution_count": null,
   "id": "441412fa",
   "metadata": {},
   "outputs": [],
   "source": [
    "healthystores_df.head()"
   ]
  },
  {
   "cell_type": "code",
   "execution_count": null,
   "id": "ff5002df",
   "metadata": {},
   "outputs": [],
   "source": [
    "healthystores_df.info"
   ]
  },
  {
   "cell_type": "code",
   "execution_count": null,
   "id": "f934a630",
   "metadata": {},
   "outputs": [],
   "source": [
    "healthystores_df.shape"
   ]
  },
  {
   "cell_type": "code",
   "execution_count": null,
   "id": "d092108f",
   "metadata": {},
   "outputs": [],
   "source": [
    "print(healthystores_df.dtypes)"
   ]
  },
  {
   "cell_type": "code",
   "execution_count": null,
   "id": "80ddd868",
   "metadata": {},
   "outputs": [],
   "source": [
    "healthystores_df.describe()"
   ]
  },
  {
   "cell_type": "code",
   "execution_count": null,
   "id": "7070dbe6",
   "metadata": {},
   "outputs": [],
   "source": [
    "healthystores_df.corr()"
   ]
  },
  {
   "cell_type": "markdown",
   "id": "8be6be34",
   "metadata": {},
   "source": [
    "Let's get some info on the Healthy Stores"
   ]
  },
  {
   "cell_type": "code",
   "execution_count": null,
   "id": "534242db",
   "metadata": {},
   "outputs": [],
   "source": [
    "healthystores_df.Borough.value_counts()"
   ]
  },
  {
   "cell_type": "code",
   "execution_count": null,
   "id": "2c4e25fd",
   "metadata": {
    "scrolled": true
   },
   "outputs": [],
   "source": [
    "plt.hist(healthystores_df.Borough)\n",
    "plt.show()"
   ]
  },
  {
   "cell_type": "markdown",
   "id": "443456b7",
   "metadata": {},
   "source": [
    "Let's make a dataframe for this to extraxt into a csv or xlsx in the future."
   ]
  },
  {
   "cell_type": "code",
   "execution_count": null,
   "id": "e728b98f",
   "metadata": {},
   "outputs": [],
   "source": [
    "borough_healthystores = pd.DataFrame(healthystores_df.Borough.value_counts().reset_index())"
   ]
  },
  {
   "cell_type": "code",
   "execution_count": null,
   "id": "3f208a89",
   "metadata": {},
   "outputs": [],
   "source": [
    "borough_healthystores"
   ]
  },
  {
   "cell_type": "code",
   "execution_count": null,
   "id": "78b6d65e",
   "metadata": {},
   "outputs": [],
   "source": [
    "borough_healthystores.columns = ['Borough', 'Healthy Stores']"
   ]
  },
  {
   "cell_type": "code",
   "execution_count": null,
   "id": "142cc25c",
   "metadata": {},
   "outputs": [],
   "source": [
    "borough_healthystores"
   ]
  },
  {
   "cell_type": "markdown",
   "id": "67bde3af",
   "metadata": {},
   "source": [
    "The Bronx had the most health stores. There were no recognized healthy stores in Queens or Staten Island. That is both interesting and surprising. I'm going to look deeper into the history of the recognized healthy shops to see if there is a reason for that."
   ]
  },
  {
   "cell_type": "code",
   "execution_count": null,
   "id": "21950f67",
   "metadata": {},
   "outputs": [],
   "source": [
    "healthystores_df.Community_District.value_counts()"
   ]
  },
  {
   "cell_type": "markdown",
   "id": "78b28051",
   "metadata": {},
   "source": [
    "Manhattan Distirct 11 had the most health recognized shops."
   ]
  },
  {
   "cell_type": "markdown",
   "id": "ac075504",
   "metadata": {},
   "source": [
    "We will need this community district info later for further analysis, so let's turn it into a dataframe."
   ]
  },
  {
   "cell_type": "code",
   "execution_count": null,
   "id": "9f7e32d0",
   "metadata": {},
   "outputs": [],
   "source": [
    "healthystores_cd = pd.DataFrame(healthystores_df.Community_District.value_counts().reset_index())"
   ]
  },
  {
   "cell_type": "code",
   "execution_count": null,
   "id": "c65b02a3",
   "metadata": {},
   "outputs": [],
   "source": [
    "healthystores_cd"
   ]
  },
  {
   "cell_type": "code",
   "execution_count": null,
   "id": "25cbdf8c",
   "metadata": {},
   "outputs": [],
   "source": [
    "healthystores_cd.columns = ['Community District','Healthy Stores']"
   ]
  },
  {
   "cell_type": "code",
   "execution_count": null,
   "id": "e4f2d8bf",
   "metadata": {},
   "outputs": [],
   "source": [
    "healthystores_cd"
   ]
  },
  {
   "cell_type": "markdown",
   "id": "80c5217c",
   "metadata": {},
   "source": [
    "Now that we have a value counts data fram for the Farmers Markets, Healthy Stores, and SNAP Centers, lets merge them all into one data frame."
   ]
  },
  {
   "cell_type": "code",
   "execution_count": null,
   "id": "7abfb49e",
   "metadata": {},
   "outputs": [],
   "source": [
    "marketsnap_df = pd.merge(fmarket_cd, snapcenter_cd, on=['Community District'],how='outer')"
   ]
  },
  {
   "cell_type": "code",
   "execution_count": null,
   "id": "aa991ba2",
   "metadata": {},
   "outputs": [],
   "source": [
    "marketsnap_df.head()"
   ]
  },
  {
   "cell_type": "code",
   "execution_count": null,
   "id": "959f4d5d",
   "metadata": {},
   "outputs": [],
   "source": [
    "healthy_facilities =  pd.merge(marketsnap_df, healthystores_cd, on=['Community District'],how='outer')"
   ]
  },
  {
   "cell_type": "code",
   "execution_count": null,
   "id": "b715d571",
   "metadata": {},
   "outputs": [],
   "source": [
    "healthy_facilities.head()"
   ]
  },
  {
   "cell_type": "markdown",
   "id": "d7c58bb1",
   "metadata": {},
   "source": [
    "Now that all the value count data frames are merged into one, lets add a column which represents the sum of farmers markets, healthy stores, and SNAP centers for each community district."
   ]
  },
  {
   "cell_type": "code",
   "execution_count": null,
   "id": "1650f6cd",
   "metadata": {},
   "outputs": [],
   "source": [
    "healthy_facilities['Total_Facilities'] = round(healthy_facilities['Farmers Markets'] + healthy_facilities['SNAP Centers'] + healthy_facilities['Healthy Stores'],0)"
   ]
  },
  {
   "cell_type": "code",
   "execution_count": null,
   "id": "8f1b8cf0",
   "metadata": {
    "scrolled": true
   },
   "outputs": [],
   "source": [
    "healthy_facilities"
   ]
  },
  {
   "cell_type": "markdown",
   "id": "6440c468",
   "metadata": {},
   "source": [
    "We will need to fix the NULL problem in order to get the correct calculations."
   ]
  },
  {
   "cell_type": "markdown",
   "id": "b04d1cb3",
   "metadata": {},
   "source": [
    "Let's replace the NULLs with zeros to get the correct calculations in the healthy facilities dataframe"
   ]
  },
  {
   "cell_type": "code",
   "execution_count": null,
   "id": "ee4b216e",
   "metadata": {},
   "outputs": [],
   "source": [
    "healthy_facilities['Farmers Markets'].fillna(0, inplace = True)"
   ]
  },
  {
   "cell_type": "code",
   "execution_count": null,
   "id": "359285b8",
   "metadata": {
    "scrolled": true
   },
   "outputs": [],
   "source": [
    "healthy_facilities"
   ]
  },
  {
   "cell_type": "code",
   "execution_count": null,
   "id": "6f683300",
   "metadata": {},
   "outputs": [],
   "source": [
    "healthy_facilities['SNAP Centers'].fillna(0, inplace = True)"
   ]
  },
  {
   "cell_type": "code",
   "execution_count": null,
   "id": "1e1de4db",
   "metadata": {},
   "outputs": [],
   "source": [
    "healthy_facilities"
   ]
  },
  {
   "cell_type": "code",
   "execution_count": null,
   "id": "d7a0d4cb",
   "metadata": {},
   "outputs": [],
   "source": [
    "healthy_facilities['Healthy Stores'].fillna(0, inplace = True)"
   ]
  },
  {
   "cell_type": "code",
   "execution_count": null,
   "id": "6d8eb516",
   "metadata": {},
   "outputs": [],
   "source": [
    "healthy_facilities"
   ]
  },
  {
   "cell_type": "code",
   "execution_count": null,
   "id": "23c72458",
   "metadata": {},
   "outputs": [],
   "source": [
    "healthy_facilities['Total_Facilities'].fillna(0, inplace = True)"
   ]
  },
  {
   "cell_type": "code",
   "execution_count": null,
   "id": "0ac28ac5",
   "metadata": {
    "scrolled": true
   },
   "outputs": [],
   "source": [
    "healthy_facilities"
   ]
  },
  {
   "cell_type": "code",
   "execution_count": null,
   "id": "05031381",
   "metadata": {},
   "outputs": [],
   "source": [
    "healthy_facilities['Facilities'] = round(healthy_facilities['Farmers Markets'] + healthy_facilities['SNAP Centers'] + healthy_facilities['Healthy Stores'],0)"
   ]
  },
  {
   "cell_type": "code",
   "execution_count": null,
   "id": "c2ce5fce",
   "metadata": {
    "scrolled": true
   },
   "outputs": [],
   "source": [
    "healthy_facilities"
   ]
  },
  {
   "cell_type": "markdown",
   "id": "70a2de20",
   "metadata": {},
   "source": [
    "We can drop the total facilities column now that we've fixed our NULL issuse"
   ]
  },
  {
   "cell_type": "code",
   "execution_count": null,
   "id": "db2e9492",
   "metadata": {
    "scrolled": true
   },
   "outputs": [],
   "source": [
    "healthy_facilities.drop(columns=['Total_Facilities'])"
   ]
  },
  {
   "cell_type": "code",
   "execution_count": null,
   "id": "f932f8b2",
   "metadata": {},
   "outputs": [],
   "source": [
    "healthy_facilities.shape"
   ]
  },
  {
   "cell_type": "markdown",
   "id": "8ec6cdc4",
   "metadata": {},
   "source": [
    "Now that we have the total number of facilitites, lets find the top & bottom 5 community districts."
   ]
  },
  {
   "cell_type": "code",
   "execution_count": null,
   "id": "5ea2a803",
   "metadata": {
    "scrolled": true
   },
   "outputs": [],
   "source": [
    "healthy_facilities.Facilities.nlargest(5)"
   ]
  },
  {
   "cell_type": "code",
   "execution_count": null,
   "id": "89db242d",
   "metadata": {},
   "outputs": [],
   "source": [
    "healthy_facilities.sort_values('Facilities')"
   ]
  },
  {
   "cell_type": "code",
   "execution_count": null,
   "id": "ad528644",
   "metadata": {
    "scrolled": true
   },
   "outputs": [],
   "source": [
    "healthy_facilities.Facilities.nsmallest(5)"
   ]
  },
  {
   "cell_type": "markdown",
   "id": "1f320fc6",
   "metadata": {},
   "source": [
    "Top 5: 111, 205, 206, 316, 305"
   ]
  },
  {
   "cell_type": "markdown",
   "id": "dc505b2b",
   "metadata": {},
   "source": [
    "Bottom 5 (Purely Based off the dataframe): 210, 106, 209, 211, 315"
   ]
  },
  {
   "cell_type": "markdown",
   "id": "3f5c8fd0",
   "metadata": {},
   "source": [
    "Note: 355 is a special district. It's not a community, it's actually a park.\n",
    "It's also important to note that 16 communities only have one facility."
   ]
  },
  {
   "cell_type": "markdown",
   "id": "8a053221",
   "metadata": {},
   "source": [
    "Are there any district that did not have any facilities. If there are they would be missing in the dataframe. Based on the shape of the dataframe there are a few districts that have no facilities in there district. Let's find out which districts those are."
   ]
  },
  {
   "cell_type": "code",
   "execution_count": null,
   "id": "89a2e2c4",
   "metadata": {},
   "outputs": [],
   "source": [
    "healthy_facilities.sort_values('Community District')"
   ]
  },
  {
   "cell_type": "markdown",
   "id": "422010c0",
   "metadata": {},
   "source": [
    "Note 2: Four districts did not have any facilities (These districts did not make it into the dataframe). They are 318,410,411,503. \n",
    "\n",
    "Borough Breakdown: Queens(2), Staten Island (1), Brooklyn (1)\n",
    "\n",
    "The real Bottom 5 is 318, 410, 411, 503, 406\n",
    "\n",
    "We may want to just focus on the Bottom 4 communitites with zero facilities since there are 16 communitites with only 1 facility."
   ]
  },
  {
   "cell_type": "markdown",
   "id": "8aadb158",
   "metadata": {},
   "source": [
    "We will need the list of these community districts to create dataframes for the top & bottom 5 community districts once we add the demographic data."
   ]
  },
  {
   "cell_type": "markdown",
   "id": "e1d18c2e",
   "metadata": {},
   "source": [
    "Now let's add the dmographic data."
   ]
  },
  {
   "cell_type": "code",
   "execution_count": null,
   "id": "54596d75",
   "metadata": {},
   "outputs": [],
   "source": [
    "demographics_cd = pd.read_csv(\"../data/nyc_cd.csv\")"
   ]
  },
  {
   "cell_type": "code",
   "execution_count": null,
   "id": "84121170",
   "metadata": {},
   "outputs": [],
   "source": [
    "demographics_cd.head()"
   ]
  },
  {
   "cell_type": "code",
   "execution_count": null,
   "id": "d8e3c2c2",
   "metadata": {},
   "outputs": [],
   "source": [
    "demographics_cd.info"
   ]
  },
  {
   "cell_type": "code",
   "execution_count": null,
   "id": "89b5e1a4",
   "metadata": {},
   "outputs": [],
   "source": [
    "demographics_cd.shape"
   ]
  },
  {
   "cell_type": "code",
   "execution_count": null,
   "id": "ed2f614a",
   "metadata": {},
   "outputs": [],
   "source": [
    "print(demographics_cd.dtypes)"
   ]
  },
  {
   "cell_type": "code",
   "execution_count": null,
   "id": "e7df8861",
   "metadata": {},
   "outputs": [],
   "source": [
    "demographics_cd.describe()"
   ]
  },
  {
   "cell_type": "code",
   "execution_count": null,
   "id": "1f60f1e4",
   "metadata": {},
   "outputs": [],
   "source": [
    "demographics_cd.corr()"
   ]
  },
  {
   "cell_type": "markdown",
   "id": "5c4b3bd0",
   "metadata": {},
   "source": [
    "Let's make a dataframe for the top 5 healthy community districts. "
   ]
  },
  {
   "cell_type": "code",
   "execution_count": null,
   "id": "8ad08f69",
   "metadata": {},
   "outputs": [],
   "source": [
    "top5_healthycd = demographics_cd[demographics_cd['Community_District'].isin([111, 205, 206,305, 316])]"
   ]
  },
  {
   "cell_type": "code",
   "execution_count": null,
   "id": "98d47ca2",
   "metadata": {},
   "outputs": [],
   "source": [
    "top5_healthycd"
   ]
  },
  {
   "cell_type": "markdown",
   "id": "74a684cc",
   "metadata": {},
   "source": [
    "Interesting: The top 5 districts actually have a higher poverty rate higher than their respective boroughs and city. After looking back at the previous data as well as the history of the Recognized Healthy Shops Awards, these districts have a large amount of healthy shops.\n",
    "\n",
    "Based soley on the poverty demographic these districts. The fact that they have the most recognized healthy stores is actually helping the city achieve it's goal (The Shop Healthy NYC initiative from New York City Health Department) of reaching out to food retailers to increase stock and promotion of healthy foods, including intensively working with stores to meet specific goals; collaborating with distributors and suppliers to facilitate wholesale purchases and widespread promotion of healthy foods; and engaging community constituents (customers) to support participating retailers and increase neighborhood access to healthy foods. \n"
   ]
  },
  {
   "cell_type": "code",
   "execution_count": null,
   "id": "6ce4a224",
   "metadata": {},
   "outputs": [],
   "source": [
    "top5_healthycd.SNAP_Recipients"
   ]
  },
  {
   "cell_type": "code",
   "execution_count": null,
   "id": "b97a85d7",
   "metadata": {},
   "outputs": [],
   "source": [
    "top5_healthycd.SNAP_Recipients.mean()"
   ]
  },
  {
   "cell_type": "code",
   "execution_count": null,
   "id": "111d6744",
   "metadata": {},
   "outputs": [],
   "source": [
    "top5_healthycd.SNAP_Households"
   ]
  },
  {
   "cell_type": "code",
   "execution_count": null,
   "id": "e7bb6953",
   "metadata": {},
   "outputs": [],
   "source": [
    "top5_healthycd.SNAP_Households.mean()"
   ]
  },
  {
   "cell_type": "code",
   "execution_count": null,
   "id": "1da43d82",
   "metadata": {},
   "outputs": [],
   "source": [
    "top5_healthycd.population.mean()"
   ]
  },
  {
   "cell_type": "code",
   "execution_count": null,
   "id": "cdc4d91a",
   "metadata": {},
   "outputs": [],
   "source": [
    "top5_healthycd.poverty_rate.mean()"
   ]
  },
  {
   "cell_type": "code",
   "execution_count": null,
   "id": "4d12f2cd",
   "metadata": {},
   "outputs": [],
   "source": [
    "top5_healthycd.unemployment.mean()"
   ]
  },
  {
   "cell_type": "code",
   "execution_count": null,
   "id": "f5c1cf10",
   "metadata": {},
   "outputs": [],
   "source": [
    "top5_healthycd.pct_hh_rent_burd.mean()"
   ]
  },
  {
   "cell_type": "code",
   "execution_count": null,
   "id": "ba8e9cbe",
   "metadata": {},
   "outputs": [],
   "source": [
    "top5_healthycd.lep_rate.mean()"
   ]
  },
  {
   "cell_type": "code",
   "execution_count": null,
   "id": "80a15547",
   "metadata": {},
   "outputs": [],
   "source": [
    "top5_healthycd.pct_bach_deg.mean()"
   ]
  },
  {
   "cell_type": "code",
   "execution_count": null,
   "id": "68bc73c2",
   "metadata": {},
   "outputs": [],
   "source": [
    "top5_healthycd.pct_white_nh.mean()"
   ]
  },
  {
   "cell_type": "code",
   "execution_count": null,
   "id": "1cce61e2",
   "metadata": {},
   "outputs": [],
   "source": [
    "top5_healthycd.pct_black_nh.mean()"
   ]
  },
  {
   "cell_type": "code",
   "execution_count": null,
   "id": "530ee6a7",
   "metadata": {},
   "outputs": [],
   "source": [
    "top5_healthycd.pct_asian_nh.mean()"
   ]
  },
  {
   "cell_type": "code",
   "execution_count": null,
   "id": "d0820128",
   "metadata": {},
   "outputs": [],
   "source": [
    "top5_healthycd.pct_other_nh.mean()"
   ]
  },
  {
   "cell_type": "code",
   "execution_count": null,
   "id": "c31b666e",
   "metadata": {},
   "outputs": [],
   "source": [
    "top5_healthycd.pct_hispanic.mean()"
   ]
  },
  {
   "cell_type": "code",
   "execution_count": null,
   "id": "0350bf44",
   "metadata": {},
   "outputs": [],
   "source": [
    "top5_healthycd.pct_foreign_born.mean()"
   ]
  },
  {
   "cell_type": "code",
   "execution_count": null,
   "id": "f3a08b8a",
   "metadata": {},
   "outputs": [],
   "source": [
    "top5_healthycd.plot(x=\"Community_District\", y=[\"pct_white_nh\", \"pct_black_nh\",\"pct_asian_nh\",\"pct_other_nh\",\"pct_hispanic\",\"pct_foreign_born\"], kind=\"bar\")"
   ]
  },
  {
   "cell_type": "code",
   "execution_count": null,
   "id": "dcad2329",
   "metadata": {
    "scrolled": false
   },
   "outputs": [],
   "source": [
    "top5_healthycd.plot(x=\"Community_District\", y=[\"poverty_rate\", \"unemployment\",\"pct_hh_rent_burd\",\"lep_rate\",\"pct_bach_deg\"], kind=\"bar\")"
   ]
  },
  {
   "cell_type": "code",
   "execution_count": null,
   "id": "3a2c9366",
   "metadata": {
    "scrolled": false
   },
   "outputs": [],
   "source": [
    "top5_healthycd.plot(x=\"Community_District\", y=[\"SNAP_Recipients\", \"SNAP_Households\"], kind=\"bar\")"
   ]
  },
  {
   "cell_type": "code",
   "execution_count": null,
   "id": "5aa270f5",
   "metadata": {},
   "outputs": [],
   "source": [
    "top5_healthycd.plot(x=\"Community_District\", y=[\"under18_rate\", \"over65_rate\"], kind=\"bar\")"
   ]
  },
  {
   "cell_type": "code",
   "execution_count": null,
   "id": "7c64027c",
   "metadata": {},
   "outputs": [],
   "source": [
    "top5_healthycd.plot(x=\"Community_District\", y=[\"male_under_5\", \"male_5_9\",\"male_10_14\",\"male_15_19\",\"male_20_24\",\"male_25_29\",\"male_30_34\",], kind=\"bar\")"
   ]
  },
  {
   "cell_type": "code",
   "execution_count": null,
   "id": "9e27d14f",
   "metadata": {
    "scrolled": true
   },
   "outputs": [],
   "source": [
    "top5_healthycd.plot(x=\"Community_District\", y=[\"male_35_39\", \"male_40_44\",\"male_45_49\",\"male_50_54\",\"male_55_59\",\"male_60_64\",\"male_65_69\",], kind=\"bar\")"
   ]
  },
  {
   "cell_type": "code",
   "execution_count": null,
   "id": "d15a1b8f",
   "metadata": {
    "scrolled": true
   },
   "outputs": [],
   "source": [
    "top5_healthycd.plot(x=\"Community_District\", y=[\"male_70_74\", \"male_75_79\",\"male_80_84\",\"male_85_over\"], kind=\"bar\")"
   ]
  },
  {
   "cell_type": "code",
   "execution_count": null,
   "id": "c3b5e10c",
   "metadata": {},
   "outputs": [],
   "source": [
    "plt.scatter(top5_healthycd.Community_District,top5_healthycd.population)\n",
    "plt.title('Community District Population')\n",
    "plt.xlabel('Community District')\n",
    "plt.ylabel('Population')\n",
    "plt.show()"
   ]
  },
  {
   "cell_type": "markdown",
   "id": "81f35910",
   "metadata": {},
   "source": [
    "Let's make a dataframe for all the community districts with 0 facilities."
   ]
  },
  {
   "cell_type": "code",
   "execution_count": null,
   "id": "340b6f1f",
   "metadata": {},
   "outputs": [],
   "source": [
    "No_facilitiescd = demographics_cd[demographics_cd['Community_District'].isin([318, 410, 411, 503])]"
   ]
  },
  {
   "cell_type": "code",
   "execution_count": null,
   "id": "1ab95525",
   "metadata": {},
   "outputs": [],
   "source": [
    "No_facilitiescd"
   ]
  },
  {
   "cell_type": "markdown",
   "id": "3d9da82d",
   "metadata": {},
   "source": [
    "Interesting: The districts with no facilities actually have a lower povery rate higher than their respective boroughs and city. Whem it comes to poverty rate the results for both previous dataframes is the opposite of what one would hypothesize."
   ]
  },
  {
   "cell_type": "code",
   "execution_count": null,
   "id": "10f12c6c",
   "metadata": {},
   "outputs": [],
   "source": [
    "No_facilitiescd.SNAP_Recipients"
   ]
  },
  {
   "cell_type": "code",
   "execution_count": null,
   "id": "cca99d64",
   "metadata": {},
   "outputs": [],
   "source": [
    "No_facilitiescd.SNAP_Recipients.mean()"
   ]
  },
  {
   "cell_type": "code",
   "execution_count": null,
   "id": "e1a9f3c9",
   "metadata": {},
   "outputs": [],
   "source": [
    "No_facilitiescd.SNAP_Households"
   ]
  },
  {
   "cell_type": "code",
   "execution_count": null,
   "id": "951b7a0e",
   "metadata": {},
   "outputs": [],
   "source": [
    "No_facilitiescd.SNAP_Households.mean()"
   ]
  },
  {
   "cell_type": "code",
   "execution_count": null,
   "id": "f472a2d8",
   "metadata": {},
   "outputs": [],
   "source": [
    "No_facilitiescd.population.mean()"
   ]
  },
  {
   "cell_type": "code",
   "execution_count": null,
   "id": "f158cefe",
   "metadata": {},
   "outputs": [],
   "source": [
    "No_facilitiescd.poverty_rate.mean()"
   ]
  },
  {
   "cell_type": "code",
   "execution_count": null,
   "id": "23850000",
   "metadata": {},
   "outputs": [],
   "source": [
    "No_facilitiescd.unemployment.mean()"
   ]
  },
  {
   "cell_type": "code",
   "execution_count": null,
   "id": "28c0d4cb",
   "metadata": {},
   "outputs": [],
   "source": [
    "No_facilitiescd.pct_hh_rent_burd.mean()"
   ]
  },
  {
   "cell_type": "code",
   "execution_count": null,
   "id": "e779e177",
   "metadata": {},
   "outputs": [],
   "source": [
    "No_facilitiescd.lep_rate.mean()"
   ]
  },
  {
   "cell_type": "code",
   "execution_count": null,
   "id": "e09bfce1",
   "metadata": {},
   "outputs": [],
   "source": [
    "No_facilitiescd.pct_bach_deg.mean()"
   ]
  },
  {
   "cell_type": "code",
   "execution_count": null,
   "id": "026f0142",
   "metadata": {},
   "outputs": [],
   "source": [
    "No_facilitiescd.pct_white_nh.mean()"
   ]
  },
  {
   "cell_type": "code",
   "execution_count": null,
   "id": "a53f018e",
   "metadata": {},
   "outputs": [],
   "source": [
    "No_facilitiescd.pct_black_nh.mean()"
   ]
  },
  {
   "cell_type": "code",
   "execution_count": null,
   "id": "48fdb056",
   "metadata": {},
   "outputs": [],
   "source": [
    "No_facilitiescd.pct_asian_nh.mean()"
   ]
  },
  {
   "cell_type": "code",
   "execution_count": null,
   "id": "2522387e",
   "metadata": {},
   "outputs": [],
   "source": [
    "No_facilitiescd.pct_other_nh.mean()"
   ]
  },
  {
   "cell_type": "code",
   "execution_count": null,
   "id": "4d0eee65",
   "metadata": {},
   "outputs": [],
   "source": [
    "No_facilitiescd.pct_hispanic.mean()"
   ]
  },
  {
   "cell_type": "code",
   "execution_count": null,
   "id": "8e39384a",
   "metadata": {},
   "outputs": [],
   "source": [
    "No_facilitiescd.pct_foreign_born.mean()"
   ]
  },
  {
   "cell_type": "code",
   "execution_count": null,
   "id": "b793f127",
   "metadata": {},
   "outputs": [],
   "source": [
    "No_facilitiescd.plot(x=\"Community_District\", y=[\"pct_white_nh\", \"pct_black_nh\",\"pct_asian_nh\",\"pct_other_nh\",\"pct_hispanic\",\"pct_foreign_born\"], kind=\"bar\")"
   ]
  },
  {
   "cell_type": "code",
   "execution_count": null,
   "id": "f91f381d",
   "metadata": {},
   "outputs": [],
   "source": [
    "No_facilitiescd.plot(x=\"Community_District\", y=[\"poverty_rate\", \"unemployment\",\"pct_hh_rent_burd\",\"lep_rate\",\"pct_bach_deg\"], kind=\"bar\")"
   ]
  },
  {
   "cell_type": "code",
   "execution_count": null,
   "id": "ec6f9486",
   "metadata": {},
   "outputs": [],
   "source": [
    "No_facilitiescd.plot(x=\"Community_District\", y=[\"SNAP_Recipients\", \"SNAP_Households\"], kind=\"bar\")"
   ]
  },
  {
   "cell_type": "code",
   "execution_count": null,
   "id": "193a7c47",
   "metadata": {},
   "outputs": [],
   "source": [
    "No_facilitiescd.plot(x=\"Community_District\", y=[\"under18_rate\", \"over65_rate\"], kind=\"bar\")"
   ]
  },
  {
   "cell_type": "code",
   "execution_count": null,
   "id": "efaea18a",
   "metadata": {},
   "outputs": [],
   "source": [
    "No_facilitiescd.plot(x=\"Community_District\", y=[\"female_under_5\", \"female_5_9\",\"female_10_14\",\"female_15_19\",\"female_20_24\",\"female_25_29\",\"female_30_34\",], kind=\"bar\")"
   ]
  },
  {
   "cell_type": "code",
   "execution_count": null,
   "id": "cd6cd7fd",
   "metadata": {},
   "outputs": [],
   "source": [
    "No_facilitiescd.plot(x=\"Community_District\", y=[\"female_35_39\", \"female_40_44\",\"female_45_49\",\"female_50_54\",\"female_55_59\",\"female_60_64\",\"female_65_69\",], kind=\"bar\")"
   ]
  },
  {
   "cell_type": "code",
   "execution_count": null,
   "id": "3bf66a26",
   "metadata": {},
   "outputs": [],
   "source": [
    "No_facilitiescd.plot(x=\"Community_District\", y=[\"female_70_74\", \"female_75_79\",\"female_80_84\",\"female_85_over\"], kind=\"bar\")"
   ]
  },
  {
   "cell_type": "code",
   "execution_count": null,
   "id": "fd4503c2",
   "metadata": {},
   "outputs": [],
   "source": [
    "plt.scatter(No_facilitiescd.Community_District, No_facilitiescd.population)\n",
    "plt.title('Community District Population')\n",
    "plt.xlabel('Community District')\n",
    "plt.ylabel('Population')\n",
    "plt.show()"
   ]
  },
  {
   "cell_type": "markdown",
   "id": "4ace5c37",
   "metadata": {},
   "source": [
    "Let's make a few pd data frames."
   ]
  },
  {
   "cell_type": "code",
   "execution_count": null,
   "id": "d50971e7",
   "metadata": {},
   "outputs": [],
   "source": [
    "top_districts = pd.DataFrame(top5_healthycd)"
   ]
  },
  {
   "cell_type": "code",
   "execution_count": null,
   "id": "f8d5ebd1",
   "metadata": {},
   "outputs": [],
   "source": [
    "bottom_districts = pd.DataFrame(No_facilitiescd)"
   ]
  },
  {
   "cell_type": "code",
   "execution_count": null,
   "id": "8356df9e",
   "metadata": {},
   "outputs": [],
   "source": [
    "facilities = pd.DataFrame(healthy_facilities)"
   ]
  },
  {
   "cell_type": "markdown",
   "id": "22206612",
   "metadata": {},
   "source": [
    "Let's make some dataframes into an excel workbook"
   ]
  },
  {
   "cell_type": "code",
   "execution_count": null,
   "id": "e37ab609",
   "metadata": {},
   "outputs": [],
   "source": [
    "xlwriter = pd.ExcelWriter('Healthy_Foods_Output.xlsx')  \n",
    "borough_fm.to_excel(xlwriter, sheet_name='Farmers_Market_Borough')\n",
    "borough_snapcenter.to_excel(xlwriter, sheet_name='SNAP_Center_Borough')\n",
    "borough_healthystores.to_excel(xlwriter, sheet_name='Healthy_Stores_Borough')\n",
    "snapcenter_cd.to_excel(xlwriter, sheet_name='SNAP_Centers')\n",
    "healthystores_cd.to_excel(xlwriter, sheet_name='Healthy_Stores')\n",
    "top_districts.to_excel(xlwriter, sheet_name='Top_Community_Districts')\n",
    "bottom_districts.to_excel(xlwriter, sheet_name='Bottom_Community_Districts')\n",
    "facilities.to_excel(xlwriter, sheet_name='Healthy_Food_Facilities')\n",
    "xlwriter.close()"
   ]
  },
  {
   "cell_type": "markdown",
   "id": "55dba042",
   "metadata": {},
   "source": [
    "Excel work creation was a success. Will push to Github as well."
   ]
  },
  {
   "cell_type": "code",
   "execution_count": null,
   "id": "9aeb853e",
   "metadata": {},
   "outputs": [],
   "source": [
    "bxlwriter = pd.ExcelWriter('Boolean_Analysis_Output.xlsx')\n",
    "fm_ebt.to_excel(bxlwriter, sheet_name='Farmers_Market_EBT')\n",
    "fm_yearround.to_excel(bxlwriter, sheet_name='FM_Year_Round')\n",
    "fm_cooking.to_excel(bxlwriter, sheet_name='FM_Cooking_Demonstrations')\n",
    "fm_kids.to_excel(bxlwriter, sheet_name='FM_Kids_Activities')\n",
    "bxlwriter.close()"
   ]
  },
  {
   "cell_type": "code",
   "execution_count": null,
   "id": "fa02e3b0",
   "metadata": {},
   "outputs": [],
   "source": []
  }
 ],
 "metadata": {
  "kernelspec": {
   "display_name": "Python 3 (ipykernel)",
   "language": "python",
   "name": "python3"
  },
  "language_info": {
   "codemirror_mode": {
    "name": "ipython",
    "version": 3
   },
   "file_extension": ".py",
   "mimetype": "text/x-python",
   "name": "python",
   "nbconvert_exporter": "python",
   "pygments_lexer": "ipython3",
   "version": "3.9.7"
  }
 },
 "nbformat": 4,
 "nbformat_minor": 5
}
