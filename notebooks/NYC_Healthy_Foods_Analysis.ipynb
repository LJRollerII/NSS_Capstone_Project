{
 "cells": [
  {
   "cell_type": "code",
   "execution_count": null,
   "id": "953fcd3c",
   "metadata": {},
   "outputs": [],
   "source": [
    "import pandas as pd\n",
    "import numpy as np\n",
    "import matplotlib.pyplot as plt\n",
    "import seaborn as sns"
   ]
  },
  {
   "cell_type": "code",
   "execution_count": null,
   "id": "bffac360",
   "metadata": {},
   "outputs": [],
   "source": [
    "%matplotlib inline"
   ]
  },
  {
   "cell_type": "markdown",
   "id": "d64d24f0",
   "metadata": {},
   "source": [
    "Let's first bring in and explore Farmers Market data"
   ]
  },
  {
   "cell_type": "code",
   "execution_count": null,
   "id": "da68941c",
   "metadata": {},
   "outputs": [],
   "source": [
    "fmarket_df = pd.read_csv(\"../data/DOHMH_Farmers_Markets.csv\")"
   ]
  },
  {
   "cell_type": "code",
   "execution_count": null,
   "id": "987ce360",
   "metadata": {},
   "outputs": [],
   "source": [
    "fmarket_df.head()"
   ]
  },
  {
   "cell_type": "code",
   "execution_count": null,
   "id": "d8f4717e",
   "metadata": {},
   "outputs": [],
   "source": [
    "fmarket_df.info"
   ]
  },
  {
   "cell_type": "code",
   "execution_count": null,
   "id": "c23d6939",
   "metadata": {},
   "outputs": [],
   "source": [
    "fmarket_df.shape"
   ]
  },
  {
   "cell_type": "code",
   "execution_count": null,
   "id": "e4fc271c",
   "metadata": {},
   "outputs": [],
   "source": [
    "print(fmarket_df.dtypes)"
   ]
  },
  {
   "cell_type": "code",
   "execution_count": null,
   "id": "7738be2b",
   "metadata": {},
   "outputs": [],
   "source": [
    "fmarket_df.describe()"
   ]
  },
  {
   "cell_type": "code",
   "execution_count": null,
   "id": "76243157",
   "metadata": {
    "scrolled": true
   },
   "outputs": [],
   "source": [
    "fmarket_df.corr()"
   ]
  },
  {
   "cell_type": "markdown",
   "id": "b3f14307",
   "metadata": {},
   "source": [
    "Let's get some info on the Farmers Markets"
   ]
  },
  {
   "cell_type": "code",
   "execution_count": null,
   "id": "f82e43a4",
   "metadata": {},
   "outputs": [],
   "source": [
    "fmarket_df.Accepts_EBT.value_counts()"
   ]
  },
  {
   "cell_type": "code",
   "execution_count": null,
   "id": "ea091fda",
   "metadata": {
    "scrolled": true
   },
   "outputs": [],
   "source": [
    "plt.pie(fmarket_df.Accepts_EBT.value_counts())\n",
    "plt.show()"
   ]
  },
  {
   "cell_type": "code",
   "execution_count": null,
   "id": "984a84f4",
   "metadata": {},
   "outputs": [],
   "source": [
    "fmarket_df.Open_Year_Round.value_counts()"
   ]
  },
  {
   "cell_type": "code",
   "execution_count": null,
   "id": "6f106a17",
   "metadata": {},
   "outputs": [],
   "source": [
    "plt.pie(fmarket_df.Open_Year_Round.value_counts())\n",
    "plt.show()"
   ]
  },
  {
   "cell_type": "code",
   "execution_count": null,
   "id": "be3f4190",
   "metadata": {},
   "outputs": [],
   "source": [
    "fmarket_df.Stellar_Cooking_Demonstrations.value_counts()"
   ]
  },
  {
   "cell_type": "code",
   "execution_count": null,
   "id": "e5f84e5f",
   "metadata": {},
   "outputs": [],
   "source": [
    "plt.pie(fmarket_df.Stellar_Cooking_Demonstrations.value_counts())\n",
    "plt.show()"
   ]
  },
  {
   "cell_type": "code",
   "execution_count": null,
   "id": "72115152",
   "metadata": {},
   "outputs": [],
   "source": [
    "fmarket_df.Food_Activities_for_Kids.value_counts()"
   ]
  },
  {
   "cell_type": "code",
   "execution_count": null,
   "id": "344bb311",
   "metadata": {
    "scrolled": false
   },
   "outputs": [],
   "source": [
    "plt.pie(fmarket_df.Food_Activities_for_Kids.value_counts())\n",
    "plt.show()"
   ]
  },
  {
   "cell_type": "markdown",
   "id": "b58ba7b5",
   "metadata": {},
   "source": [
    "95.6% of NYC farmers markets accept EBT and 73.2% are open year round"
   ]
  },
  {
   "cell_type": "markdown",
   "id": "56d212fa",
   "metadata": {},
   "source": [
    "None of the Farmers Markets have cooking demonstrations or activities for kids."
   ]
  },
  {
   "cell_type": "markdown",
   "id": "db5355e4",
   "metadata": {},
   "source": [
    "Now let's look into the community districts"
   ]
  },
  {
   "cell_type": "code",
   "execution_count": null,
   "id": "2652dfb3",
   "metadata": {},
   "outputs": [],
   "source": [
    "fmarket_df.Community_District.value_counts()"
   ]
  },
  {
   "cell_type": "markdown",
   "id": "4acb01de",
   "metadata": {},
   "source": [
    "We will need this community district info later for further analysis, so let's turn it into a dataframe."
   ]
  },
  {
   "cell_type": "code",
   "execution_count": null,
   "id": "87503a47",
   "metadata": {},
   "outputs": [],
   "source": [
    "fmarket_cd = pd.DataFrame(fmarket_df.Community_District.value_counts())"
   ]
  },
  {
   "cell_type": "code",
   "execution_count": null,
   "id": "f161a32b",
   "metadata": {},
   "outputs": [],
   "source": [
    "fmarket_cd"
   ]
  },
  {
   "cell_type": "code",
   "execution_count": null,
   "id": "7592e252",
   "metadata": {},
   "outputs": [],
   "source": [
    "fmarket_cd.columns = ['Farmers Markets']"
   ]
  },
  {
   "cell_type": "code",
   "execution_count": null,
   "id": "ed88b567",
   "metadata": {},
   "outputs": [],
   "source": [
    "fmarket_cd"
   ]
  },
  {
   "cell_type": "code",
   "execution_count": null,
   "id": "402ebd76",
   "metadata": {},
   "outputs": [],
   "source": []
  }
 ],
 "metadata": {
  "kernelspec": {
   "display_name": "Python 3 (ipykernel)",
   "language": "python",
   "name": "python3"
  },
  "language_info": {
   "codemirror_mode": {
    "name": "ipython",
    "version": 3
   },
   "file_extension": ".py",
   "mimetype": "text/x-python",
   "name": "python",
   "nbconvert_exporter": "python",
   "pygments_lexer": "ipython3",
   "version": "3.9.7"
  }
 },
 "nbformat": 4,
 "nbformat_minor": 5
}
