{
 "cells": [
  {
   "cell_type": "code",
   "execution_count": null,
   "id": "dca09b99",
   "metadata": {},
   "outputs": [],
   "source": [
    "import pandas as pd\n",
    "import numpy as np\n",
    "import matplotlib.pyplot as plt\n",
    "import seaborn as sns"
   ]
  },
  {
   "cell_type": "code",
   "execution_count": null,
   "id": "03d610a8",
   "metadata": {},
   "outputs": [],
   "source": [
    "%matplotlib inline"
   ]
  },
  {
   "cell_type": "markdown",
   "id": "4e0b646b",
   "metadata": {},
   "source": [
    "Let's first bring in and explore Farmers Market data"
   ]
  },
  {
   "cell_type": "code",
   "execution_count": null,
   "id": "20e29317",
   "metadata": {},
   "outputs": [],
   "source": [
    "fmarket_df = pd.read_csv(\"../data/DOHMH_Farmers_Markets.csv\")"
   ]
  },
  {
   "cell_type": "code",
   "execution_count": null,
   "id": "caac7bf1",
   "metadata": {},
   "outputs": [],
   "source": [
    "fmarket_df.head()"
   ]
  },
  {
   "cell_type": "code",
   "execution_count": null,
   "id": "a78f717c",
   "metadata": {},
   "outputs": [],
   "source": [
    "fmarket_df.info"
   ]
  },
  {
   "cell_type": "code",
   "execution_count": null,
   "id": "a4b0bc9a",
   "metadata": {},
   "outputs": [],
   "source": [
    "fmarket_df.shape"
   ]
  },
  {
   "cell_type": "code",
   "execution_count": null,
   "id": "13965892",
   "metadata": {},
   "outputs": [],
   "source": [
    "print(fmarket_df.dtypes)"
   ]
  },
  {
   "cell_type": "code",
   "execution_count": null,
   "id": "638e7bad",
   "metadata": {},
   "outputs": [],
   "source": [
    "fmarket_df.describe()"
   ]
  },
  {
   "cell_type": "code",
   "execution_count": null,
   "id": "d89e1dd9",
   "metadata": {
    "scrolled": true
   },
   "outputs": [],
   "source": [
    "fmarket_df.corr()"
   ]
  },
  {
   "cell_type": "markdown",
   "id": "799f89ea",
   "metadata": {},
   "source": [
    "Let's get some info on the Farmers Markets"
   ]
  },
  {
   "cell_type": "code",
   "execution_count": null,
   "id": "3dd6395c",
   "metadata": {},
   "outputs": [],
   "source": [
    "fmarket_df.Accepts_EBT.value_counts()"
   ]
  },
  {
   "cell_type": "code",
   "execution_count": null,
   "id": "18bbc4bf",
   "metadata": {
    "scrolled": true
   },
   "outputs": [],
   "source": [
    "plt.pie(fmarket_df.Accepts_EBT.value_counts())\n",
    "plt.show()"
   ]
  },
  {
   "cell_type": "code",
   "execution_count": null,
   "id": "2601f159",
   "metadata": {},
   "outputs": [],
   "source": [
    "fmarket_df.Open_Year_Round.value_counts()"
   ]
  },
  {
   "cell_type": "code",
   "execution_count": null,
   "id": "4d5bc602",
   "metadata": {},
   "outputs": [],
   "source": [
    "plt.pie(fmarket_df.Open_Year_Round.value_counts())\n",
    "plt.show()"
   ]
  },
  {
   "cell_type": "code",
   "execution_count": null,
   "id": "6c7668d0",
   "metadata": {},
   "outputs": [],
   "source": [
    "fmarket_df.Stellar_Cooking_Demonstrations.value_counts()"
   ]
  },
  {
   "cell_type": "code",
   "execution_count": null,
   "id": "167d2639",
   "metadata": {},
   "outputs": [],
   "source": [
    "plt.pie(fmarket_df.Stellar_Cooking_Demonstrations.value_counts())\n",
    "plt.show()"
   ]
  },
  {
   "cell_type": "code",
   "execution_count": null,
   "id": "de4c14c7",
   "metadata": {},
   "outputs": [],
   "source": [
    "fmarket_df.Food_Activities_for_Kids.value_counts()"
   ]
  },
  {
   "cell_type": "code",
   "execution_count": null,
   "id": "9ba65fa5",
   "metadata": {
    "scrolled": false
   },
   "outputs": [],
   "source": [
    "plt.pie(fmarket_df.Food_Activities_for_Kids.value_counts())\n",
    "plt.show()"
   ]
  },
  {
   "cell_type": "markdown",
   "id": "68e7bc86",
   "metadata": {},
   "source": [
    "95.6% of NYC farmers markets accept EBT and 73.2% are open year round"
   ]
  },
  {
   "cell_type": "markdown",
   "id": "d953ac26",
   "metadata": {},
   "source": [
    "None of the Farmers Markets have cooking demonstrations or activities for kids."
   ]
  },
  {
   "cell_type": "code",
   "execution_count": null,
   "id": "aefdd0c0",
   "metadata": {
    "scrolled": true
   },
   "outputs": [],
   "source": [
    "fmarket_df.Days_of_Operation.value_counts()"
   ]
  },
  {
   "cell_type": "markdown",
   "id": "b976b616",
   "metadata": {},
   "source": [
    "Saturday is the most popular day for Farmers Markets to be opn in NYC"
   ]
  },
  {
   "cell_type": "code",
   "execution_count": null,
   "id": "5dfe4121",
   "metadata": {},
   "outputs": [],
   "source": [
    "fmarket_df.Borough.value_counts()"
   ]
  },
  {
   "cell_type": "code",
   "execution_count": null,
   "id": "b3cf00c5",
   "metadata": {
    "scrolled": true
   },
   "outputs": [],
   "source": [
    "plt.hist(fmarket_df.Borough)\n",
    "plt.show()"
   ]
  },
  {
   "cell_type": "markdown",
   "id": "fa6d87fb",
   "metadata": {},
   "source": [
    "Brooklyn has the most farmers markets"
   ]
  },
  {
   "cell_type": "markdown",
   "id": "9ca1b0e6",
   "metadata": {},
   "source": [
    "Now let's look into the community districts"
   ]
  },
  {
   "cell_type": "code",
   "execution_count": null,
   "id": "3a24507c",
   "metadata": {
    "scrolled": true
   },
   "outputs": [],
   "source": [
    "fmarket_df.Community_District.value_counts()"
   ]
  },
  {
   "cell_type": "markdown",
   "id": "cc89f6bd",
   "metadata": {},
   "source": [
    "Brooklyn Community District 16 has the most Farmers Markets in NYC"
   ]
  },
  {
   "cell_type": "markdown",
   "id": "4f8b66d4",
   "metadata": {},
   "source": [
    "We will need this community district info later for further analysis, so let's turn it into a dataframe."
   ]
  },
  {
   "cell_type": "code",
   "execution_count": null,
   "id": "ea17e2ec",
   "metadata": {},
   "outputs": [],
   "source": [
    "fmarket_cd = pd.DataFrame(fmarket_df.Community_District.value_counts().reset_index())"
   ]
  },
  {
   "cell_type": "code",
   "execution_count": null,
   "id": "c5be7bb6",
   "metadata": {},
   "outputs": [],
   "source": [
    "fmarket_cd"
   ]
  },
  {
   "cell_type": "code",
   "execution_count": null,
   "id": "69371975",
   "metadata": {},
   "outputs": [],
   "source": [
    "fmarket_cd.columns = ['Community District','Farmers Markets']"
   ]
  },
  {
   "cell_type": "code",
   "execution_count": null,
   "id": "667f520e",
   "metadata": {},
   "outputs": [],
   "source": [
    "fmarket_cd"
   ]
  },
  {
   "cell_type": "markdown",
   "id": "dde4b4f7",
   "metadata": {},
   "source": [
    "Lets bring in the SNAP Centers data"
   ]
  },
  {
   "cell_type": "code",
   "execution_count": null,
   "id": "8e05a8ee",
   "metadata": {},
   "outputs": [],
   "source": [
    "snapcenter_df = pd.read_csv(\"../data/Directory_of_SNAP_Centers.csv\")"
   ]
  },
  {
   "cell_type": "code",
   "execution_count": null,
   "id": "4d63d636",
   "metadata": {},
   "outputs": [],
   "source": [
    "snapcenter_df.head()"
   ]
  },
  {
   "cell_type": "code",
   "execution_count": null,
   "id": "29683ecd",
   "metadata": {},
   "outputs": [],
   "source": [
    "snapcenter_df.info"
   ]
  },
  {
   "cell_type": "code",
   "execution_count": null,
   "id": "dfc97261",
   "metadata": {},
   "outputs": [],
   "source": [
    "snapcenter_df.shape"
   ]
  },
  {
   "cell_type": "code",
   "execution_count": null,
   "id": "39367cab",
   "metadata": {},
   "outputs": [],
   "source": [
    "print(snapcenter_df.dtypes)"
   ]
  },
  {
   "cell_type": "code",
   "execution_count": null,
   "id": "021b0389",
   "metadata": {},
   "outputs": [],
   "source": [
    "snapcenter_df.describe()"
   ]
  },
  {
   "cell_type": "code",
   "execution_count": null,
   "id": "2dfa0825",
   "metadata": {},
   "outputs": [],
   "source": [
    "snapcenter_df.corr()"
   ]
  },
  {
   "cell_type": "markdown",
   "id": "85f87c78",
   "metadata": {},
   "source": [
    "Let's get some info on the SNAP Centers"
   ]
  },
  {
   "cell_type": "code",
   "execution_count": null,
   "id": "740a2682",
   "metadata": {},
   "outputs": [],
   "source": [
    "snapcenter_df.Borough.value_counts()"
   ]
  },
  {
   "cell_type": "code",
   "execution_count": null,
   "id": "ba550eaa",
   "metadata": {},
   "outputs": [],
   "source": [
    "plt.hist(snapcenter_df.Borough)\n",
    "plt.show()"
   ]
  },
  {
   "cell_type": "markdown",
   "id": "ae04f1f2",
   "metadata": {},
   "source": [
    "Brooklyn has the most SNAP Centers"
   ]
  },
  {
   "cell_type": "code",
   "execution_count": null,
   "id": "16fb4ddd",
   "metadata": {},
   "outputs": [],
   "source": [
    "snapcenter_df.Community_District.value_counts()"
   ]
  },
  {
   "cell_type": "markdown",
   "id": "75fad192",
   "metadata": {},
   "source": [
    "Brooklyn Community District 13 has the most SNAP Centers. It's the only district in the city that has more than one."
   ]
  },
  {
   "cell_type": "markdown",
   "id": "de6e89fc",
   "metadata": {},
   "source": [
    "We will need this community district info later for further analysis, so let's turn it into a dataframe."
   ]
  },
  {
   "cell_type": "code",
   "execution_count": null,
   "id": "04b346fe",
   "metadata": {},
   "outputs": [],
   "source": [
    "snapcenter_cd = pd.DataFrame(snapcenter_df.Community_District.value_counts().reset_index())"
   ]
  },
  {
   "cell_type": "code",
   "execution_count": null,
   "id": "5be81441",
   "metadata": {},
   "outputs": [],
   "source": [
    "snapcenter_cd"
   ]
  },
  {
   "cell_type": "code",
   "execution_count": null,
   "id": "c511739b",
   "metadata": {},
   "outputs": [],
   "source": [
    "snapcenter_cd.columns = ['Community District', 'SNAP Centers']"
   ]
  },
  {
   "cell_type": "code",
   "execution_count": null,
   "id": "621b1924",
   "metadata": {},
   "outputs": [],
   "source": [
    "snapcenter_cd"
   ]
  },
  {
   "cell_type": "markdown",
   "id": "c60a413c",
   "metadata": {},
   "source": [
    "Lets bring in the Healthy Stores data"
   ]
  },
  {
   "cell_type": "code",
   "execution_count": null,
   "id": "a57b7400",
   "metadata": {},
   "outputs": [],
   "source": [
    "healthystores_df = pd.read_csv(\"../data/Recognized_Shop_Healthy_Stores.csv\")"
   ]
  },
  {
   "cell_type": "code",
   "execution_count": null,
   "id": "441412fa",
   "metadata": {},
   "outputs": [],
   "source": [
    "healthystores_df.head()"
   ]
  },
  {
   "cell_type": "code",
   "execution_count": null,
   "id": "ff5002df",
   "metadata": {},
   "outputs": [],
   "source": [
    "healthystores_df.info"
   ]
  },
  {
   "cell_type": "code",
   "execution_count": null,
   "id": "f934a630",
   "metadata": {},
   "outputs": [],
   "source": [
    "healthystores_df.shape"
   ]
  },
  {
   "cell_type": "code",
   "execution_count": null,
   "id": "d092108f",
   "metadata": {},
   "outputs": [],
   "source": [
    "print(healthystores_df.dtypes)"
   ]
  },
  {
   "cell_type": "code",
   "execution_count": null,
   "id": "80ddd868",
   "metadata": {},
   "outputs": [],
   "source": [
    "healthystores_df.describe()"
   ]
  },
  {
   "cell_type": "code",
   "execution_count": null,
   "id": "7070dbe6",
   "metadata": {},
   "outputs": [],
   "source": [
    "healthystores_df.corr()"
   ]
  },
  {
   "cell_type": "markdown",
   "id": "8be6be34",
   "metadata": {},
   "source": [
    "Let's get some info on the Healthy Stores"
   ]
  },
  {
   "cell_type": "code",
   "execution_count": null,
   "id": "534242db",
   "metadata": {},
   "outputs": [],
   "source": [
    "healthystores_df.Borough.value_counts()"
   ]
  },
  {
   "cell_type": "code",
   "execution_count": null,
   "id": "2c4e25fd",
   "metadata": {
    "scrolled": true
   },
   "outputs": [],
   "source": [
    "plt.hist(healthystores_df.Borough)\n",
    "plt.show()"
   ]
  },
  {
   "cell_type": "markdown",
   "id": "67bde3af",
   "metadata": {},
   "source": [
    "The Bronx had the most health stores. There were no recognized healthy stores in Queens or Staten Island. That is both interesting and surprising. I'm going to look deeper into the history of the recognized healthy shops to see if there is a reason for that."
   ]
  },
  {
   "cell_type": "code",
   "execution_count": null,
   "id": "21950f67",
   "metadata": {},
   "outputs": [],
   "source": [
    "healthystores_df.Community_District.value_counts()"
   ]
  },
  {
   "cell_type": "markdown",
   "id": "78b28051",
   "metadata": {},
   "source": [
    "Manhattan Distirct 11 had the most health recognized shops."
   ]
  },
  {
   "cell_type": "markdown",
   "id": "ac075504",
   "metadata": {},
   "source": [
    "We will need this community district info later for further analysis, so let's turn it into a dataframe."
   ]
  },
  {
   "cell_type": "code",
   "execution_count": null,
   "id": "9f7e32d0",
   "metadata": {},
   "outputs": [],
   "source": [
    "healthystores_cd = pd.DataFrame(healthystores_df.Community_District.value_counts().reset_index())"
   ]
  },
  {
   "cell_type": "code",
   "execution_count": null,
   "id": "c65b02a3",
   "metadata": {},
   "outputs": [],
   "source": [
    "healthystores_cd"
   ]
  },
  {
   "cell_type": "code",
   "execution_count": null,
   "id": "25cbdf8c",
   "metadata": {},
   "outputs": [],
   "source": [
    "healthystores_cd.columns = ['Community District','Healthy Stores']"
   ]
  },
  {
   "cell_type": "code",
   "execution_count": null,
   "id": "e4f2d8bf",
   "metadata": {},
   "outputs": [],
   "source": [
    "healthystores_cd"
   ]
  },
  {
   "cell_type": "markdown",
   "id": "80c5217c",
   "metadata": {},
   "source": [
    "Now that we have a value counts data fram for the Farmers Markets, Healthy Stores, and SNAP Centers, lets merge them all into one data frame."
   ]
  },
  {
   "cell_type": "code",
   "execution_count": null,
   "id": "7abfb49e",
   "metadata": {},
   "outputs": [],
   "source": [
    "marketsnap_df = pd.merge(fmarket_cd, snapcenter_cd, on=['Community District'],how='outer')"
   ]
  },
  {
   "cell_type": "code",
   "execution_count": null,
   "id": "aa991ba2",
   "metadata": {},
   "outputs": [],
   "source": [
    "marketsnap_df.head()"
   ]
  },
  {
   "cell_type": "code",
   "execution_count": null,
   "id": "959f4d5d",
   "metadata": {},
   "outputs": [],
   "source": [
    "healthy_facilities =  pd.merge(marketsnap_df, healthystores_cd, on=['Community District'],how='outer')"
   ]
  },
  {
   "cell_type": "code",
   "execution_count": null,
   "id": "b715d571",
   "metadata": {},
   "outputs": [],
   "source": [
    "healthy_facilities.head()"
   ]
  },
  {
   "cell_type": "markdown",
   "id": "d7c58bb1",
   "metadata": {},
   "source": [
    "Now that all the value count data frames are merged into one, lets add a column which represents the sum of farmers markets, healthy stores, and SNAP centers for each community district."
   ]
  },
  {
   "cell_type": "code",
   "execution_count": null,
   "id": "1650f6cd",
   "metadata": {},
   "outputs": [],
   "source": [
    "healthy_facilities['Total_Facilities'] = round(healthy_facilities['Farmers Markets'] + healthy_facilities['SNAP Centers'] + healthy_facilities['Healthy Stores'],0)"
   ]
  },
  {
   "cell_type": "code",
   "execution_count": null,
   "id": "8f1b8cf0",
   "metadata": {
    "scrolled": true
   },
   "outputs": [],
   "source": [
    "healthy_facilities"
   ]
  },
  {
   "cell_type": "markdown",
   "id": "6440c468",
   "metadata": {},
   "source": [
    "We will need to fix the NULL problem in order to get the correct calculations."
   ]
  },
  {
   "cell_type": "markdown",
   "id": "b04d1cb3",
   "metadata": {},
   "source": [
    "Let's replace the NULLs with zeros to get the correct calculations in the healthy facilities dataframe"
   ]
  },
  {
   "cell_type": "code",
   "execution_count": null,
   "id": "ee4b216e",
   "metadata": {},
   "outputs": [],
   "source": [
    "healthy_facilities['Farmers Markets'].fillna(0, inplace = True)"
   ]
  },
  {
   "cell_type": "code",
   "execution_count": null,
   "id": "359285b8",
   "metadata": {
    "scrolled": true
   },
   "outputs": [],
   "source": [
    "healthy_facilities"
   ]
  },
  {
   "cell_type": "code",
   "execution_count": null,
   "id": "6f683300",
   "metadata": {},
   "outputs": [],
   "source": [
    "healthy_facilities['SNAP Centers'].fillna(0, inplace = True)"
   ]
  },
  {
   "cell_type": "code",
   "execution_count": null,
   "id": "1e1de4db",
   "metadata": {},
   "outputs": [],
   "source": [
    "healthy_facilities"
   ]
  },
  {
   "cell_type": "code",
   "execution_count": null,
   "id": "d7a0d4cb",
   "metadata": {},
   "outputs": [],
   "source": [
    "healthy_facilities['Healthy Stores'].fillna(0, inplace = True)"
   ]
  },
  {
   "cell_type": "code",
   "execution_count": null,
   "id": "6d8eb516",
   "metadata": {},
   "outputs": [],
   "source": [
    "healthy_facilities"
   ]
  },
  {
   "cell_type": "code",
   "execution_count": null,
   "id": "23c72458",
   "metadata": {},
   "outputs": [],
   "source": [
    "healthy_facilities['Total_Facilities'].fillna(0, inplace = True)"
   ]
  },
  {
   "cell_type": "code",
   "execution_count": null,
   "id": "0ac28ac5",
   "metadata": {
    "scrolled": true
   },
   "outputs": [],
   "source": [
    "healthy_facilities"
   ]
  },
  {
   "cell_type": "code",
   "execution_count": null,
   "id": "05031381",
   "metadata": {},
   "outputs": [],
   "source": [
    "healthy_facilities['Facilities'] = round(healthy_facilities['Farmers Markets'] + healthy_facilities['SNAP Centers'] + healthy_facilities['Healthy Stores'],0)"
   ]
  },
  {
   "cell_type": "code",
   "execution_count": null,
   "id": "c2ce5fce",
   "metadata": {
    "scrolled": true
   },
   "outputs": [],
   "source": [
    "healthy_facilities"
   ]
  },
  {
   "cell_type": "markdown",
   "id": "70a2de20",
   "metadata": {},
   "source": [
    "We can drop the total facilities column now that we've fixed our NULL issuse"
   ]
  },
  {
   "cell_type": "code",
   "execution_count": null,
   "id": "db2e9492",
   "metadata": {
    "scrolled": true
   },
   "outputs": [],
   "source": [
    "healthy_facilities.drop(columns=['Total_Facilities'])"
   ]
  },
  {
   "cell_type": "markdown",
   "id": "8ec6cdc4",
   "metadata": {},
   "source": [
    "Now that we have the total number of facilitites, lets find the top & bottom 5 community districts."
   ]
  },
  {
   "cell_type": "code",
   "execution_count": null,
   "id": "5ea2a803",
   "metadata": {
    "scrolled": true
   },
   "outputs": [],
   "source": [
    "healthy_facilities.Facilities.nlargest(5)"
   ]
  },
  {
   "cell_type": "code",
   "execution_count": null,
   "id": "89db242d",
   "metadata": {},
   "outputs": [],
   "source": [
    "healthy_facilities.sort_values('Facilities')"
   ]
  },
  {
   "cell_type": "code",
   "execution_count": null,
   "id": "ad528644",
   "metadata": {
    "scrolled": true
   },
   "outputs": [],
   "source": [
    "healthy_facilities.Facilities.nsmallest(5)"
   ]
  },
  {
   "cell_type": "markdown",
   "id": "1f320fc6",
   "metadata": {},
   "source": [
    "Top 5: 111, 205, 206, 316, 305"
   ]
  },
  {
   "cell_type": "markdown",
   "id": "dc505b2b",
   "metadata": {},
   "source": [
    "Bottom 5: 210, 106, 209, 211, 315"
   ]
  },
  {
   "cell_type": "markdown",
   "id": "3f5c8fd0",
   "metadata": {},
   "source": [
    "Note: 355 is a special district. It's not a community, it's actually a park.\n",
    "It's also important to note that 16 communities only have one facility."
   ]
  },
  {
   "cell_type": "markdown",
   "id": "8aadb158",
   "metadata": {},
   "source": [
    "We will need the list of these community districts to create dataframes for the top & bottom 5 community districts once we add the demographic data."
   ]
  },
  {
   "cell_type": "code",
   "execution_count": null,
   "id": "197a5e02",
   "metadata": {},
   "outputs": [],
   "source": []
  },
  {
   "cell_type": "code",
   "execution_count": null,
   "id": "54596d75",
   "metadata": {},
   "outputs": [],
   "source": []
  }
 ],
 "metadata": {
  "kernelspec": {
   "display_name": "Python 3 (ipykernel)",
   "language": "python",
   "name": "python3"
  },
  "language_info": {
   "codemirror_mode": {
    "name": "ipython",
    "version": 3
   },
   "file_extension": ".py",
   "mimetype": "text/x-python",
   "name": "python",
   "nbconvert_exporter": "python",
   "pygments_lexer": "ipython3",
   "version": "3.9.7"
  }
 },
 "nbformat": 4,
 "nbformat_minor": 5
}
