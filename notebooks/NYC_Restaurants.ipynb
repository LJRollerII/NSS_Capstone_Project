{
 "cells": [
  {
   "cell_type": "code",
   "execution_count": null,
   "id": "660b840a",
   "metadata": {},
   "outputs": [],
   "source": [
    "import pandas as pd\n",
    "import numpy as np\n",
    "import matplotlib.pyplot as plt\n",
    "import seaborn as sns"
   ]
  },
  {
   "cell_type": "code",
   "execution_count": null,
   "id": "a80cb97a",
   "metadata": {},
   "outputs": [],
   "source": [
    "%matplotlib inline"
   ]
  },
  {
   "cell_type": "code",
   "execution_count": null,
   "id": "d4370cb7",
   "metadata": {},
   "outputs": [],
   "source": [
    "restaurants_df = pd.read_csv(\"../data/DOHMH_New_York_City_Restaurant_Inspection_Results.csv\")"
   ]
  },
  {
   "cell_type": "code",
   "execution_count": null,
   "id": "4e39e3ea",
   "metadata": {},
   "outputs": [],
   "source": [
    "restaurants_df.head()"
   ]
  },
  {
   "cell_type": "code",
   "execution_count": null,
   "id": "67265ea3",
   "metadata": {},
   "outputs": [],
   "source": [
    "restaurants_df.info"
   ]
  },
  {
   "cell_type": "code",
   "execution_count": null,
   "id": "512c48ee",
   "metadata": {},
   "outputs": [],
   "source": [
    "restaurants_df.shape"
   ]
  },
  {
   "cell_type": "code",
   "execution_count": null,
   "id": "013bd5ce",
   "metadata": {},
   "outputs": [],
   "source": [
    "print(restaurants_df.dtypes)"
   ]
  },
  {
   "cell_type": "code",
   "execution_count": null,
   "id": "518260a4",
   "metadata": {},
   "outputs": [],
   "source": [
    "restaurants_df.describe()"
   ]
  },
  {
   "cell_type": "code",
   "execution_count": null,
   "id": "e5749e0b",
   "metadata": {},
   "outputs": [],
   "source": [
    "restaurants_df.corr()"
   ]
  },
  {
   "cell_type": "markdown",
   "id": "fbba6c53",
   "metadata": {},
   "source": [
    "Let's the raw value count of restaurants in each bourough (Without filtering for NULLs)"
   ]
  },
  {
   "cell_type": "code",
   "execution_count": null,
   "id": "7b7eeac9",
   "metadata": {},
   "outputs": [],
   "source": [
    "restaurants_df.Borough.value_counts()"
   ]
  },
  {
   "cell_type": "code",
   "execution_count": null,
   "id": "93446c1c",
   "metadata": {},
   "outputs": [],
   "source": [
    "boro_restaurants = pd.DataFrame(restaurants_df.Borough.value_counts().reset_index())"
   ]
  },
  {
   "cell_type": "code",
   "execution_count": null,
   "id": "85d956e1",
   "metadata": {},
   "outputs": [],
   "source": [
    "boro_restaurants"
   ]
  },
  {
   "cell_type": "code",
   "execution_count": null,
   "id": "a742c915",
   "metadata": {},
   "outputs": [],
   "source": [
    "boro_restaurants.columns = ['Borough', 'Restaurants']"
   ]
  },
  {
   "cell_type": "code",
   "execution_count": null,
   "id": "f4601015",
   "metadata": {},
   "outputs": [],
   "source": [
    "boro_restaurants"
   ]
  },
  {
   "cell_type": "markdown",
   "id": "fd6d0074",
   "metadata": {},
   "source": [
    "Based of raw data, Manhattan has the most restaurants. There are 77 restaurants where the borough is unknown/NULL"
   ]
  },
  {
   "cell_type": "markdown",
   "id": "c7b22b03",
   "metadata": {},
   "source": [
    "Let's look at the number of restaurants by community district"
   ]
  },
  {
   "cell_type": "code",
   "execution_count": null,
   "id": "33474325",
   "metadata": {},
   "outputs": [],
   "source": [
    "restaurants_df.Community_District.value_counts()"
   ]
  },
  {
   "cell_type": "code",
   "execution_count": null,
   "id": "d6ffd64d",
   "metadata": {},
   "outputs": [],
   "source": [
    "CD_restaurants = pd.DataFrame(restaurants_df.Community_District.value_counts().reset_index())"
   ]
  },
  {
   "cell_type": "code",
   "execution_count": null,
   "id": "e0564ffc",
   "metadata": {},
   "outputs": [],
   "source": [
    "CD_restaurants"
   ]
  },
  {
   "cell_type": "code",
   "execution_count": null,
   "id": "7e30fe28",
   "metadata": {},
   "outputs": [],
   "source": [
    "CD_restaurants.columns = ['Community District', 'Restaurants']"
   ]
  },
  {
   "cell_type": "code",
   "execution_count": null,
   "id": "ba2193e3",
   "metadata": {},
   "outputs": [],
   "source": [
    "CD_restaurants"
   ]
  },
  {
   "cell_type": "markdown",
   "id": "00312519",
   "metadata": {},
   "source": [
    "Manhattan Community District 105 has the most restaurants."
   ]
  },
  {
   "cell_type": "markdown",
   "id": "559db986",
   "metadata": {},
   "source": [
    "Let's look at types of restaurants in the city."
   ]
  },
  {
   "cell_type": "code",
   "execution_count": null,
   "id": "8bd0ee1c",
   "metadata": {},
   "outputs": [],
   "source": [
    "restaurants_df.Cuisine_Description.value_counts()"
   ]
  },
  {
   "cell_type": "code",
   "execution_count": null,
   "id": "971e8bbd",
   "metadata": {},
   "outputs": [],
   "source": [
    "cuisine_nyc = pd.DataFrame(restaurants_df.Cuisine_Description.value_counts().reset_index())"
   ]
  },
  {
   "cell_type": "code",
   "execution_count": null,
   "id": "8a54343c",
   "metadata": {},
   "outputs": [],
   "source": [
    "cuisine_nyc"
   ]
  },
  {
   "cell_type": "code",
   "execution_count": null,
   "id": "95e75630",
   "metadata": {},
   "outputs": [],
   "source": [
    "cuisine_nyc.columns = ['Cuisine Type', 'Restaurants']"
   ]
  },
  {
   "cell_type": "code",
   "execution_count": null,
   "id": "600b0d4d",
   "metadata": {},
   "outputs": [],
   "source": [
    "cuisine_nyc"
   ]
  },
  {
   "cell_type": "markdown",
   "id": "b5a9b454",
   "metadata": {},
   "source": [
    "American food is the most popular restaurant (numerically) in NYC."
   ]
  },
  {
   "cell_type": "markdown",
   "id": "43b89a43",
   "metadata": {},
   "source": [
    "Let's look at the health inspection grades."
   ]
  },
  {
   "cell_type": "code",
   "execution_count": null,
   "id": "59f86c73",
   "metadata": {
    "scrolled": true
   },
   "outputs": [],
   "source": [
    "restaurants_df.Grade.value_counts()"
   ]
  },
  {
   "cell_type": "code",
   "execution_count": null,
   "id": "503f98c0",
   "metadata": {},
   "outputs": [],
   "source": [
    "restaurant_grade_nyc = pd.DataFrame(restaurants_df.Grade.value_counts().reset_index())"
   ]
  },
  {
   "cell_type": "code",
   "execution_count": null,
   "id": "d81e5ff2",
   "metadata": {},
   "outputs": [],
   "source": [
    "restaurant_grade_nyc"
   ]
  },
  {
   "cell_type": "code",
   "execution_count": null,
   "id": "1eca5435",
   "metadata": {},
   "outputs": [],
   "source": [
    "restaurant_grade_nyc.columns = ['Grade', 'Total']"
   ]
  },
  {
   "cell_type": "code",
   "execution_count": null,
   "id": "423ba312",
   "metadata": {},
   "outputs": [],
   "source": [
    "restaurant_grade_nyc"
   ]
  },
  {
   "cell_type": "markdown",
   "id": "4e79820d",
   "metadata": {},
   "source": [
    "Most Restaurants in the city got an A grade. That's good to know."
   ]
  },
  {
   "cell_type": "markdown",
   "id": "482bf66e",
   "metadata": {},
   "source": [
    "How much Null data do we have?"
   ]
  },
  {
   "cell_type": "code",
   "execution_count": null,
   "id": "d1385514",
   "metadata": {},
   "outputs": [],
   "source": [
    "restaurants_df.isnull().sum()"
   ]
  },
  {
   "cell_type": "markdown",
   "id": "031da84a",
   "metadata": {},
   "source": [
    "There's a decent amount of NULL values in this database. Some of it is located in columns we will not need for our specific analysis."
   ]
  },
  {
   "cell_type": "markdown",
   "id": "a0f3ce58",
   "metadata": {},
   "source": [
    "Let's make some dataframes based on boroughs and the Health Food Analysis notebook."
   ]
  },
  {
   "cell_type": "markdown",
   "id": "0909f99e",
   "metadata": {},
   "source": [
    "Let's start with the boroughs first."
   ]
  },
  {
   "cell_type": "code",
   "execution_count": null,
   "id": "183f3ff3",
   "metadata": {},
   "outputs": [],
   "source": [
    "brooklyn_df = restaurants_df[restaurants_df.Borough == 'Brooklyn']"
   ]
  },
  {
   "cell_type": "code",
   "execution_count": null,
   "id": "e5931a5c",
   "metadata": {
    "scrolled": true
   },
   "outputs": [],
   "source": [
    "brooklyn_df.head()"
   ]
  },
  {
   "cell_type": "code",
   "execution_count": null,
   "id": "78eb10b3",
   "metadata": {},
   "outputs": [],
   "source": [
    "brooklyn = pd.DataFrame(brooklyn_df)"
   ]
  },
  {
   "cell_type": "code",
   "execution_count": null,
   "id": "40382507",
   "metadata": {},
   "outputs": [],
   "source": [
    "brooklyn"
   ]
  },
  {
   "cell_type": "code",
   "execution_count": null,
   "id": "d205dea5",
   "metadata": {
    "scrolled": true
   },
   "outputs": [],
   "source": [
    "brooklyn_df.Cuisine_Description.value_counts()"
   ]
  },
  {
   "cell_type": "code",
   "execution_count": null,
   "id": "3c6c169a",
   "metadata": {},
   "outputs": [],
   "source": [
    "brooklyn_cuisine = pd.DataFrame(brooklyn_df.Cuisine_Description.value_counts().reset_index())"
   ]
  },
  {
   "cell_type": "code",
   "execution_count": null,
   "id": "a22b6494",
   "metadata": {},
   "outputs": [],
   "source": [
    "brooklyn_cuisine"
   ]
  },
  {
   "cell_type": "code",
   "execution_count": null,
   "id": "581182b2",
   "metadata": {},
   "outputs": [],
   "source": [
    "brooklyn_cuisine.columns = ['Cuisine Type', 'Restaurants']"
   ]
  },
  {
   "cell_type": "code",
   "execution_count": null,
   "id": "6121519e",
   "metadata": {},
   "outputs": [],
   "source": [
    "brooklyn_cuisine"
   ]
  },
  {
   "cell_type": "markdown",
   "id": "c5d33354",
   "metadata": {},
   "source": [
    "American restaurants make up most of the restaurants in this borough."
   ]
  },
  {
   "cell_type": "code",
   "execution_count": null,
   "id": "72a43064",
   "metadata": {
    "scrolled": true
   },
   "outputs": [],
   "source": [
    "brooklyn_df.Grade.value_counts()"
   ]
  },
  {
   "cell_type": "code",
   "execution_count": null,
   "id": "21862e87",
   "metadata": {},
   "outputs": [],
   "source": [
    "brooklyn_grades = pd.DataFrame(brooklyn_df.Grade.value_counts().reset_index())"
   ]
  },
  {
   "cell_type": "code",
   "execution_count": null,
   "id": "fb4cb84e",
   "metadata": {},
   "outputs": [],
   "source": [
    "brooklyn_grades"
   ]
  },
  {
   "cell_type": "code",
   "execution_count": null,
   "id": "39653cb9",
   "metadata": {},
   "outputs": [],
   "source": [
    "brooklyn_grades.columns = ['Grade', 'Total']"
   ]
  },
  {
   "cell_type": "code",
   "execution_count": null,
   "id": "3d1bd0cc",
   "metadata": {},
   "outputs": [],
   "source": [
    "brooklyn_grades"
   ]
  },
  {
   "cell_type": "markdown",
   "id": "559f4ada",
   "metadata": {},
   "source": [
    "The majority of restaurants in this borough recieved a grade of A from the health inspector."
   ]
  },
  {
   "cell_type": "code",
   "execution_count": null,
   "id": "465c30dd",
   "metadata": {},
   "outputs": [],
   "source": [
    "bronx_df = restaurants_df[restaurants_df.Borough == 'Bronx']"
   ]
  },
  {
   "cell_type": "code",
   "execution_count": null,
   "id": "184d25c9",
   "metadata": {
    "scrolled": true
   },
   "outputs": [],
   "source": [
    "bronx_df.head()"
   ]
  },
  {
   "cell_type": "code",
   "execution_count": null,
   "id": "3f26c217",
   "metadata": {},
   "outputs": [],
   "source": [
    "bronx = pd.DataFrame(bronx_df)"
   ]
  },
  {
   "cell_type": "code",
   "execution_count": null,
   "id": "b8c8f497",
   "metadata": {},
   "outputs": [],
   "source": [
    "bronx"
   ]
  },
  {
   "cell_type": "code",
   "execution_count": null,
   "id": "b23c54c9",
   "metadata": {},
   "outputs": [],
   "source": [
    "bronx_df.Cuisine_Description.value_counts()"
   ]
  },
  {
   "cell_type": "code",
   "execution_count": null,
   "id": "68827678",
   "metadata": {},
   "outputs": [],
   "source": [
    "bronx_cuisine = pd.DataFrame(bronx_df.Cuisine_Description.value_counts().reset_index())"
   ]
  },
  {
   "cell_type": "code",
   "execution_count": null,
   "id": "92d9731d",
   "metadata": {},
   "outputs": [],
   "source": [
    "bronx_cuisine"
   ]
  },
  {
   "cell_type": "code",
   "execution_count": null,
   "id": "7f400002",
   "metadata": {},
   "outputs": [],
   "source": [
    "bronx_cuisine.columns = ['Cuisine Type', 'Restaurants']"
   ]
  },
  {
   "cell_type": "code",
   "execution_count": null,
   "id": "8a0286f6",
   "metadata": {},
   "outputs": [],
   "source": [
    "bronx_cuisine"
   ]
  },
  {
   "cell_type": "markdown",
   "id": "064380c2",
   "metadata": {},
   "source": [
    "Chinese restaurants make up most of the restaurants in this borough."
   ]
  },
  {
   "cell_type": "code",
   "execution_count": null,
   "id": "bbe036e6",
   "metadata": {},
   "outputs": [],
   "source": [
    "bronx_df.Grade.value_counts()"
   ]
  },
  {
   "cell_type": "code",
   "execution_count": null,
   "id": "72d7d6c8",
   "metadata": {},
   "outputs": [],
   "source": [
    "bronx_grades = pd.DataFrame(bronx_df.Grade.value_counts().reset_index())"
   ]
  },
  {
   "cell_type": "code",
   "execution_count": null,
   "id": "a7537f31",
   "metadata": {},
   "outputs": [],
   "source": [
    "bronx_grades"
   ]
  },
  {
   "cell_type": "code",
   "execution_count": null,
   "id": "a365f58d",
   "metadata": {},
   "outputs": [],
   "source": [
    "bronx_grades.columns = ['Grade', 'Total']"
   ]
  },
  {
   "cell_type": "code",
   "execution_count": null,
   "id": "c8fece7a",
   "metadata": {},
   "outputs": [],
   "source": [
    "bronx_grades"
   ]
  },
  {
   "cell_type": "markdown",
   "id": "9ed768a1",
   "metadata": {},
   "source": [
    "The majority of restaurants in this borough recieved a grade of A from the health inspector."
   ]
  },
  {
   "cell_type": "code",
   "execution_count": null,
   "id": "4eeec109",
   "metadata": {},
   "outputs": [],
   "source": [
    "manhattan_df = restaurants_df[restaurants_df.Borough == 'Manhattan']"
   ]
  },
  {
   "cell_type": "code",
   "execution_count": null,
   "id": "b0acfd99",
   "metadata": {
    "scrolled": true
   },
   "outputs": [],
   "source": [
    "manhattan_df.head()"
   ]
  },
  {
   "cell_type": "code",
   "execution_count": null,
   "id": "3e905dc3",
   "metadata": {},
   "outputs": [],
   "source": [
    "manhattan = pd.DataFrame(manhattan_df)"
   ]
  },
  {
   "cell_type": "code",
   "execution_count": null,
   "id": "966257d6",
   "metadata": {},
   "outputs": [],
   "source": [
    "manhattan"
   ]
  },
  {
   "cell_type": "code",
   "execution_count": null,
   "id": "17b9f60b",
   "metadata": {},
   "outputs": [],
   "source": [
    "manhattan_df.Cuisine_Description.value_counts()"
   ]
  },
  {
   "cell_type": "code",
   "execution_count": null,
   "id": "ed0e1181",
   "metadata": {},
   "outputs": [],
   "source": [
    "manhattan_cuisine = pd.DataFrame(manhattan_df.Cuisine_Description.value_counts().reset_index())"
   ]
  },
  {
   "cell_type": "code",
   "execution_count": null,
   "id": "58072767",
   "metadata": {},
   "outputs": [],
   "source": [
    "manhattan_cuisine"
   ]
  },
  {
   "cell_type": "code",
   "execution_count": null,
   "id": "f0cbcd88",
   "metadata": {},
   "outputs": [],
   "source": [
    "manhattan_cuisine.columns = ['Cuisine Type', 'Restaurants']"
   ]
  },
  {
   "cell_type": "code",
   "execution_count": null,
   "id": "252dddcb",
   "metadata": {},
   "outputs": [],
   "source": [
    "manhattan_cuisine"
   ]
  },
  {
   "cell_type": "markdown",
   "id": "cffe6be8",
   "metadata": {},
   "source": [
    "American restaurants make up most of the restaurants in this borough."
   ]
  },
  {
   "cell_type": "code",
   "execution_count": null,
   "id": "19400ee8",
   "metadata": {},
   "outputs": [],
   "source": [
    "manhattan_df.Grade.value_counts()"
   ]
  },
  {
   "cell_type": "code",
   "execution_count": null,
   "id": "2c03b786",
   "metadata": {},
   "outputs": [],
   "source": [
    "manhattan_grades = pd.DataFrame(manhattan_df.Grade.value_counts().reset_index())"
   ]
  },
  {
   "cell_type": "code",
   "execution_count": null,
   "id": "5c7fe74b",
   "metadata": {},
   "outputs": [],
   "source": [
    "manhattan_grades"
   ]
  },
  {
   "cell_type": "code",
   "execution_count": null,
   "id": "93e5f8b8",
   "metadata": {},
   "outputs": [],
   "source": [
    "manhattan_grades.columns = ['Grade', 'Total']"
   ]
  },
  {
   "cell_type": "code",
   "execution_count": null,
   "id": "c0772513",
   "metadata": {},
   "outputs": [],
   "source": [
    "manhattan_grades"
   ]
  },
  {
   "cell_type": "markdown",
   "id": "a08dff96",
   "metadata": {},
   "source": [
    "The majority of restaurants in this borough recieved a grade of A from the health inspector."
   ]
  },
  {
   "cell_type": "code",
   "execution_count": null,
   "id": "ba736842",
   "metadata": {},
   "outputs": [],
   "source": [
    "queens_df = restaurants_df[restaurants_df.Borough == 'Queens']"
   ]
  },
  {
   "cell_type": "code",
   "execution_count": null,
   "id": "a91e82b4",
   "metadata": {
    "scrolled": true
   },
   "outputs": [],
   "source": [
    "queens_df.head()"
   ]
  },
  {
   "cell_type": "code",
   "execution_count": null,
   "id": "2deacbd0",
   "metadata": {},
   "outputs": [],
   "source": [
    "queens = pd.DataFrame(queens_df)"
   ]
  },
  {
   "cell_type": "code",
   "execution_count": null,
   "id": "542cfb00",
   "metadata": {},
   "outputs": [],
   "source": [
    "queens"
   ]
  },
  {
   "cell_type": "code",
   "execution_count": null,
   "id": "ddb6c6d3",
   "metadata": {},
   "outputs": [],
   "source": [
    "queens_df.Cuisine_Description.value_counts()"
   ]
  },
  {
   "cell_type": "code",
   "execution_count": null,
   "id": "e43498ec",
   "metadata": {},
   "outputs": [],
   "source": [
    "queens_cuisine = pd.DataFrame(queens_df.Cuisine_Description.value_counts().reset_index())"
   ]
  },
  {
   "cell_type": "code",
   "execution_count": null,
   "id": "30e16b5e",
   "metadata": {},
   "outputs": [],
   "source": [
    "queens_cuisine"
   ]
  },
  {
   "cell_type": "code",
   "execution_count": null,
   "id": "9e660863",
   "metadata": {},
   "outputs": [],
   "source": [
    "queens_cuisine.columns = ['Cuisine Type', 'Restaurants']"
   ]
  },
  {
   "cell_type": "code",
   "execution_count": null,
   "id": "3392c5f0",
   "metadata": {},
   "outputs": [],
   "source": [
    "queens_cuisine"
   ]
  },
  {
   "cell_type": "markdown",
   "id": "2a938940",
   "metadata": {},
   "source": [
    "Chinese restaurants make up most of the restaurants in this borough."
   ]
  },
  {
   "cell_type": "code",
   "execution_count": null,
   "id": "79a22ba2",
   "metadata": {},
   "outputs": [],
   "source": [
    "queens_df.Grade.value_counts()"
   ]
  },
  {
   "cell_type": "code",
   "execution_count": null,
   "id": "bbce500d",
   "metadata": {},
   "outputs": [],
   "source": [
    "queens_grades = pd.DataFrame(queens_df.Grade.value_counts().reset_index())"
   ]
  },
  {
   "cell_type": "code",
   "execution_count": null,
   "id": "a2535323",
   "metadata": {},
   "outputs": [],
   "source": [
    "queens_grades"
   ]
  },
  {
   "cell_type": "code",
   "execution_count": null,
   "id": "a7a871ab",
   "metadata": {},
   "outputs": [],
   "source": [
    "queens_grades.columns = ['Grade', 'Total']"
   ]
  },
  {
   "cell_type": "code",
   "execution_count": null,
   "id": "5887421d",
   "metadata": {},
   "outputs": [],
   "source": [
    "queens_grades"
   ]
  },
  {
   "cell_type": "markdown",
   "id": "a5728add",
   "metadata": {},
   "source": [
    "The majority of restaurants in this borough recieved a grade of A from the health inspector."
   ]
  },
  {
   "cell_type": "code",
   "execution_count": null,
   "id": "4027074b",
   "metadata": {},
   "outputs": [],
   "source": [
    "si_df = restaurants_df[restaurants_df.Borough == 'Staten Island']"
   ]
  },
  {
   "cell_type": "code",
   "execution_count": null,
   "id": "263c19ce",
   "metadata": {
    "scrolled": true
   },
   "outputs": [],
   "source": [
    "si_df.head()"
   ]
  },
  {
   "cell_type": "code",
   "execution_count": null,
   "id": "0922e2c7",
   "metadata": {},
   "outputs": [],
   "source": [
    "staten_island = pd.DataFrame(si_df)"
   ]
  },
  {
   "cell_type": "code",
   "execution_count": null,
   "id": "bf7ae082",
   "metadata": {},
   "outputs": [],
   "source": [
    "staten_island"
   ]
  },
  {
   "cell_type": "code",
   "execution_count": null,
   "id": "e655fac6",
   "metadata": {},
   "outputs": [],
   "source": [
    "si_df.Cuisine_Description.value_counts()"
   ]
  },
  {
   "cell_type": "code",
   "execution_count": null,
   "id": "24fa389d",
   "metadata": {},
   "outputs": [],
   "source": [
    "si_cuisine = pd.DataFrame(si_df.Cuisine_Description.value_counts().reset_index())"
   ]
  },
  {
   "cell_type": "code",
   "execution_count": null,
   "id": "a27f72e1",
   "metadata": {},
   "outputs": [],
   "source": [
    "si_cuisine"
   ]
  },
  {
   "cell_type": "code",
   "execution_count": null,
   "id": "84c86c11",
   "metadata": {},
   "outputs": [],
   "source": [
    "si_cuisine.columns = ['Cuisine Type', 'Restaurants']"
   ]
  },
  {
   "cell_type": "code",
   "execution_count": null,
   "id": "acec036a",
   "metadata": {},
   "outputs": [],
   "source": [
    "si_cuisine"
   ]
  },
  {
   "cell_type": "markdown",
   "id": "99a6d4ea",
   "metadata": {},
   "source": [
    "American restaurants make up most of the restaurants in this borough."
   ]
  },
  {
   "cell_type": "code",
   "execution_count": null,
   "id": "9aa072bb",
   "metadata": {},
   "outputs": [],
   "source": [
    "si_df.Grade.value_counts()"
   ]
  },
  {
   "cell_type": "code",
   "execution_count": null,
   "id": "f1cf8a06",
   "metadata": {},
   "outputs": [],
   "source": [
    "si_grades = pd.DataFrame(si_df.Grade.value_counts().reset_index())"
   ]
  },
  {
   "cell_type": "code",
   "execution_count": null,
   "id": "238012df",
   "metadata": {},
   "outputs": [],
   "source": [
    "si_grades"
   ]
  },
  {
   "cell_type": "code",
   "execution_count": null,
   "id": "fbd917c9",
   "metadata": {},
   "outputs": [],
   "source": [
    "si_grades.columns = ['Grade', 'Total']"
   ]
  },
  {
   "cell_type": "code",
   "execution_count": null,
   "id": "e3ce1fb8",
   "metadata": {},
   "outputs": [],
   "source": [
    "si_grades"
   ]
  },
  {
   "cell_type": "markdown",
   "id": "f6dbf4fb",
   "metadata": {},
   "source": [
    "The majority of restaurants in this borough recieved a grade of A from the health inspector."
   ]
  },
  {
   "cell_type": "markdown",
   "id": "433465c9",
   "metadata": {},
   "source": [
    "Now let's do the community districts."
   ]
  },
  {
   "cell_type": "code",
   "execution_count": null,
   "id": "8be0b50e",
   "metadata": {},
   "outputs": [],
   "source": [
    "top5_healthycd = restaurants_df[restaurants_df['Community_District'].isin([111.0, 205.0, 206.0,305.0, 316.0])]"
   ]
  },
  {
   "cell_type": "code",
   "execution_count": null,
   "id": "2df5c938",
   "metadata": {},
   "outputs": [],
   "source": [
    "top5_healthycd.head()"
   ]
  },
  {
   "cell_type": "code",
   "execution_count": null,
   "id": "8fddfb95",
   "metadata": {},
   "outputs": [],
   "source": [
    "Top = pd.DataFrame(top5_healthycd)"
   ]
  },
  {
   "cell_type": "code",
   "execution_count": null,
   "id": "69d01e52",
   "metadata": {},
   "outputs": [],
   "source": [
    "Top"
   ]
  },
  {
   "cell_type": "code",
   "execution_count": null,
   "id": "d7de831d",
   "metadata": {
    "scrolled": true
   },
   "outputs": [],
   "source": [
    "top5_healthycd.Community_District.value_counts()"
   ]
  },
  {
   "cell_type": "code",
   "execution_count": null,
   "id": "9c89d0ab",
   "metadata": {},
   "outputs": [],
   "source": [
    "top_cds = pd.DataFrame(top5_healthycd.Community_District.value_counts().reset_index())"
   ]
  },
  {
   "cell_type": "code",
   "execution_count": null,
   "id": "72ee8448",
   "metadata": {},
   "outputs": [],
   "source": [
    "top_cds"
   ]
  },
  {
   "cell_type": "code",
   "execution_count": null,
   "id": "abf6b18c",
   "metadata": {},
   "outputs": [],
   "source": [
    "top_cds.columns = ['Community District', 'Restaurants']"
   ]
  },
  {
   "cell_type": "code",
   "execution_count": null,
   "id": "bef6fd8f",
   "metadata": {},
   "outputs": [],
   "source": [
    "top_cds"
   ]
  },
  {
   "cell_type": "markdown",
   "id": "cd79d6be",
   "metadata": {},
   "source": [
    "Manhattan Community District 11 has the most restaurants out of the top 5 healthy community districts."
   ]
  },
  {
   "cell_type": "code",
   "execution_count": null,
   "id": "f6f23e14",
   "metadata": {
    "scrolled": true
   },
   "outputs": [],
   "source": [
    "top5_healthycd.Cuisine_Description.value_counts()"
   ]
  },
  {
   "cell_type": "code",
   "execution_count": null,
   "id": "ff22ba34",
   "metadata": {},
   "outputs": [],
   "source": [
    "top_cuisine = pd.DataFrame(top5_healthycd.Cuisine_Description.value_counts().reset_index())"
   ]
  },
  {
   "cell_type": "code",
   "execution_count": null,
   "id": "7d39c0a1",
   "metadata": {},
   "outputs": [],
   "source": [
    "top_cuisine"
   ]
  },
  {
   "cell_type": "code",
   "execution_count": null,
   "id": "d3feec8a",
   "metadata": {},
   "outputs": [],
   "source": [
    "top_cuisine.columns = ['Cuisine Type', 'Restaurants']"
   ]
  },
  {
   "cell_type": "code",
   "execution_count": null,
   "id": "12d69deb",
   "metadata": {},
   "outputs": [],
   "source": [
    "top_cuisine"
   ]
  },
  {
   "cell_type": "markdown",
   "id": "a11acb15",
   "metadata": {},
   "source": [
    "Chinese restaurants make up most of the restaurants in these community districts."
   ]
  },
  {
   "cell_type": "code",
   "execution_count": null,
   "id": "35c5bdd3",
   "metadata": {
    "scrolled": true
   },
   "outputs": [],
   "source": [
    "top5_healthycd.Grade.value_counts()"
   ]
  },
  {
   "cell_type": "code",
   "execution_count": null,
   "id": "a8f41bb5",
   "metadata": {},
   "outputs": [],
   "source": [
    "top_grades = pd.DataFrame(top5_healthycd.Grade.value_counts().reset_index())"
   ]
  },
  {
   "cell_type": "code",
   "execution_count": null,
   "id": "930d0c12",
   "metadata": {},
   "outputs": [],
   "source": [
    "top_grades"
   ]
  },
  {
   "cell_type": "code",
   "execution_count": null,
   "id": "c1429788",
   "metadata": {},
   "outputs": [],
   "source": [
    "top_grades.columns = ['Grade', 'Total']"
   ]
  },
  {
   "cell_type": "code",
   "execution_count": null,
   "id": "44609b1a",
   "metadata": {},
   "outputs": [],
   "source": [
    "top_grades"
   ]
  },
  {
   "cell_type": "markdown",
   "id": "b24bb57b",
   "metadata": {},
   "source": [
    "The majority of restaurants in this community district recieved a grade of A from the health inspector."
   ]
  },
  {
   "cell_type": "code",
   "execution_count": null,
   "id": "cc2df01b",
   "metadata": {},
   "outputs": [],
   "source": [
    "top5_healthycd.Violation_Description.value_counts()"
   ]
  },
  {
   "cell_type": "code",
   "execution_count": null,
   "id": "c95997bf",
   "metadata": {},
   "outputs": [],
   "source": [
    "top_violations = pd.DataFrame(top5_healthycd.Violation_Description.value_counts().reset_index())"
   ]
  },
  {
   "cell_type": "code",
   "execution_count": null,
   "id": "018bb65d",
   "metadata": {},
   "outputs": [],
   "source": [
    "top_violations "
   ]
  },
  {
   "cell_type": "code",
   "execution_count": null,
   "id": "b63ed512",
   "metadata": {},
   "outputs": [],
   "source": [
    "top_violations.columns = ['Violation', 'Total']"
   ]
  },
  {
   "cell_type": "code",
   "execution_count": null,
   "id": "9acc3821",
   "metadata": {},
   "outputs": [],
   "source": [
    "top_violations"
   ]
  },
  {
   "cell_type": "markdown",
   "id": "1ab18c54",
   "metadata": {},
   "source": [
    "Non-food contact surface improperly constructed is the most common violation"
   ]
  },
  {
   "cell_type": "code",
   "execution_count": null,
   "id": "2c084d58",
   "metadata": {},
   "outputs": [],
   "source": [
    "top5_healthycd.Violation_Code.value_counts()"
   ]
  },
  {
   "cell_type": "code",
   "execution_count": null,
   "id": "ea98179e",
   "metadata": {},
   "outputs": [],
   "source": [
    "top_vcode = pd.DataFrame(top5_healthycd.Violation_Code.value_counts().reset_index())"
   ]
  },
  {
   "cell_type": "code",
   "execution_count": null,
   "id": "cdb6bcff",
   "metadata": {},
   "outputs": [],
   "source": [
    "top_vcode "
   ]
  },
  {
   "cell_type": "code",
   "execution_count": null,
   "id": "8d15cd4d",
   "metadata": {},
   "outputs": [],
   "source": [
    "top_vcode.columns = ['Violation Code', 'Total']"
   ]
  },
  {
   "cell_type": "code",
   "execution_count": null,
   "id": "cc986929",
   "metadata": {},
   "outputs": [],
   "source": [
    "top_vcode"
   ]
  },
  {
   "cell_type": "markdown",
   "id": "ffb01cc0",
   "metadata": {},
   "source": [
    "Violation Code 10F is the most common violation"
   ]
  },
  {
   "cell_type": "code",
   "execution_count": null,
   "id": "961e2738",
   "metadata": {},
   "outputs": [],
   "source": [
    "top5_healthycd.Critical_Flag.value_counts()"
   ]
  },
  {
   "cell_type": "code",
   "execution_count": null,
   "id": "6be3558f",
   "metadata": {},
   "outputs": [],
   "source": [
    "top_critical = pd.DataFrame(top5_healthycd.Critical_Flag.value_counts().reset_index())"
   ]
  },
  {
   "cell_type": "code",
   "execution_count": null,
   "id": "b6796044",
   "metadata": {},
   "outputs": [],
   "source": [
    "top_critical"
   ]
  },
  {
   "cell_type": "code",
   "execution_count": null,
   "id": "18ce4267",
   "metadata": {},
   "outputs": [],
   "source": [
    "top_critical.columns = ['Critical Flag', 'Total']"
   ]
  },
  {
   "cell_type": "code",
   "execution_count": null,
   "id": "7e2251c2",
   "metadata": {},
   "outputs": [],
   "source": [
    "top_critical"
   ]
  },
  {
   "cell_type": "markdown",
   "id": "2ee5e3a6",
   "metadata": {},
   "source": [
    "Most of the violations were critical"
   ]
  },
  {
   "cell_type": "code",
   "execution_count": null,
   "id": "e63e3046",
   "metadata": {},
   "outputs": [],
   "source": [
    "No_facilitiescd = restaurants_df[restaurants_df['Community_District'].isin([318.0, 410.0, 411.0, 503.0])]"
   ]
  },
  {
   "cell_type": "code",
   "execution_count": null,
   "id": "db68583c",
   "metadata": {},
   "outputs": [],
   "source": [
    "No_facilitiescd.head()"
   ]
  },
  {
   "cell_type": "code",
   "execution_count": null,
   "id": "3a04f66f",
   "metadata": {},
   "outputs": [],
   "source": [
    "Bottom = pd.DataFrame(No_facilitiescd)"
   ]
  },
  {
   "cell_type": "code",
   "execution_count": null,
   "id": "307781dd",
   "metadata": {},
   "outputs": [],
   "source": [
    "Bottom"
   ]
  },
  {
   "cell_type": "code",
   "execution_count": null,
   "id": "abc5fcd0",
   "metadata": {
    "scrolled": true
   },
   "outputs": [],
   "source": [
    "No_facilitiescd.Community_District.value_counts()"
   ]
  },
  {
   "cell_type": "code",
   "execution_count": null,
   "id": "f85b6037",
   "metadata": {},
   "outputs": [],
   "source": [
    "bottom_cds = pd.DataFrame(No_facilitiescd.Community_District.value_counts().reset_index())"
   ]
  },
  {
   "cell_type": "code",
   "execution_count": null,
   "id": "38bac173",
   "metadata": {},
   "outputs": [],
   "source": [
    "bottom_cds"
   ]
  },
  {
   "cell_type": "code",
   "execution_count": null,
   "id": "3205dec6",
   "metadata": {},
   "outputs": [],
   "source": [
    "bottom_cds.columns = ['Community District', 'Restaurants']"
   ]
  },
  {
   "cell_type": "code",
   "execution_count": null,
   "id": "5f40cd5c",
   "metadata": {},
   "outputs": [],
   "source": [
    "bottom_cds"
   ]
  },
  {
   "cell_type": "markdown",
   "id": "7fcf0298",
   "metadata": {},
   "source": [
    "Queens Community District 11 has the most restaurants out of the bottom (no facility) community districts."
   ]
  },
  {
   "cell_type": "code",
   "execution_count": null,
   "id": "a865b5da",
   "metadata": {
    "scrolled": true
   },
   "outputs": [],
   "source": [
    "No_facilitiescd.Cuisine_Description.value_counts()"
   ]
  },
  {
   "cell_type": "code",
   "execution_count": null,
   "id": "d0ce8545",
   "metadata": {},
   "outputs": [],
   "source": [
    "bottom_cuisine = pd.DataFrame(No_facilitiescd.Cuisine_Description.value_counts().reset_index())"
   ]
  },
  {
   "cell_type": "code",
   "execution_count": null,
   "id": "38f95042",
   "metadata": {},
   "outputs": [],
   "source": [
    "bottom_cuisine"
   ]
  },
  {
   "cell_type": "code",
   "execution_count": null,
   "id": "8f3d19fc",
   "metadata": {},
   "outputs": [],
   "source": [
    "bottom_cuisine.columns = ['Cuisine Type', 'Restaurants']"
   ]
  },
  {
   "cell_type": "code",
   "execution_count": null,
   "id": "d5a09930",
   "metadata": {},
   "outputs": [],
   "source": [
    "bottom_cuisine"
   ]
  },
  {
   "cell_type": "markdown",
   "id": "093a7ab5",
   "metadata": {},
   "source": [
    "American restaurants make up most of the restaurants in these community districts."
   ]
  },
  {
   "cell_type": "code",
   "execution_count": null,
   "id": "c245dce1",
   "metadata": {},
   "outputs": [],
   "source": [
    "No_facilitiescd.Grade.value_counts()"
   ]
  },
  {
   "cell_type": "code",
   "execution_count": null,
   "id": "d8d80063",
   "metadata": {},
   "outputs": [],
   "source": [
    "bottom_grades = pd.DataFrame(No_facilitiescd.Grade.value_counts().reset_index())"
   ]
  },
  {
   "cell_type": "code",
   "execution_count": null,
   "id": "b5dd1d9d",
   "metadata": {},
   "outputs": [],
   "source": [
    "bottom_grades"
   ]
  },
  {
   "cell_type": "code",
   "execution_count": null,
   "id": "72aec3bc",
   "metadata": {},
   "outputs": [],
   "source": [
    "bottom_grades.columns = ['Grade', 'Total']"
   ]
  },
  {
   "cell_type": "code",
   "execution_count": null,
   "id": "9d978159",
   "metadata": {},
   "outputs": [],
   "source": [
    "bottom_grades"
   ]
  },
  {
   "cell_type": "markdown",
   "id": "b1ce1cc5",
   "metadata": {},
   "source": [
    "The majority of restaurants in this community district recieved a grade of A  from the health inspector."
   ]
  },
  {
   "cell_type": "code",
   "execution_count": null,
   "id": "08aa1b2a",
   "metadata": {},
   "outputs": [],
   "source": [
    "No_facilitiescd.Violation_Description.value_counts()"
   ]
  },
  {
   "cell_type": "code",
   "execution_count": null,
   "id": "41087266",
   "metadata": {},
   "outputs": [],
   "source": [
    "bottom_violation = pd.DataFrame(No_facilitiescd.Violation_Description.value_counts().reset_index())"
   ]
  },
  {
   "cell_type": "code",
   "execution_count": null,
   "id": "f3893347",
   "metadata": {},
   "outputs": [],
   "source": [
    "bottom_violation"
   ]
  },
  {
   "cell_type": "code",
   "execution_count": null,
   "id": "9dc7139b",
   "metadata": {},
   "outputs": [],
   "source": [
    "bottom_violation.columns = ['Violation', 'Total']"
   ]
  },
  {
   "cell_type": "code",
   "execution_count": null,
   "id": "15bc2ca9",
   "metadata": {},
   "outputs": [],
   "source": [
    "bottom_violation"
   ]
  },
  {
   "cell_type": "markdown",
   "id": "9c6bad18",
   "metadata": {},
   "source": [
    "Non-food contact surface improperly constructed is the most common violation"
   ]
  },
  {
   "cell_type": "code",
   "execution_count": null,
   "id": "919f51a0",
   "metadata": {},
   "outputs": [],
   "source": [
    "No_facilitiescd.Violation_Code.value_counts()"
   ]
  },
  {
   "cell_type": "code",
   "execution_count": null,
   "id": "de39e9cf",
   "metadata": {},
   "outputs": [],
   "source": [
    "bottom_vcode = pd.DataFrame(No_facilitiescd.Violation_Code.value_counts().reset_index())"
   ]
  },
  {
   "cell_type": "code",
   "execution_count": null,
   "id": "475eedfe",
   "metadata": {},
   "outputs": [],
   "source": [
    "bottom_vcode"
   ]
  },
  {
   "cell_type": "code",
   "execution_count": null,
   "id": "1a01d686",
   "metadata": {},
   "outputs": [],
   "source": [
    "bottom_vcode.columns = ['Violation Code', 'Total']"
   ]
  },
  {
   "cell_type": "code",
   "execution_count": null,
   "id": "6441544a",
   "metadata": {},
   "outputs": [],
   "source": [
    "bottom_vcode"
   ]
  },
  {
   "cell_type": "markdown",
   "id": "c8a05d53",
   "metadata": {},
   "source": [
    "Violation Code 10F is the most common violation"
   ]
  },
  {
   "cell_type": "code",
   "execution_count": null,
   "id": "4ffade7d",
   "metadata": {},
   "outputs": [],
   "source": [
    "No_facilitiescd.Critical_Flag.value_counts()"
   ]
  },
  {
   "cell_type": "code",
   "execution_count": null,
   "id": "3156f39c",
   "metadata": {},
   "outputs": [],
   "source": [
    "bottom_critical = pd.DataFrame(No_facilitiescd.Critical_Flag.value_counts().reset_index())"
   ]
  },
  {
   "cell_type": "code",
   "execution_count": null,
   "id": "36dbcdab",
   "metadata": {},
   "outputs": [],
   "source": [
    "bottom_critical"
   ]
  },
  {
   "cell_type": "code",
   "execution_count": null,
   "id": "23456a67",
   "metadata": {},
   "outputs": [],
   "source": [
    "bottom_critical.columns = ['Critical Flag', 'Total']"
   ]
  },
  {
   "cell_type": "code",
   "execution_count": null,
   "id": "35d6c311",
   "metadata": {},
   "outputs": [],
   "source": [
    "bottom_critical"
   ]
  },
  {
   "cell_type": "markdown",
   "id": "a385d573",
   "metadata": {},
   "source": [
    "Most of the violations were critical"
   ]
  },
  {
   "cell_type": "markdown",
   "id": "0c7d0af6",
   "metadata": {},
   "source": [
    "Let's make excel workbooks out of the dataframes we created"
   ]
  },
  {
   "cell_type": "code",
   "execution_count": null,
   "id": "3cf2e522",
   "metadata": {},
   "outputs": [],
   "source": [
    "xlwriter = pd.ExcelWriter('Restaurants_Output.xlsx')  \n",
    "boro_restaurants.to_excel(xlwriter, sheet_name='Total_Restaurants_Borough')\n",
    "CD_restaurants.to_excel(xlwriter, sheet_name='Total_Restaurants_CD')\n",
    "cuisine_nyc.to_excel(xlwriter, sheet_name='Cuisine_Type_NYC')\n",
    "restaurant_grade_nyc.to_excel(xlwriter, sheet_name='Restaurant_Grades_NYC')\n",
    "brooklyn_cuisine.to_excel(xlwriter, sheet_name='Brooklyn_Cuisine')\n",
    "brooklyn_grades.to_excel(xlwriter, sheet_name='Brooklyn_Grades')\n",
    "bronx_cuisine.to_excel(xlwriter, sheet_name='Bronx_Cuisine')\n",
    "bronx_grades.to_excel(xlwriter, sheet_name='Bronx_Grades')\n",
    "manhattan_cuisine.to_excel(xlwriter, sheet_name='Manhattan_Cuisine')\n",
    "manhattan_grades.to_excel(xlwriter, sheet_name='Manhattan_Grades')\n",
    "queens_cuisine.to_excel(xlwriter, sheet_name='Queens_Cuisine')\n",
    "queens_grades.to_excel(xlwriter, sheet_name='Queens_Grades')\n",
    "si_cuisine.to_excel(xlwriter, sheet_name='SI_Cuisine')\n",
    "si_grades.to_excel(xlwriter, sheet_name='Queens_Grades')\n",
    "xlwriter.close()"
   ]
  },
  {
   "cell_type": "code",
   "execution_count": null,
   "id": "72891887",
   "metadata": {},
   "outputs": [],
   "source": [
    "borowriter = pd.ExcelWriter('Restaurants_Output_Boro.xlsx')  \n",
    "brooklyn.to_excel(borowriter, sheet_name='Brooklyn')\n",
    "bronx.to_excel(borowriter, sheet_name='Bronx')\n",
    "manhattan.to_excel(borowriter, sheet_name='Manhattan')\n",
    "queens.to_excel(borowriter, sheet_name='Queens')\n",
    "staten_island.to_excel(borowriter, sheet_name='Staten_Island')\n",
    "borowriter.close()"
   ]
  },
  {
   "cell_type": "code",
   "execution_count": null,
   "id": "57f3f371",
   "metadata": {},
   "outputs": [],
   "source": [
    "cdswriter = pd.ExcelWriter('Restaurants_Output_CDs.xlsx') \n",
    "top_cuisine.to_excel(cdswriter, sheet_name='top_cuisine')\n",
    "top_grades.to_excel(cdswriter, sheet_name='top_grades')\n",
    "bottom_cuisine.to_excel(cdswriter, sheet_name='bottom_cuisine')\n",
    "bottom_grades.to_excel(cdswriter, sheet_name='bottom_grades')\n",
    "top_violations.to_excel(cdswriter, sheet_name='top_violations')\n",
    "top_critical.to_excel(cdswriter, sheet_name='top_critical')\n",
    "bottom_violation.to_excel(cdswriter, sheet_name='bottom_violation')\n",
    "bottom_critical.to_excel(cdswriter, sheet_name='bottom_critical')\n",
    "top_cds.to_excel(cdswriter, sheet_name='top_cd_restaurants')\n",
    "bottom_cds.to_excel(cdswriter, sheet_name='bottom_cd_restaurants')\n",
    "top_vcode.to_excel(cdswriter, sheet_name='top_violation_codes')\n",
    "bottom_vcode.to_excel(cdswriter, sheet_name='bottom_violation_codes')\n",
    "cdswriter.close()"
   ]
  },
  {
   "cell_type": "code",
   "execution_count": null,
   "id": "d399206f",
   "metadata": {},
   "outputs": [],
   "source": [
    "tbcdwriter = pd.ExcelWriter('Restaurants_Output_TBCD.xlsx') \n",
    "Top.to_excel(tbcdwriter, sheet_name='Top_CDs')\n",
    "Bottom.to_excel(tbcdwriter, sheet_name='Bottom_CDs')\n",
    "tbcdwriter.close()"
   ]
  },
  {
   "cell_type": "code",
   "execution_count": null,
   "id": "5996a668",
   "metadata": {},
   "outputs": [],
   "source": []
  }
 ],
 "metadata": {
  "kernelspec": {
   "display_name": "Python 3 (ipykernel)",
   "language": "python",
   "name": "python3"
  },
  "language_info": {
   "codemirror_mode": {
    "name": "ipython",
    "version": 3
   },
   "file_extension": ".py",
   "mimetype": "text/x-python",
   "name": "python",
   "nbconvert_exporter": "python",
   "pygments_lexer": "ipython3",
   "version": "3.9.7"
  }
 },
 "nbformat": 4,
 "nbformat_minor": 5
}
