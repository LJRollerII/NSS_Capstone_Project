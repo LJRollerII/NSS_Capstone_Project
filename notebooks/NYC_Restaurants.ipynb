{
 "cells": [
  {
   "cell_type": "code",
   "execution_count": null,
   "id": "660b840a",
   "metadata": {},
   "outputs": [],
   "source": [
    "import pandas as pd\n",
    "import numpy as np\n",
    "import matplotlib.pyplot as plt\n",
    "import seaborn as sns"
   ]
  },
  {
   "cell_type": "code",
   "execution_count": null,
   "id": "a80cb97a",
   "metadata": {},
   "outputs": [],
   "source": [
    "%matplotlib inline"
   ]
  },
  {
   "cell_type": "code",
   "execution_count": null,
   "id": "d4370cb7",
   "metadata": {},
   "outputs": [],
   "source": [
    "restaurants_df = pd.read_csv(\"../data/DOHMH_New_York_City_Restaurant_Inspection_Results.csv\")"
   ]
  },
  {
   "cell_type": "code",
   "execution_count": null,
   "id": "4e39e3ea",
   "metadata": {},
   "outputs": [],
   "source": [
    "restaurants_df.head()"
   ]
  },
  {
   "cell_type": "code",
   "execution_count": null,
   "id": "67265ea3",
   "metadata": {},
   "outputs": [],
   "source": [
    "restaurants_df.info"
   ]
  },
  {
   "cell_type": "code",
   "execution_count": null,
   "id": "512c48ee",
   "metadata": {},
   "outputs": [],
   "source": [
    "restaurants_df.shape"
   ]
  },
  {
   "cell_type": "code",
   "execution_count": null,
   "id": "013bd5ce",
   "metadata": {},
   "outputs": [],
   "source": [
    "print(restaurants_df.dtypes)"
   ]
  },
  {
   "cell_type": "code",
   "execution_count": null,
   "id": "518260a4",
   "metadata": {},
   "outputs": [],
   "source": [
    "restaurants_df.describe()"
   ]
  },
  {
   "cell_type": "code",
   "execution_count": null,
   "id": "e5749e0b",
   "metadata": {},
   "outputs": [],
   "source": [
    "restaurants_df.corr()"
   ]
  },
  {
   "cell_type": "markdown",
   "id": "fbba6c53",
   "metadata": {},
   "source": [
    "Let's the raw value count of restaurants in each bourough (Without filtering for NULLs)"
   ]
  },
  {
   "cell_type": "code",
   "execution_count": null,
   "id": "7b7eeac9",
   "metadata": {},
   "outputs": [],
   "source": [
    "restaurants_df.Borough.value_counts()"
   ]
  },
  {
   "cell_type": "markdown",
   "id": "fd6d0074",
   "metadata": {},
   "source": [
    "Based of raw data, Manhattan has the most restaurants. There are 77 restaurants where the borough is unknown/NULL"
   ]
  },
  {
   "cell_type": "markdown",
   "id": "c7b22b03",
   "metadata": {},
   "source": [
    "Let's look at the number of restaurants by community district"
   ]
  },
  {
   "cell_type": "code",
   "execution_count": null,
   "id": "33474325",
   "metadata": {},
   "outputs": [],
   "source": [
    "restaurants_df.Community_District.value_counts()"
   ]
  },
  {
   "cell_type": "markdown",
   "id": "00312519",
   "metadata": {},
   "source": [
    "Manhattan Community District 105 has the most restaurants."
   ]
  },
  {
   "cell_type": "markdown",
   "id": "559db986",
   "metadata": {},
   "source": [
    "Let's look at types of restaurants in the city."
   ]
  },
  {
   "cell_type": "code",
   "execution_count": null,
   "id": "8bd0ee1c",
   "metadata": {},
   "outputs": [],
   "source": [
    "restaurants_df.Cuisine_Description.value_counts()"
   ]
  },
  {
   "cell_type": "markdown",
   "id": "b5a9b454",
   "metadata": {},
   "source": [
    "American food is the most popular restaurant (numerically) in NYC."
   ]
  },
  {
   "cell_type": "markdown",
   "id": "43b89a43",
   "metadata": {},
   "source": [
    "Let's look at the health inspection grades."
   ]
  },
  {
   "cell_type": "code",
   "execution_count": null,
   "id": "59f86c73",
   "metadata": {
    "scrolled": true
   },
   "outputs": [],
   "source": [
    "restaurants_df.Grade.value_counts()"
   ]
  },
  {
   "cell_type": "markdown",
   "id": "4e79820d",
   "metadata": {},
   "source": [
    "Most Restaurants in the city got an A grade. That's good to know."
   ]
  },
  {
   "cell_type": "markdown",
   "id": "482bf66e",
   "metadata": {},
   "source": [
    "How much Null data do we have?"
   ]
  },
  {
   "cell_type": "code",
   "execution_count": null,
   "id": "d1385514",
   "metadata": {},
   "outputs": [],
   "source": [
    "restaurants_df.isnull().sum()"
   ]
  },
  {
   "cell_type": "markdown",
   "id": "031da84a",
   "metadata": {},
   "source": [
    "There's a decent amount of NULL values in this database. Some of it is located in columns we will not need for our specific analysis."
   ]
  },
  {
   "cell_type": "markdown",
   "id": "a0f3ce58",
   "metadata": {},
   "source": [
    "Let's make some dataframes based on boroughs and the Health Food Analysis notebook."
   ]
  },
  {
   "cell_type": "markdown",
   "id": "0909f99e",
   "metadata": {},
   "source": [
    "Let's start with the boroughs first."
   ]
  },
  {
   "cell_type": "code",
   "execution_count": null,
   "id": "183f3ff3",
   "metadata": {},
   "outputs": [],
   "source": [
    "brooklyn_df = restaurants_df[restaurants_df.Borough == 'Brooklyn']"
   ]
  },
  {
   "cell_type": "code",
   "execution_count": null,
   "id": "e5931a5c",
   "metadata": {
    "scrolled": true
   },
   "outputs": [],
   "source": [
    "brooklyn_df.head()"
   ]
  },
  {
   "cell_type": "code",
   "execution_count": null,
   "id": "d205dea5",
   "metadata": {
    "scrolled": true
   },
   "outputs": [],
   "source": [
    "brooklyn_df.Cuisine_Description.value_counts()"
   ]
  },
  {
   "cell_type": "markdown",
   "id": "c5d33354",
   "metadata": {},
   "source": [
    "American restaurants make up most of the restaurants in this borough."
   ]
  },
  {
   "cell_type": "code",
   "execution_count": null,
   "id": "72a43064",
   "metadata": {
    "scrolled": true
   },
   "outputs": [],
   "source": [
    "brooklyn_df.Grade.value_counts()"
   ]
  },
  {
   "cell_type": "markdown",
   "id": "559f4ada",
   "metadata": {},
   "source": [
    "The majority of restaurants in this borough recieved a grade of A from the health inspector."
   ]
  },
  {
   "cell_type": "code",
   "execution_count": null,
   "id": "465c30dd",
   "metadata": {},
   "outputs": [],
   "source": [
    "bronx_df = restaurants_df[restaurants_df.Borough == 'Bronx']"
   ]
  },
  {
   "cell_type": "code",
   "execution_count": null,
   "id": "184d25c9",
   "metadata": {
    "scrolled": true
   },
   "outputs": [],
   "source": [
    "bronx_df.head()"
   ]
  },
  {
   "cell_type": "code",
   "execution_count": null,
   "id": "b23c54c9",
   "metadata": {},
   "outputs": [],
   "source": [
    "bronx_df.Cuisine_Description.value_counts()"
   ]
  },
  {
   "cell_type": "markdown",
   "id": "064380c2",
   "metadata": {},
   "source": [
    "Chinese restaurants make up most of the restaurants in this borough."
   ]
  },
  {
   "cell_type": "code",
   "execution_count": null,
   "id": "bbe036e6",
   "metadata": {},
   "outputs": [],
   "source": [
    "bronx_df.Grade.value_counts()"
   ]
  },
  {
   "cell_type": "markdown",
   "id": "9ed768a1",
   "metadata": {},
   "source": [
    "The majority of restaurants in this borough recieved a grade of A from the health inspector."
   ]
  },
  {
   "cell_type": "code",
   "execution_count": null,
   "id": "4eeec109",
   "metadata": {},
   "outputs": [],
   "source": [
    "manhattan_df = restaurants_df[restaurants_df.Borough == 'Manhattan']"
   ]
  },
  {
   "cell_type": "code",
   "execution_count": null,
   "id": "b0acfd99",
   "metadata": {
    "scrolled": true
   },
   "outputs": [],
   "source": [
    "manhattan_df.head()"
   ]
  },
  {
   "cell_type": "code",
   "execution_count": null,
   "id": "17b9f60b",
   "metadata": {},
   "outputs": [],
   "source": [
    "manhattan_df.Cuisine_Description.value_counts()"
   ]
  },
  {
   "cell_type": "markdown",
   "id": "cffe6be8",
   "metadata": {},
   "source": [
    "American restaurants make up most of the restaurants in this borough."
   ]
  },
  {
   "cell_type": "code",
   "execution_count": null,
   "id": "19400ee8",
   "metadata": {},
   "outputs": [],
   "source": [
    "manhattan_df.Grade.value_counts()"
   ]
  },
  {
   "cell_type": "markdown",
   "id": "a08dff96",
   "metadata": {},
   "source": [
    "The majority of restaurants in this borough recieved a grade of A from the health inspector."
   ]
  },
  {
   "cell_type": "code",
   "execution_count": null,
   "id": "ba736842",
   "metadata": {},
   "outputs": [],
   "source": [
    "queens_df = restaurants_df[restaurants_df.Borough == 'Queens']"
   ]
  },
  {
   "cell_type": "code",
   "execution_count": null,
   "id": "a91e82b4",
   "metadata": {
    "scrolled": true
   },
   "outputs": [],
   "source": [
    "queens_df.head()"
   ]
  },
  {
   "cell_type": "code",
   "execution_count": null,
   "id": "ddb6c6d3",
   "metadata": {},
   "outputs": [],
   "source": [
    "queens_df.Cuisine_Description.value_counts()"
   ]
  },
  {
   "cell_type": "markdown",
   "id": "2a938940",
   "metadata": {},
   "source": [
    "Chinese restaurants make up most of the restaurants in this borough."
   ]
  },
  {
   "cell_type": "code",
   "execution_count": null,
   "id": "79a22ba2",
   "metadata": {},
   "outputs": [],
   "source": [
    "queens_df.Grade.value_counts()"
   ]
  },
  {
   "cell_type": "markdown",
   "id": "a5728add",
   "metadata": {},
   "source": [
    "The majority of restaurants in this borough recieved a grade of A from the health inspector."
   ]
  },
  {
   "cell_type": "code",
   "execution_count": null,
   "id": "4027074b",
   "metadata": {},
   "outputs": [],
   "source": [
    "si_df = restaurants_df[restaurants_df.Borough == 'Staten Island']"
   ]
  },
  {
   "cell_type": "code",
   "execution_count": null,
   "id": "263c19ce",
   "metadata": {
    "scrolled": true
   },
   "outputs": [],
   "source": [
    "si_df.head()"
   ]
  },
  {
   "cell_type": "code",
   "execution_count": null,
   "id": "e655fac6",
   "metadata": {},
   "outputs": [],
   "source": [
    "si_df.Cuisine_Description.value_counts()"
   ]
  },
  {
   "cell_type": "markdown",
   "id": "99a6d4ea",
   "metadata": {},
   "source": [
    "American restaurants make up most of the restaurants in this borough."
   ]
  },
  {
   "cell_type": "code",
   "execution_count": null,
   "id": "9aa072bb",
   "metadata": {},
   "outputs": [],
   "source": [
    "si_df.Grade.value_counts()"
   ]
  },
  {
   "cell_type": "markdown",
   "id": "f6dbf4fb",
   "metadata": {},
   "source": [
    "The majority of restaurants in this borough recieved a grade of A from the health inspector."
   ]
  },
  {
   "cell_type": "markdown",
   "id": "433465c9",
   "metadata": {},
   "source": [
    "Now let's do the community districts."
   ]
  },
  {
   "cell_type": "code",
   "execution_count": null,
   "id": "8be0b50e",
   "metadata": {},
   "outputs": [],
   "source": [
    "top5_healthycd = restaurants_df[restaurants_df['Community_District'].isin([111.0, 205.0, 206.0,305.0, 316.0])]"
   ]
  },
  {
   "cell_type": "code",
   "execution_count": null,
   "id": "2df5c938",
   "metadata": {},
   "outputs": [],
   "source": [
    "top5_healthycd.head()"
   ]
  },
  {
   "cell_type": "code",
   "execution_count": null,
   "id": "d7de831d",
   "metadata": {
    "scrolled": true
   },
   "outputs": [],
   "source": [
    "top5_healthycd.Community_District.value_counts()"
   ]
  },
  {
   "cell_type": "markdown",
   "id": "cd79d6be",
   "metadata": {},
   "source": [
    "Manhattan Community District 11 has the most restaurants out of the top 5 healthy community districts."
   ]
  },
  {
   "cell_type": "code",
   "execution_count": null,
   "id": "f6f23e14",
   "metadata": {
    "scrolled": true
   },
   "outputs": [],
   "source": [
    "top5_healthycd.Cuisine_Description.value_counts()"
   ]
  },
  {
   "cell_type": "markdown",
   "id": "a11acb15",
   "metadata": {},
   "source": [
    "Chinese restaurants make up most of the restaurants in these community districts."
   ]
  },
  {
   "cell_type": "code",
   "execution_count": null,
   "id": "35c5bdd3",
   "metadata": {
    "scrolled": true
   },
   "outputs": [],
   "source": [
    "top5_healthycd.Grade.value_counts()"
   ]
  },
  {
   "cell_type": "markdown",
   "id": "b24bb57b",
   "metadata": {},
   "source": [
    "The majority of restaurants in this community district recieved a grade of A from the health inspector."
   ]
  },
  {
   "cell_type": "code",
   "execution_count": null,
   "id": "e63e3046",
   "metadata": {},
   "outputs": [],
   "source": [
    "No_facilitiescd = restaurants_df[restaurants_df['Community_District'].isin([318.0, 410.0, 411.0, 503.0])]"
   ]
  },
  {
   "cell_type": "code",
   "execution_count": null,
   "id": "db68583c",
   "metadata": {},
   "outputs": [],
   "source": [
    "No_facilitiescd.head()"
   ]
  },
  {
   "cell_type": "code",
   "execution_count": null,
   "id": "abc5fcd0",
   "metadata": {
    "scrolled": true
   },
   "outputs": [],
   "source": [
    "No_facilitiescd.Community_District.value_counts()"
   ]
  },
  {
   "cell_type": "markdown",
   "id": "7fcf0298",
   "metadata": {},
   "source": [
    "Queens Community District 11 has the most restaurants out of the bottom (no facility) community districts."
   ]
  },
  {
   "cell_type": "code",
   "execution_count": null,
   "id": "a865b5da",
   "metadata": {
    "scrolled": true
   },
   "outputs": [],
   "source": [
    "No_facilitiescd.Cuisine_Description.value_counts()"
   ]
  },
  {
   "cell_type": "markdown",
   "id": "093a7ab5",
   "metadata": {},
   "source": [
    "American restaurants make up most of the restaurants in these community districts."
   ]
  },
  {
   "cell_type": "code",
   "execution_count": null,
   "id": "c245dce1",
   "metadata": {},
   "outputs": [],
   "source": [
    "No_facilitiescd.Grade.value_counts()"
   ]
  },
  {
   "cell_type": "markdown",
   "id": "b1ce1cc5",
   "metadata": {},
   "source": [
    "The majority of restaurants in this community district recieved a grade of A  from the health inspector."
   ]
  },
  {
   "cell_type": "code",
   "execution_count": null,
   "id": "dda409a3",
   "metadata": {},
   "outputs": [],
   "source": []
  }
 ],
 "metadata": {
  "kernelspec": {
   "display_name": "Python 3 (ipykernel)",
   "language": "python",
   "name": "python3"
  },
  "language_info": {
   "codemirror_mode": {
    "name": "ipython",
    "version": 3
   },
   "file_extension": ".py",
   "mimetype": "text/x-python",
   "name": "python",
   "nbconvert_exporter": "python",
   "pygments_lexer": "ipython3",
   "version": "3.9.7"
  }
 },
 "nbformat": 4,
 "nbformat_minor": 5
}
