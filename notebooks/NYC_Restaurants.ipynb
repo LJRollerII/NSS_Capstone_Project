{
 "cells": [
  {
   "cell_type": "code",
   "execution_count": null,
   "id": "3b5f5af6",
   "metadata": {},
   "outputs": [],
   "source": [
    "import pandas as pd\n",
    "import numpy as np\n",
    "import matplotlib.pyplot as plt\n",
    "import seaborn as sns"
   ]
  },
  {
   "cell_type": "code",
   "execution_count": null,
   "id": "3346d121",
   "metadata": {},
   "outputs": [],
   "source": [
    "%matplotlib inline"
   ]
  },
  {
   "cell_type": "code",
   "execution_count": null,
   "id": "3db9b8a9",
   "metadata": {},
   "outputs": [],
   "source": [
    "restaurants_df = pd.read_csv(\"../data/DOHMH_New_York_City_Restaurant_Inspection_Results.csv\")"
   ]
  },
  {
   "cell_type": "code",
   "execution_count": null,
   "id": "cbca7878",
   "metadata": {},
   "outputs": [],
   "source": [
    "restaurants_df.head()"
   ]
  },
  {
   "cell_type": "code",
   "execution_count": null,
   "id": "e5d6714b",
   "metadata": {},
   "outputs": [],
   "source": [
    "restaurants_df.info"
   ]
  },
  {
   "cell_type": "code",
   "execution_count": null,
   "id": "1f33fa5f",
   "metadata": {},
   "outputs": [],
   "source": [
    "restaurants_df.shape"
   ]
  },
  {
   "cell_type": "code",
   "execution_count": null,
   "id": "22847319",
   "metadata": {},
   "outputs": [],
   "source": [
    "print(restaurants_df.dtypes)"
   ]
  },
  {
   "cell_type": "code",
   "execution_count": null,
   "id": "c14665bb",
   "metadata": {},
   "outputs": [],
   "source": [
    "restaurants_df.describe()"
   ]
  },
  {
   "cell_type": "code",
   "execution_count": null,
   "id": "c0267ea0",
   "metadata": {},
   "outputs": [],
   "source": [
    "restaurants_df.corr()"
   ]
  },
  {
   "cell_type": "markdown",
   "id": "7dd96a4f",
   "metadata": {},
   "source": [
    "Let's the raw value count of restaurants in each bourough (Without filtering for NULLs)"
   ]
  },
  {
   "cell_type": "code",
   "execution_count": null,
   "id": "96631e9d",
   "metadata": {},
   "outputs": [],
   "source": [
    "restaurants_df.Borough.value_counts()"
   ]
  },
  {
   "cell_type": "markdown",
   "id": "804b084b",
   "metadata": {},
   "source": [
    "Based of raw data, Manhattan has the most restaurants. There are 77 restaurants where the borough is unknown/NULL"
   ]
  },
  {
   "cell_type": "markdown",
   "id": "a8659b1a",
   "metadata": {},
   "source": [
    "Let's look at the number of restaurants by community district"
   ]
  },
  {
   "cell_type": "code",
   "execution_count": null,
   "id": "e815c7cc",
   "metadata": {},
   "outputs": [],
   "source": [
    "restaurants_df.Community_District.value_counts()"
   ]
  },
  {
   "cell_type": "markdown",
   "id": "4b847166",
   "metadata": {},
   "source": [
    "Manhattan Community District 105 has the most restaurants."
   ]
  },
  {
   "cell_type": "markdown",
   "id": "14be530c",
   "metadata": {},
   "source": [
    "Let's look at types of restaurants in the city."
   ]
  },
  {
   "cell_type": "code",
   "execution_count": null,
   "id": "6f417477",
   "metadata": {},
   "outputs": [],
   "source": [
    "restaurants_df.Cuisine_Description.value_counts()"
   ]
  },
  {
   "cell_type": "markdown",
   "id": "7c4ab576",
   "metadata": {},
   "source": [
    "American food is the most popular restaurant (numerically) in NYC."
   ]
  },
  {
   "cell_type": "markdown",
   "id": "379018ab",
   "metadata": {},
   "source": [
    "Let's look at the health inspection grades."
   ]
  },
  {
   "cell_type": "code",
   "execution_count": null,
   "id": "7d0ef9cf",
   "metadata": {
    "scrolled": true
   },
   "outputs": [],
   "source": [
    "restaurants_df.Grade.value_counts()"
   ]
  },
  {
   "cell_type": "markdown",
   "id": "b6c47c04",
   "metadata": {},
   "source": [
    "Most Restaurants in the city got an A grade. That's good to know."
   ]
  },
  {
   "cell_type": "markdown",
   "id": "d3d7a053",
   "metadata": {},
   "source": [
    "How much Null data do we have?"
   ]
  },
  {
   "cell_type": "code",
   "execution_count": null,
   "id": "bd310a57",
   "metadata": {},
   "outputs": [],
   "source": [
    "restaurants_df.isnull().sum()"
   ]
  },
  {
   "cell_type": "markdown",
   "id": "94e68bed",
   "metadata": {},
   "source": [
    "There's a decent amount of NULL values in this database. Some of it is located in columns we will not need for our specific analysis."
   ]
  },
  {
   "cell_type": "markdown",
   "id": "873c4a2f",
   "metadata": {},
   "source": [
    "Let's make some dataframes based on boroughs and the Health Food Analysis notebook."
   ]
  },
  {
   "cell_type": "markdown",
   "id": "a80c2d47",
   "metadata": {},
   "source": [
    "Let's start with the boroughs first."
   ]
  },
  {
   "cell_type": "code",
   "execution_count": null,
   "id": "a8d42ad1",
   "metadata": {},
   "outputs": [],
   "source": [
    "brooklyn_df = restaurants_df[restaurants_df.Borough == 'Brooklyn']"
   ]
  },
  {
   "cell_type": "code",
   "execution_count": null,
   "id": "3b7fc789",
   "metadata": {
    "scrolled": true
   },
   "outputs": [],
   "source": [
    "brooklyn_df.head()"
   ]
  },
  {
   "cell_type": "code",
   "execution_count": null,
   "id": "e6edef08",
   "metadata": {
    "scrolled": true
   },
   "outputs": [],
   "source": [
    "brooklyn_df.Cuisine_Description.value_counts()"
   ]
  },
  {
   "cell_type": "markdown",
   "id": "519ed3e3",
   "metadata": {},
   "source": [
    "American restaurants make up most of the restaurants in this borough."
   ]
  },
  {
   "cell_type": "code",
   "execution_count": null,
   "id": "1e6b8bc4",
   "metadata": {
    "scrolled": true
   },
   "outputs": [],
   "source": [
    "brooklyn_df.Grade.value_counts()"
   ]
  },
  {
   "cell_type": "markdown",
   "id": "2913921e",
   "metadata": {},
   "source": [
    "The majority of restaurants in this borough recieved a grade of A from the health inspector."
   ]
  },
  {
   "cell_type": "code",
   "execution_count": null,
   "id": "1b234caa",
   "metadata": {},
   "outputs": [],
   "source": [
    "bronx_df = restaurants_df[restaurants_df.Borough == 'Bronx']"
   ]
  },
  {
   "cell_type": "code",
   "execution_count": null,
   "id": "487e3d85",
   "metadata": {
    "scrolled": true
   },
   "outputs": [],
   "source": [
    "bronx_df.head()"
   ]
  },
  {
   "cell_type": "code",
   "execution_count": null,
   "id": "edf6f126",
   "metadata": {},
   "outputs": [],
   "source": [
    "bronx_df.Cuisine_Description.value_counts()"
   ]
  },
  {
   "cell_type": "markdown",
   "id": "cd62ea69",
   "metadata": {},
   "source": [
    "Chinese restaurants make up most of the restaurants in this borough."
   ]
  },
  {
   "cell_type": "code",
   "execution_count": null,
   "id": "b2ae9819",
   "metadata": {},
   "outputs": [],
   "source": [
    "bronx_df.Grade.value_counts()"
   ]
  },
  {
   "cell_type": "markdown",
   "id": "3b797309",
   "metadata": {},
   "source": [
    "The majority of restaurants in this borough recieved a grade of A from the health inspector."
   ]
  },
  {
   "cell_type": "code",
   "execution_count": null,
   "id": "475dd306",
   "metadata": {},
   "outputs": [],
   "source": [
    "manhattan_df = restaurants_df[restaurants_df.Borough == 'Manhattan']"
   ]
  },
  {
   "cell_type": "code",
   "execution_count": null,
   "id": "356f1cd0",
   "metadata": {
    "scrolled": true
   },
   "outputs": [],
   "source": [
    "manhattan_df.head()"
   ]
  },
  {
   "cell_type": "code",
   "execution_count": null,
   "id": "e57a48ba",
   "metadata": {},
   "outputs": [],
   "source": [
    "manhattan_df.Cuisine_Description.value_counts()"
   ]
  },
  {
   "cell_type": "markdown",
   "id": "c0c29490",
   "metadata": {},
   "source": [
    "American restaurants make up most of the restaurants in this borough."
   ]
  },
  {
   "cell_type": "code",
   "execution_count": null,
   "id": "3a0e334e",
   "metadata": {},
   "outputs": [],
   "source": [
    "manhattan_df.Grade.value_counts()"
   ]
  },
  {
   "cell_type": "markdown",
   "id": "23309f37",
   "metadata": {},
   "source": [
    "The majority of restaurants in this borough recieved a grade of A from the health inspector."
   ]
  },
  {
   "cell_type": "code",
   "execution_count": null,
   "id": "8d5bb4c7",
   "metadata": {},
   "outputs": [],
   "source": [
    "queens_df = restaurants_df[restaurants_df.Borough == 'Queens']"
   ]
  },
  {
   "cell_type": "code",
   "execution_count": null,
   "id": "9382685a",
   "metadata": {
    "scrolled": true
   },
   "outputs": [],
   "source": [
    "queens_df.head()"
   ]
  },
  {
   "cell_type": "code",
   "execution_count": null,
   "id": "feaab04f",
   "metadata": {},
   "outputs": [],
   "source": [
    "queens_df.Cuisine_Description.value_counts()"
   ]
  },
  {
   "cell_type": "markdown",
   "id": "513f7766",
   "metadata": {},
   "source": [
    "Chinese restaurants make up most of the restaurants in this borough."
   ]
  },
  {
   "cell_type": "code",
   "execution_count": null,
   "id": "fcb1b57c",
   "metadata": {},
   "outputs": [],
   "source": [
    "queens_df.Grade.value_counts()"
   ]
  },
  {
   "cell_type": "markdown",
   "id": "6f42a96b",
   "metadata": {},
   "source": [
    "The majority of restaurants in this borough recieved a grade of A from the health inspector."
   ]
  },
  {
   "cell_type": "code",
   "execution_count": null,
   "id": "c2f3c280",
   "metadata": {},
   "outputs": [],
   "source": [
    "si_df = restaurants_df[restaurants_df.Borough == 'Staten Island']"
   ]
  },
  {
   "cell_type": "code",
   "execution_count": null,
   "id": "cc160650",
   "metadata": {
    "scrolled": true
   },
   "outputs": [],
   "source": [
    "si_df.head()"
   ]
  },
  {
   "cell_type": "code",
   "execution_count": null,
   "id": "49199321",
   "metadata": {},
   "outputs": [],
   "source": [
    "si_df.Cuisine_Description.value_counts()"
   ]
  },
  {
   "cell_type": "markdown",
   "id": "e303898c",
   "metadata": {},
   "source": [
    "American restaurants make up most of the restaurants in this borough."
   ]
  },
  {
   "cell_type": "code",
   "execution_count": null,
   "id": "8994d65a",
   "metadata": {},
   "outputs": [],
   "source": [
    "si_df.Grade.value_counts()"
   ]
  },
  {
   "cell_type": "markdown",
   "id": "f14d29d2",
   "metadata": {},
   "source": [
    "The majority of restaurants in this borough recieved a grade of A from the health inspector."
   ]
  },
  {
   "cell_type": "markdown",
   "id": "fbf3690f",
   "metadata": {},
   "source": [
    "Now let's do the community districts."
   ]
  },
  {
   "cell_type": "code",
   "execution_count": null,
   "id": "9e462f55",
   "metadata": {},
   "outputs": [],
   "source": [
    "top5_healthycd = restaurants_df[restaurants_df['Community_District'].isin([111.0, 205.0, 206.0,305.0, 316.0])]"
   ]
  },
  {
   "cell_type": "code",
   "execution_count": null,
   "id": "c33744d9",
   "metadata": {},
   "outputs": [],
   "source": [
    "top5_healthycd.head()"
   ]
  },
  {
   "cell_type": "code",
   "execution_count": null,
   "id": "10a3943e",
   "metadata": {
    "scrolled": true
   },
   "outputs": [],
   "source": [
    "top5_healthycd.Community_District.value_counts()"
   ]
  },
  {
   "cell_type": "markdown",
   "id": "01f6b0c7",
   "metadata": {},
   "source": [
    "Manhattan Community District 11 has the most restaurants out of the top 5 healthy community districts."
   ]
  },
  {
   "cell_type": "code",
   "execution_count": null,
   "id": "eafa27d4",
   "metadata": {
    "scrolled": true
   },
   "outputs": [],
   "source": [
    "top5_healthycd.Cuisine_Description.value_counts()"
   ]
  },
  {
   "cell_type": "markdown",
   "id": "6045900e",
   "metadata": {},
   "source": [
    "Chinese restaurants make up most of the restaurants in these community districts."
   ]
  },
  {
   "cell_type": "code",
   "execution_count": null,
   "id": "569dbe5b",
   "metadata": {
    "scrolled": true
   },
   "outputs": [],
   "source": [
    "top5_healthycd.Grade.value_counts()"
   ]
  },
  {
   "cell_type": "markdown",
   "id": "4c143202",
   "metadata": {},
   "source": [
    "The majority of restaurants in this community district recieved a grade of A from the health inspector."
   ]
  },
  {
   "cell_type": "code",
   "execution_count": null,
   "id": "f9cc9f32",
   "metadata": {},
   "outputs": [],
   "source": [
    "No_facilitiescd = restaurants_df[restaurants_df['Community_District'].isin([318.0, 410.0, 411.0, 503.0])]"
   ]
  },
  {
   "cell_type": "code",
   "execution_count": null,
   "id": "7ce410ee",
   "metadata": {},
   "outputs": [],
   "source": [
    "No_facilitiescd.head()"
   ]
  },
  {
   "cell_type": "code",
   "execution_count": null,
   "id": "70955180",
   "metadata": {
    "scrolled": true
   },
   "outputs": [],
   "source": [
    "No_facilitiescd.Community_District.value_counts()"
   ]
  },
  {
   "cell_type": "markdown",
   "id": "ac54ea32",
   "metadata": {},
   "source": [
    "Queens Community District 11 has the most restaurants out of the bottom (no facility) community districts."
   ]
  },
  {
   "cell_type": "code",
   "execution_count": null,
   "id": "b17c6256",
   "metadata": {
    "scrolled": true
   },
   "outputs": [],
   "source": [
    "No_facilitiescd.Cuisine_Description.value_counts()"
   ]
  },
  {
   "cell_type": "markdown",
   "id": "7e88fdf6",
   "metadata": {},
   "source": [
    "American restaurants make up most of the restaurants in these community districts."
   ]
  },
  {
   "cell_type": "code",
   "execution_count": null,
   "id": "7f16cc52",
   "metadata": {},
   "outputs": [],
   "source": [
    "No_facilitiescd.Grade.value_counts()"
   ]
  },
  {
   "cell_type": "markdown",
   "id": "2e035760",
   "metadata": {},
   "source": [
    "The majority of restaurants in this community district recieved a grade of A  from the health inspector."
   ]
  },
  {
   "cell_type": "code",
   "execution_count": null,
   "id": "b46d20a6",
   "metadata": {},
   "outputs": [],
   "source": []
  }
 ],
 "metadata": {
  "kernelspec": {
   "display_name": "Python 3 (ipykernel)",
   "language": "python",
   "name": "python3"
  },
  "language_info": {
   "codemirror_mode": {
    "name": "ipython",
    "version": 3
   },
   "file_extension": ".py",
   "mimetype": "text/x-python",
   "name": "python",
   "nbconvert_exporter": "python",
   "pygments_lexer": "ipython3",
   "version": "3.9.7"
  }
 },
 "nbformat": 4,
 "nbformat_minor": 5
}
