{
 "cells": [
  {
   "cell_type": "code",
   "execution_count": null,
   "id": "660b840a",
   "metadata": {},
   "outputs": [],
   "source": [
    "import pandas as pd\n",
    "import numpy as np\n",
    "import matplotlib.pyplot as plt\n",
    "import seaborn as sns"
   ]
  },
  {
   "cell_type": "code",
   "execution_count": null,
   "id": "a80cb97a",
   "metadata": {},
   "outputs": [],
   "source": [
    "%matplotlib inline"
   ]
  },
  {
   "cell_type": "code",
   "execution_count": null,
   "id": "d4370cb7",
   "metadata": {},
   "outputs": [],
   "source": [
    "restaurants_df = pd.read_csv(\"../data/DOHMH_New_York_City_Restaurant_Inspection_Results.csv\")"
   ]
  },
  {
   "cell_type": "code",
   "execution_count": null,
   "id": "4e39e3ea",
   "metadata": {},
   "outputs": [],
   "source": [
    "restaurants_df.head()"
   ]
  },
  {
   "cell_type": "code",
   "execution_count": null,
   "id": "67265ea3",
   "metadata": {},
   "outputs": [],
   "source": [
    "restaurants_df.info"
   ]
  },
  {
   "cell_type": "code",
   "execution_count": null,
   "id": "512c48ee",
   "metadata": {},
   "outputs": [],
   "source": [
    "restaurants_df.shape"
   ]
  },
  {
   "cell_type": "code",
   "execution_count": null,
   "id": "013bd5ce",
   "metadata": {},
   "outputs": [],
   "source": [
    "print(restaurants_df.dtypes)"
   ]
  },
  {
   "cell_type": "code",
   "execution_count": null,
   "id": "518260a4",
   "metadata": {},
   "outputs": [],
   "source": [
    "restaurants_df.describe()"
   ]
  },
  {
   "cell_type": "code",
   "execution_count": null,
   "id": "e5749e0b",
   "metadata": {},
   "outputs": [],
   "source": [
    "restaurants_df.corr()"
   ]
  },
  {
   "cell_type": "markdown",
   "id": "fbba6c53",
   "metadata": {},
   "source": [
    "Let's the raw value count of restaurants in each bourough (Without filtering for NULLs)"
   ]
  },
  {
   "cell_type": "code",
   "execution_count": null,
   "id": "7b7eeac9",
   "metadata": {},
   "outputs": [],
   "source": [
    "restaurants_df.Borough.value_counts()"
   ]
  },
  {
   "cell_type": "code",
   "execution_count": null,
   "id": "bb6008ba",
   "metadata": {},
   "outputs": [],
   "source": [
    "boro_restaurants = pd.DataFrame(restaurants_df.Borough.value_counts().reset_index())"
   ]
  },
  {
   "cell_type": "code",
   "execution_count": null,
   "id": "5dab5dd5",
   "metadata": {},
   "outputs": [],
   "source": [
    "boro_restaurants"
   ]
  },
  {
   "cell_type": "code",
   "execution_count": null,
   "id": "68b31658",
   "metadata": {},
   "outputs": [],
   "source": [
    "boro_restaurants.columns = ['Borough', 'Restaurants']"
   ]
  },
  {
   "cell_type": "code",
   "execution_count": null,
   "id": "871266cd",
   "metadata": {},
   "outputs": [],
   "source": [
    "boro_restaurants"
   ]
  },
  {
   "cell_type": "markdown",
   "id": "fd6d0074",
   "metadata": {},
   "source": [
    "Based of raw data, Manhattan has the most restaurants. There are 77 restaurants where the borough is unknown/NULL"
   ]
  },
  {
   "cell_type": "markdown",
   "id": "c7b22b03",
   "metadata": {},
   "source": [
    "Let's look at the number of restaurants by community district"
   ]
  },
  {
   "cell_type": "code",
   "execution_count": null,
   "id": "33474325",
   "metadata": {},
   "outputs": [],
   "source": [
    "restaurants_df.Community_District.value_counts()"
   ]
  },
  {
   "cell_type": "code",
   "execution_count": null,
   "id": "359fe531",
   "metadata": {},
   "outputs": [],
   "source": [
    "CD_restaurants = pd.DataFrame(restaurants_df.Community_District.value_counts().reset_index())"
   ]
  },
  {
   "cell_type": "code",
   "execution_count": null,
   "id": "7d04e478",
   "metadata": {},
   "outputs": [],
   "source": [
    "CD_restaurants"
   ]
  },
  {
   "cell_type": "code",
   "execution_count": null,
   "id": "caedc3a3",
   "metadata": {},
   "outputs": [],
   "source": [
    "CD_restaurants.columns = ['Community District', 'Restaurants']"
   ]
  },
  {
   "cell_type": "code",
   "execution_count": null,
   "id": "8b79a94b",
   "metadata": {},
   "outputs": [],
   "source": [
    "CD_restaurants"
   ]
  },
  {
   "cell_type": "markdown",
   "id": "00312519",
   "metadata": {},
   "source": [
    "Manhattan Community District 105 has the most restaurants."
   ]
  },
  {
   "cell_type": "markdown",
   "id": "559db986",
   "metadata": {},
   "source": [
    "Let's look at types of restaurants in the city."
   ]
  },
  {
   "cell_type": "code",
   "execution_count": null,
   "id": "8bd0ee1c",
   "metadata": {},
   "outputs": [],
   "source": [
    "restaurants_df.Cuisine_Description.value_counts()"
   ]
  },
  {
   "cell_type": "code",
   "execution_count": null,
   "id": "d6e3a6a8",
   "metadata": {},
   "outputs": [],
   "source": [
    "cuisine_nyc = pd.DataFrame(restaurants_df.Cuisine_Description.value_counts().reset_index())"
   ]
  },
  {
   "cell_type": "code",
   "execution_count": null,
   "id": "11289c98",
   "metadata": {},
   "outputs": [],
   "source": [
    "cuisine_nyc"
   ]
  },
  {
   "cell_type": "code",
   "execution_count": null,
   "id": "650c7bed",
   "metadata": {},
   "outputs": [],
   "source": [
    "cuisine_nyc.columns = ['Cuisine Type', 'Restaurants']"
   ]
  },
  {
   "cell_type": "code",
   "execution_count": null,
   "id": "ca54362d",
   "metadata": {},
   "outputs": [],
   "source": [
    "cuisine_nyc"
   ]
  },
  {
   "cell_type": "markdown",
   "id": "b5a9b454",
   "metadata": {},
   "source": [
    "American food is the most popular restaurant (numerically) in NYC."
   ]
  },
  {
   "cell_type": "markdown",
   "id": "43b89a43",
   "metadata": {},
   "source": [
    "Let's look at the health inspection grades."
   ]
  },
  {
   "cell_type": "code",
   "execution_count": null,
   "id": "59f86c73",
   "metadata": {
    "scrolled": true
   },
   "outputs": [],
   "source": [
    "restaurants_df.Grade.value_counts()"
   ]
  },
  {
   "cell_type": "code",
   "execution_count": null,
   "id": "b012beef",
   "metadata": {},
   "outputs": [],
   "source": [
    "restaurant_grade_nyc = pd.DataFrame(restaurants_df.Grade.value_counts().reset_index())"
   ]
  },
  {
   "cell_type": "code",
   "execution_count": null,
   "id": "0d745cfa",
   "metadata": {},
   "outputs": [],
   "source": [
    "restaurant_grade_nyc"
   ]
  },
  {
   "cell_type": "code",
   "execution_count": null,
   "id": "c8938984",
   "metadata": {},
   "outputs": [],
   "source": [
    "restaurant_grade_nyc.columns = ['Grade', 'Total']"
   ]
  },
  {
   "cell_type": "code",
   "execution_count": null,
   "id": "fc12a962",
   "metadata": {},
   "outputs": [],
   "source": [
    "restaurant_grade_nyc"
   ]
  },
  {
   "cell_type": "markdown",
   "id": "4e79820d",
   "metadata": {},
   "source": [
    "Most Restaurants in the city got an A grade. That's good to know."
   ]
  },
  {
   "cell_type": "markdown",
   "id": "482bf66e",
   "metadata": {},
   "source": [
    "How much Null data do we have?"
   ]
  },
  {
   "cell_type": "code",
   "execution_count": null,
   "id": "d1385514",
   "metadata": {},
   "outputs": [],
   "source": [
    "restaurants_df.isnull().sum()"
   ]
  },
  {
   "cell_type": "markdown",
   "id": "031da84a",
   "metadata": {},
   "source": [
    "There's a decent amount of NULL values in this database. Some of it is located in columns we will not need for our specific analysis."
   ]
  },
  {
   "cell_type": "markdown",
   "id": "a0f3ce58",
   "metadata": {},
   "source": [
    "Let's make some dataframes based on boroughs and the Health Food Analysis notebook."
   ]
  },
  {
   "cell_type": "markdown",
   "id": "0909f99e",
   "metadata": {},
   "source": [
    "Let's start with the boroughs first."
   ]
  },
  {
   "cell_type": "code",
   "execution_count": null,
   "id": "183f3ff3",
   "metadata": {},
   "outputs": [],
   "source": [
    "brooklyn_df = restaurants_df[restaurants_df.Borough == 'Brooklyn']"
   ]
  },
  {
   "cell_type": "code",
   "execution_count": null,
   "id": "e5931a5c",
   "metadata": {
    "scrolled": true
   },
   "outputs": [],
   "source": [
    "brooklyn_df.head()"
   ]
  },
  {
   "cell_type": "code",
   "execution_count": null,
   "id": "9debcbfd",
   "metadata": {},
   "outputs": [],
   "source": [
    "brooklyn = pd.DataFrame(brooklyn_df)"
   ]
  },
  {
   "cell_type": "code",
   "execution_count": null,
   "id": "0d52727c",
   "metadata": {},
   "outputs": [],
   "source": [
    "brooklyn"
   ]
  },
  {
   "cell_type": "code",
   "execution_count": null,
   "id": "d205dea5",
   "metadata": {
    "scrolled": true
   },
   "outputs": [],
   "source": [
    "brooklyn_df.Cuisine_Description.value_counts()"
   ]
  },
  {
   "cell_type": "code",
   "execution_count": null,
   "id": "d31cabe5",
   "metadata": {},
   "outputs": [],
   "source": [
    "brooklyn_cuisine = pd.DataFrame(brooklyn_df.Cuisine_Description.value_counts().reset_index())"
   ]
  },
  {
   "cell_type": "code",
   "execution_count": null,
   "id": "88c77dc8",
   "metadata": {},
   "outputs": [],
   "source": [
    "brooklyn_cuisine"
   ]
  },
  {
   "cell_type": "code",
   "execution_count": null,
   "id": "84fa8fc2",
   "metadata": {},
   "outputs": [],
   "source": [
    "brooklyn_cuisine.columns = ['Cuisine Type', 'Restaurants']"
   ]
  },
  {
   "cell_type": "code",
   "execution_count": null,
   "id": "ca8157f6",
   "metadata": {},
   "outputs": [],
   "source": [
    "brooklyn_cuisine"
   ]
  },
  {
   "cell_type": "markdown",
   "id": "c5d33354",
   "metadata": {},
   "source": [
    "American restaurants make up most of the restaurants in this borough."
   ]
  },
  {
   "cell_type": "code",
   "execution_count": null,
   "id": "72a43064",
   "metadata": {
    "scrolled": true
   },
   "outputs": [],
   "source": [
    "brooklyn_df.Grade.value_counts()"
   ]
  },
  {
   "cell_type": "code",
   "execution_count": null,
   "id": "5b2ad5e4",
   "metadata": {},
   "outputs": [],
   "source": [
    "brooklyn_grades = pd.DataFrame(brooklyn_df.Grade.value_counts().reset_index())"
   ]
  },
  {
   "cell_type": "code",
   "execution_count": null,
   "id": "4bc846ee",
   "metadata": {},
   "outputs": [],
   "source": [
    "brooklyn_grades"
   ]
  },
  {
   "cell_type": "code",
   "execution_count": null,
   "id": "6ff34dae",
   "metadata": {},
   "outputs": [],
   "source": [
    "brooklyn_grades.columns = ['Grade', 'Total']"
   ]
  },
  {
   "cell_type": "code",
   "execution_count": null,
   "id": "c1b475ba",
   "metadata": {},
   "outputs": [],
   "source": [
    "brooklyn_grades"
   ]
  },
  {
   "cell_type": "markdown",
   "id": "559f4ada",
   "metadata": {},
   "source": [
    "The majority of restaurants in this borough recieved a grade of A from the health inspector."
   ]
  },
  {
   "cell_type": "code",
   "execution_count": null,
   "id": "465c30dd",
   "metadata": {},
   "outputs": [],
   "source": [
    "bronx_df = restaurants_df[restaurants_df.Borough == 'Bronx']"
   ]
  },
  {
   "cell_type": "code",
   "execution_count": null,
   "id": "184d25c9",
   "metadata": {
    "scrolled": true
   },
   "outputs": [],
   "source": [
    "bronx_df.head()"
   ]
  },
  {
   "cell_type": "code",
   "execution_count": null,
   "id": "38b230a8",
   "metadata": {},
   "outputs": [],
   "source": [
    "bronx = pd.DataFrame(bronx_df)"
   ]
  },
  {
   "cell_type": "code",
   "execution_count": null,
   "id": "1d64d472",
   "metadata": {},
   "outputs": [],
   "source": [
    "bronx"
   ]
  },
  {
   "cell_type": "code",
   "execution_count": null,
   "id": "b23c54c9",
   "metadata": {},
   "outputs": [],
   "source": [
    "bronx_df.Cuisine_Description.value_counts()"
   ]
  },
  {
   "cell_type": "code",
   "execution_count": null,
   "id": "29dee565",
   "metadata": {},
   "outputs": [],
   "source": [
    "bronx_cuisine = pd.DataFrame(bronx_df.Cuisine_Description.value_counts().reset_index())"
   ]
  },
  {
   "cell_type": "code",
   "execution_count": null,
   "id": "58974812",
   "metadata": {},
   "outputs": [],
   "source": [
    "bronx_cuisine"
   ]
  },
  {
   "cell_type": "code",
   "execution_count": null,
   "id": "779d6eec",
   "metadata": {},
   "outputs": [],
   "source": [
    "bronx_cuisine.columns = ['Cuisine Type', 'Restaurants']"
   ]
  },
  {
   "cell_type": "code",
   "execution_count": null,
   "id": "3da8aab4",
   "metadata": {},
   "outputs": [],
   "source": [
    "bronx_cuisine"
   ]
  },
  {
   "cell_type": "markdown",
   "id": "064380c2",
   "metadata": {},
   "source": [
    "Chinese restaurants make up most of the restaurants in this borough."
   ]
  },
  {
   "cell_type": "code",
   "execution_count": null,
   "id": "bbe036e6",
   "metadata": {},
   "outputs": [],
   "source": [
    "bronx_df.Grade.value_counts()"
   ]
  },
  {
   "cell_type": "code",
   "execution_count": null,
   "id": "aa7d104b",
   "metadata": {},
   "outputs": [],
   "source": [
    "bronx_grades = pd.DataFrame(bronx_df.Grade.value_counts().reset_index())"
   ]
  },
  {
   "cell_type": "code",
   "execution_count": null,
   "id": "da7d9bbc",
   "metadata": {},
   "outputs": [],
   "source": [
    "bronx_grades"
   ]
  },
  {
   "cell_type": "code",
   "execution_count": null,
   "id": "345679a4",
   "metadata": {},
   "outputs": [],
   "source": [
    "bronx_grades.columns = ['Grade', 'Total']"
   ]
  },
  {
   "cell_type": "code",
   "execution_count": null,
   "id": "30c83fb6",
   "metadata": {},
   "outputs": [],
   "source": [
    "bronx_grades"
   ]
  },
  {
   "cell_type": "markdown",
   "id": "9ed768a1",
   "metadata": {},
   "source": [
    "The majority of restaurants in this borough recieved a grade of A from the health inspector."
   ]
  },
  {
   "cell_type": "code",
   "execution_count": null,
   "id": "4eeec109",
   "metadata": {},
   "outputs": [],
   "source": [
    "manhattan_df = restaurants_df[restaurants_df.Borough == 'Manhattan']"
   ]
  },
  {
   "cell_type": "code",
   "execution_count": null,
   "id": "b0acfd99",
   "metadata": {
    "scrolled": true
   },
   "outputs": [],
   "source": [
    "manhattan_df.head()"
   ]
  },
  {
   "cell_type": "code",
   "execution_count": null,
   "id": "264ec3ef",
   "metadata": {},
   "outputs": [],
   "source": [
    "manhattan = pd.DataFrame(manhattan_df)"
   ]
  },
  {
   "cell_type": "code",
   "execution_count": null,
   "id": "b8994a46",
   "metadata": {},
   "outputs": [],
   "source": [
    "manhattan"
   ]
  },
  {
   "cell_type": "code",
   "execution_count": null,
   "id": "17b9f60b",
   "metadata": {},
   "outputs": [],
   "source": [
    "manhattan_df.Cuisine_Description.value_counts()"
   ]
  },
  {
   "cell_type": "code",
   "execution_count": null,
   "id": "676bb27a",
   "metadata": {},
   "outputs": [],
   "source": [
    "manhattan_cuisine = pd.DataFrame(manhattan_df.Cuisine_Description.value_counts().reset_index())"
   ]
  },
  {
   "cell_type": "code",
   "execution_count": null,
   "id": "1bc59824",
   "metadata": {},
   "outputs": [],
   "source": [
    "manhattan_cuisine"
   ]
  },
  {
   "cell_type": "code",
   "execution_count": null,
   "id": "c169013a",
   "metadata": {},
   "outputs": [],
   "source": [
    "manhattan_cuisine.columns = ['Cuisine Type', 'Restaurants']"
   ]
  },
  {
   "cell_type": "code",
   "execution_count": null,
   "id": "9203c085",
   "metadata": {},
   "outputs": [],
   "source": [
    "manhattan_cuisine"
   ]
  },
  {
   "cell_type": "markdown",
   "id": "cffe6be8",
   "metadata": {},
   "source": [
    "American restaurants make up most of the restaurants in this borough."
   ]
  },
  {
   "cell_type": "code",
   "execution_count": null,
   "id": "19400ee8",
   "metadata": {},
   "outputs": [],
   "source": [
    "manhattan_df.Grade.value_counts()"
   ]
  },
  {
   "cell_type": "code",
   "execution_count": null,
   "id": "a0452194",
   "metadata": {},
   "outputs": [],
   "source": [
    "manhattan_grades = pd.DataFrame(manhattan_df.Grade.value_counts().reset_index())"
   ]
  },
  {
   "cell_type": "code",
   "execution_count": null,
   "id": "b5f7dccc",
   "metadata": {},
   "outputs": [],
   "source": [
    "manhattan_grades"
   ]
  },
  {
   "cell_type": "code",
   "execution_count": null,
   "id": "3ef48218",
   "metadata": {},
   "outputs": [],
   "source": [
    "manhattan_grades.columns = ['Grade', 'Total']"
   ]
  },
  {
   "cell_type": "code",
   "execution_count": null,
   "id": "09191def",
   "metadata": {},
   "outputs": [],
   "source": [
    "manhattan_grades"
   ]
  },
  {
   "cell_type": "markdown",
   "id": "a08dff96",
   "metadata": {},
   "source": [
    "The majority of restaurants in this borough recieved a grade of A from the health inspector."
   ]
  },
  {
   "cell_type": "code",
   "execution_count": null,
   "id": "ba736842",
   "metadata": {},
   "outputs": [],
   "source": [
    "queens_df = restaurants_df[restaurants_df.Borough == 'Queens']"
   ]
  },
  {
   "cell_type": "code",
   "execution_count": null,
   "id": "a91e82b4",
   "metadata": {
    "scrolled": true
   },
   "outputs": [],
   "source": [
    "queens_df.head()"
   ]
  },
  {
   "cell_type": "code",
   "execution_count": null,
   "id": "657e0804",
   "metadata": {},
   "outputs": [],
   "source": [
    "queens = pd.DataFrame(queens_df)"
   ]
  },
  {
   "cell_type": "code",
   "execution_count": null,
   "id": "18c80edf",
   "metadata": {},
   "outputs": [],
   "source": [
    "queens"
   ]
  },
  {
   "cell_type": "code",
   "execution_count": null,
   "id": "ddb6c6d3",
   "metadata": {},
   "outputs": [],
   "source": [
    "queens_df.Cuisine_Description.value_counts()"
   ]
  },
  {
   "cell_type": "code",
   "execution_count": null,
   "id": "fb84c200",
   "metadata": {},
   "outputs": [],
   "source": [
    "queens_cuisine = pd.DataFrame(queens_df.Cuisine_Description.value_counts().reset_index())"
   ]
  },
  {
   "cell_type": "code",
   "execution_count": null,
   "id": "c92227b8",
   "metadata": {},
   "outputs": [],
   "source": [
    "queens_cuisine"
   ]
  },
  {
   "cell_type": "code",
   "execution_count": null,
   "id": "71c2622d",
   "metadata": {},
   "outputs": [],
   "source": [
    "queens_cuisine.columns = ['Cuisine Type', 'Restaurants']"
   ]
  },
  {
   "cell_type": "code",
   "execution_count": null,
   "id": "64313d43",
   "metadata": {},
   "outputs": [],
   "source": [
    "queens_cuisine"
   ]
  },
  {
   "cell_type": "markdown",
   "id": "2a938940",
   "metadata": {},
   "source": [
    "Chinese restaurants make up most of the restaurants in this borough."
   ]
  },
  {
   "cell_type": "code",
   "execution_count": null,
   "id": "79a22ba2",
   "metadata": {},
   "outputs": [],
   "source": [
    "queens_df.Grade.value_counts()"
   ]
  },
  {
   "cell_type": "code",
   "execution_count": null,
   "id": "27b74d0b",
   "metadata": {},
   "outputs": [],
   "source": [
    "queens_grades = pd.DataFrame(queens_df.Grade.value_counts().reset_index())"
   ]
  },
  {
   "cell_type": "code",
   "execution_count": null,
   "id": "bfd290c5",
   "metadata": {},
   "outputs": [],
   "source": [
    "queens_grades"
   ]
  },
  {
   "cell_type": "code",
   "execution_count": null,
   "id": "16bd9b50",
   "metadata": {},
   "outputs": [],
   "source": [
    "queens_grades.columns = ['Grade', 'Total']"
   ]
  },
  {
   "cell_type": "code",
   "execution_count": null,
   "id": "42b4e4e6",
   "metadata": {},
   "outputs": [],
   "source": [
    "queens_grades"
   ]
  },
  {
   "cell_type": "markdown",
   "id": "a5728add",
   "metadata": {},
   "source": [
    "The majority of restaurants in this borough recieved a grade of A from the health inspector."
   ]
  },
  {
   "cell_type": "code",
   "execution_count": null,
   "id": "4027074b",
   "metadata": {},
   "outputs": [],
   "source": [
    "si_df = restaurants_df[restaurants_df.Borough == 'Staten Island']"
   ]
  },
  {
   "cell_type": "code",
   "execution_count": null,
   "id": "263c19ce",
   "metadata": {
    "scrolled": true
   },
   "outputs": [],
   "source": [
    "si_df.head()"
   ]
  },
  {
   "cell_type": "code",
   "execution_count": null,
   "id": "e8d66fb8",
   "metadata": {},
   "outputs": [],
   "source": [
    "staten_island = pd.DataFrame(si_df)"
   ]
  },
  {
   "cell_type": "code",
   "execution_count": null,
   "id": "a9514222",
   "metadata": {},
   "outputs": [],
   "source": [
    "staten_island"
   ]
  },
  {
   "cell_type": "code",
   "execution_count": null,
   "id": "e655fac6",
   "metadata": {},
   "outputs": [],
   "source": [
    "si_df.Cuisine_Description.value_counts()"
   ]
  },
  {
   "cell_type": "code",
   "execution_count": null,
   "id": "a2522717",
   "metadata": {},
   "outputs": [],
   "source": [
    "si_cuisine = pd.DataFrame(si_df.Cuisine_Description.value_counts().reset_index())"
   ]
  },
  {
   "cell_type": "code",
   "execution_count": null,
   "id": "86681201",
   "metadata": {},
   "outputs": [],
   "source": [
    "si_cuisine"
   ]
  },
  {
   "cell_type": "code",
   "execution_count": null,
   "id": "20ea2799",
   "metadata": {},
   "outputs": [],
   "source": [
    "si_cuisine.columns = ['Cuisine Type', 'Restaurants']"
   ]
  },
  {
   "cell_type": "code",
   "execution_count": null,
   "id": "75263641",
   "metadata": {},
   "outputs": [],
   "source": [
    "si_cuisine"
   ]
  },
  {
   "cell_type": "markdown",
   "id": "99a6d4ea",
   "metadata": {},
   "source": [
    "American restaurants make up most of the restaurants in this borough."
   ]
  },
  {
   "cell_type": "code",
   "execution_count": null,
   "id": "9aa072bb",
   "metadata": {},
   "outputs": [],
   "source": [
    "si_df.Grade.value_counts()"
   ]
  },
  {
   "cell_type": "code",
   "execution_count": null,
   "id": "5a374b00",
   "metadata": {},
   "outputs": [],
   "source": [
    "si_grades = pd.DataFrame(si_df.Grade.value_counts().reset_index())"
   ]
  },
  {
   "cell_type": "code",
   "execution_count": null,
   "id": "d7b4bcc4",
   "metadata": {},
   "outputs": [],
   "source": [
    "si_grades"
   ]
  },
  {
   "cell_type": "code",
   "execution_count": null,
   "id": "3892c317",
   "metadata": {},
   "outputs": [],
   "source": [
    "si_grades.columns = ['Grade', 'Total']"
   ]
  },
  {
   "cell_type": "code",
   "execution_count": null,
   "id": "d12e66b9",
   "metadata": {},
   "outputs": [],
   "source": [
    "si_grades"
   ]
  },
  {
   "cell_type": "markdown",
   "id": "f6dbf4fb",
   "metadata": {},
   "source": [
    "The majority of restaurants in this borough recieved a grade of A from the health inspector."
   ]
  },
  {
   "cell_type": "markdown",
   "id": "433465c9",
   "metadata": {},
   "source": [
    "Now let's do the community districts."
   ]
  },
  {
   "cell_type": "code",
   "execution_count": null,
   "id": "8be0b50e",
   "metadata": {},
   "outputs": [],
   "source": [
    "top5_healthycd = restaurants_df[restaurants_df['Community_District'].isin([111.0, 205.0, 206.0,305.0, 316.0])]"
   ]
  },
  {
   "cell_type": "code",
   "execution_count": null,
   "id": "2df5c938",
   "metadata": {},
   "outputs": [],
   "source": [
    "top5_healthycd.head()"
   ]
  },
  {
   "cell_type": "code",
   "execution_count": null,
   "id": "a5d92d46",
   "metadata": {},
   "outputs": [],
   "source": [
    "Top = pd.DataFrame(top5_healthycd)"
   ]
  },
  {
   "cell_type": "code",
   "execution_count": null,
   "id": "065e2b30",
   "metadata": {},
   "outputs": [],
   "source": [
    "Top"
   ]
  },
  {
   "cell_type": "code",
   "execution_count": null,
   "id": "d7de831d",
   "metadata": {
    "scrolled": true
   },
   "outputs": [],
   "source": [
    "top5_healthycd.Community_District.value_counts()"
   ]
  },
  {
   "cell_type": "code",
   "execution_count": null,
   "id": "5377ed57",
   "metadata": {},
   "outputs": [],
   "source": [
    "top_cds = pd.DataFrame(top5_healthycd.Community_District.value_counts().reset_index())"
   ]
  },
  {
   "cell_type": "code",
   "execution_count": null,
   "id": "a8ae3c09",
   "metadata": {},
   "outputs": [],
   "source": [
    "top_cds"
   ]
  },
  {
   "cell_type": "code",
   "execution_count": null,
   "id": "10f078d9",
   "metadata": {},
   "outputs": [],
   "source": [
    "top_cds.columns = ['Community District', 'Restaurants']"
   ]
  },
  {
   "cell_type": "code",
   "execution_count": null,
   "id": "2131a6e1",
   "metadata": {},
   "outputs": [],
   "source": [
    "top_cds"
   ]
  },
  {
   "cell_type": "markdown",
   "id": "cd79d6be",
   "metadata": {},
   "source": [
    "Manhattan Community District 11 has the most restaurants out of the top 5 healthy community districts."
   ]
  },
  {
   "cell_type": "code",
   "execution_count": null,
   "id": "f6f23e14",
   "metadata": {
    "scrolled": true
   },
   "outputs": [],
   "source": [
    "top5_healthycd.Cuisine_Description.value_counts()"
   ]
  },
  {
   "cell_type": "code",
   "execution_count": null,
   "id": "2102a8dd",
   "metadata": {},
   "outputs": [],
   "source": [
    "top_cuisine = pd.DataFrame(top5_healthycd.Cuisine_Description.value_counts().reset_index())"
   ]
  },
  {
   "cell_type": "code",
   "execution_count": null,
   "id": "1dea34d6",
   "metadata": {},
   "outputs": [],
   "source": [
    "top_cuisine"
   ]
  },
  {
   "cell_type": "code",
   "execution_count": null,
   "id": "5db7194c",
   "metadata": {},
   "outputs": [],
   "source": [
    "top_cuisine.columns = ['Cuisine Type', 'Restaurants']"
   ]
  },
  {
   "cell_type": "code",
   "execution_count": null,
   "id": "af909738",
   "metadata": {},
   "outputs": [],
   "source": [
    "top_cuisine"
   ]
  },
  {
   "cell_type": "markdown",
   "id": "a11acb15",
   "metadata": {},
   "source": [
    "Chinese restaurants make up most of the restaurants in these community districts."
   ]
  },
  {
   "cell_type": "code",
   "execution_count": null,
   "id": "35c5bdd3",
   "metadata": {
    "scrolled": true
   },
   "outputs": [],
   "source": [
    "top5_healthycd.Grade.value_counts()"
   ]
  },
  {
   "cell_type": "code",
   "execution_count": null,
   "id": "54aaa01b",
   "metadata": {},
   "outputs": [],
   "source": [
    "top_grades = pd.DataFrame(top5_healthycd.Grade.value_counts().reset_index())"
   ]
  },
  {
   "cell_type": "code",
   "execution_count": null,
   "id": "7b8a261c",
   "metadata": {},
   "outputs": [],
   "source": [
    "top_grades"
   ]
  },
  {
   "cell_type": "code",
   "execution_count": null,
   "id": "1c421da7",
   "metadata": {},
   "outputs": [],
   "source": [
    "top_grades.columns = ['Grade', 'Total']"
   ]
  },
  {
   "cell_type": "code",
   "execution_count": null,
   "id": "d0b3ccad",
   "metadata": {},
   "outputs": [],
   "source": [
    "top_grades"
   ]
  },
  {
   "cell_type": "markdown",
   "id": "b24bb57b",
   "metadata": {},
   "source": [
    "The majority of restaurants in this community district recieved a grade of A from the health inspector."
   ]
  },
  {
   "cell_type": "code",
   "execution_count": null,
   "id": "3a49cc49",
   "metadata": {},
   "outputs": [],
   "source": [
    "top5_healthycd.Violation_Description.value_counts()"
   ]
  },
  {
   "cell_type": "code",
   "execution_count": null,
   "id": "3ae2ed13",
   "metadata": {},
   "outputs": [],
   "source": [
    "top_violations = pd.DataFrame(top5_healthycd.Violation_Description.value_counts().reset_index())"
   ]
  },
  {
   "cell_type": "code",
   "execution_count": null,
   "id": "f1b868de",
   "metadata": {},
   "outputs": [],
   "source": [
    "top_violations "
   ]
  },
  {
   "cell_type": "code",
   "execution_count": null,
   "id": "a0c7df11",
   "metadata": {},
   "outputs": [],
   "source": [
    "top_violations.columns = ['Violation', 'Total']"
   ]
  },
  {
   "cell_type": "code",
   "execution_count": null,
   "id": "ff768f56",
   "metadata": {},
   "outputs": [],
   "source": [
    "top_violations"
   ]
  },
  {
   "cell_type": "markdown",
   "id": "9c524d8a",
   "metadata": {},
   "source": [
    "Non-food contact surface improperly constructed is the most common violation"
   ]
  },
  {
   "cell_type": "code",
   "execution_count": null,
   "id": "096bce9f",
   "metadata": {},
   "outputs": [],
   "source": [
    "top5_healthycd.Violation_Code.value_counts()"
   ]
  },
  {
   "cell_type": "code",
   "execution_count": null,
   "id": "c2d45d27",
   "metadata": {},
   "outputs": [],
   "source": [
    "top_vcode = pd.DataFrame(top5_healthycd.Violation_Code.value_counts().reset_index())"
   ]
  },
  {
   "cell_type": "code",
   "execution_count": null,
   "id": "87e651a8",
   "metadata": {},
   "outputs": [],
   "source": [
    "top_vcode "
   ]
  },
  {
   "cell_type": "code",
   "execution_count": null,
   "id": "00979065",
   "metadata": {},
   "outputs": [],
   "source": [
    "top_vcode.columns = ['Violation Code', 'Total']"
   ]
  },
  {
   "cell_type": "code",
   "execution_count": null,
   "id": "6052128b",
   "metadata": {},
   "outputs": [],
   "source": [
    "top_vcode"
   ]
  },
  {
   "cell_type": "markdown",
   "id": "d6ac60a1",
   "metadata": {},
   "source": [
    "Violation Code 10F is the most common violation"
   ]
  },
  {
   "cell_type": "code",
   "execution_count": null,
   "id": "30ad04df",
   "metadata": {},
   "outputs": [],
   "source": [
    "top5_healthycd.Critical_Flag.value_counts()"
   ]
  },
  {
   "cell_type": "code",
   "execution_count": null,
   "id": "993e7056",
   "metadata": {},
   "outputs": [],
   "source": [
    "top_critical = pd.DataFrame(top5_healthycd.Critical_Flag.value_counts().reset_index())"
   ]
  },
  {
   "cell_type": "code",
   "execution_count": null,
   "id": "3e01f3b4",
   "metadata": {},
   "outputs": [],
   "source": [
    "top_critical"
   ]
  },
  {
   "cell_type": "code",
   "execution_count": null,
   "id": "d626df26",
   "metadata": {},
   "outputs": [],
   "source": [
    "top_critical.columns = ['Critical Flag', 'Total']"
   ]
  },
  {
   "cell_type": "code",
   "execution_count": null,
   "id": "40d45e4c",
   "metadata": {},
   "outputs": [],
   "source": [
    "top_critical"
   ]
  },
  {
   "cell_type": "markdown",
   "id": "e7f9f89f",
   "metadata": {},
   "source": [
    "Most of the violations were critical"
   ]
  },
  {
   "cell_type": "code",
   "execution_count": null,
   "id": "e63e3046",
   "metadata": {},
   "outputs": [],
   "source": [
    "No_facilitiescd = restaurants_df[restaurants_df['Community_District'].isin([318.0, 410.0, 411.0, 503.0])]"
   ]
  },
  {
   "cell_type": "code",
   "execution_count": null,
   "id": "db68583c",
   "metadata": {},
   "outputs": [],
   "source": [
    "No_facilitiescd.head()"
   ]
  },
  {
   "cell_type": "code",
   "execution_count": null,
   "id": "3fc1fc8a",
   "metadata": {},
   "outputs": [],
   "source": [
    "Bottom = pd.DataFrame(No_facilitiescd)"
   ]
  },
  {
   "cell_type": "code",
   "execution_count": null,
   "id": "21d97aba",
   "metadata": {},
   "outputs": [],
   "source": [
    "Bottom"
   ]
  },
  {
   "cell_type": "code",
   "execution_count": null,
   "id": "abc5fcd0",
   "metadata": {
    "scrolled": true
   },
   "outputs": [],
   "source": [
    "No_facilitiescd.Community_District.value_counts()"
   ]
  },
  {
   "cell_type": "code",
   "execution_count": null,
   "id": "69980f56",
   "metadata": {},
   "outputs": [],
   "source": [
    "bottom_cds = pd.DataFrame(No_facilitiescd.Community_District.value_counts().reset_index())"
   ]
  },
  {
   "cell_type": "code",
   "execution_count": null,
   "id": "d0bf75a9",
   "metadata": {},
   "outputs": [],
   "source": [
    "bottom_cds"
   ]
  },
  {
   "cell_type": "code",
   "execution_count": null,
   "id": "f5ed2de6",
   "metadata": {},
   "outputs": [],
   "source": [
    "bottom_cds.columns = ['Community District', 'Restaurants']"
   ]
  },
  {
   "cell_type": "code",
   "execution_count": null,
   "id": "e2d6a490",
   "metadata": {},
   "outputs": [],
   "source": [
    "bottom_cds"
   ]
  },
  {
   "cell_type": "markdown",
   "id": "7fcf0298",
   "metadata": {},
   "source": [
    "Queens Community District 11 has the most restaurants out of the bottom (no facility) community districts."
   ]
  },
  {
   "cell_type": "code",
   "execution_count": null,
   "id": "a865b5da",
   "metadata": {
    "scrolled": true
   },
   "outputs": [],
   "source": [
    "No_facilitiescd.Cuisine_Description.value_counts()"
   ]
  },
  {
   "cell_type": "code",
   "execution_count": null,
   "id": "460f75bf",
   "metadata": {},
   "outputs": [],
   "source": [
    "bottom_cuisine = pd.DataFrame(No_facilitiescd.Cuisine_Description.value_counts().reset_index())"
   ]
  },
  {
   "cell_type": "code",
   "execution_count": null,
   "id": "b35d059f",
   "metadata": {},
   "outputs": [],
   "source": [
    "bottom_cuisine"
   ]
  },
  {
   "cell_type": "code",
   "execution_count": null,
   "id": "6af25ebb",
   "metadata": {},
   "outputs": [],
   "source": [
    "bottom_cuisine.columns = ['Cuisine Type', 'Restaurants']"
   ]
  },
  {
   "cell_type": "code",
   "execution_count": null,
   "id": "9bff66c7",
   "metadata": {},
   "outputs": [],
   "source": [
    "bottom_cuisine"
   ]
  },
  {
   "cell_type": "markdown",
   "id": "093a7ab5",
   "metadata": {},
   "source": [
    "American restaurants make up most of the restaurants in these community districts."
   ]
  },
  {
   "cell_type": "code",
   "execution_count": null,
   "id": "c245dce1",
   "metadata": {},
   "outputs": [],
   "source": [
    "No_facilitiescd.Grade.value_counts()"
   ]
  },
  {
   "cell_type": "code",
   "execution_count": null,
   "id": "1a1c1870",
   "metadata": {},
   "outputs": [],
   "source": [
    "bottom_grades = pd.DataFrame(No_facilitiescd.Grade.value_counts().reset_index())"
   ]
  },
  {
   "cell_type": "code",
   "execution_count": null,
   "id": "8330031a",
   "metadata": {},
   "outputs": [],
   "source": [
    "bottom_grades"
   ]
  },
  {
   "cell_type": "code",
   "execution_count": null,
   "id": "1967ba52",
   "metadata": {},
   "outputs": [],
   "source": [
    "bottom_grades.columns = ['Grade', 'Total']"
   ]
  },
  {
   "cell_type": "code",
   "execution_count": null,
   "id": "3f8e85a1",
   "metadata": {},
   "outputs": [],
   "source": [
    "bottom_grades"
   ]
  },
  {
   "cell_type": "markdown",
   "id": "b1ce1cc5",
   "metadata": {},
   "source": [
    "The majority of restaurants in this community district recieved a grade of A  from the health inspector."
   ]
  },
  {
   "cell_type": "code",
   "execution_count": null,
   "id": "7aff8339",
   "metadata": {},
   "outputs": [],
   "source": [
    "No_facilitiescd.Violation_Description.value_counts()"
   ]
  },
  {
   "cell_type": "code",
   "execution_count": null,
   "id": "137328e3",
   "metadata": {},
   "outputs": [],
   "source": [
    "bottom_violation = pd.DataFrame(No_facilitiescd.Violation_Description.value_counts().reset_index())"
   ]
  },
  {
   "cell_type": "code",
   "execution_count": null,
   "id": "ece0399a",
   "metadata": {},
   "outputs": [],
   "source": [
    "bottom_violation"
   ]
  },
  {
   "cell_type": "code",
   "execution_count": null,
   "id": "98d7d86c",
   "metadata": {},
   "outputs": [],
   "source": [
    "bottom_violation.columns = ['Violation', 'Total']"
   ]
  },
  {
   "cell_type": "code",
   "execution_count": null,
   "id": "dc467c4c",
   "metadata": {},
   "outputs": [],
   "source": [
    "bottom_violation"
   ]
  },
  {
   "cell_type": "markdown",
   "id": "25af8ae8",
   "metadata": {},
   "source": [
    "Non-food contact surface improperly constructed is the most common violation"
   ]
  },
  {
   "cell_type": "code",
   "execution_count": null,
   "id": "a5022334",
   "metadata": {},
   "outputs": [],
   "source": [
    "No_facilitiescd.Violation_Code.value_counts()"
   ]
  },
  {
   "cell_type": "code",
   "execution_count": null,
   "id": "0f94abcd",
   "metadata": {},
   "outputs": [],
   "source": [
    "bottom_vcode = pd.DataFrame(No_facilitiescd.Violation_Code.value_counts().reset_index())"
   ]
  },
  {
   "cell_type": "code",
   "execution_count": null,
   "id": "57df6891",
   "metadata": {},
   "outputs": [],
   "source": [
    "bottom_vcode"
   ]
  },
  {
   "cell_type": "code",
   "execution_count": null,
   "id": "4b2436f8",
   "metadata": {},
   "outputs": [],
   "source": [
    "bottom_vcode.columns = ['Violation Code', 'Total']"
   ]
  },
  {
   "cell_type": "code",
   "execution_count": null,
   "id": "5cc98351",
   "metadata": {},
   "outputs": [],
   "source": [
    "bottom_vcode"
   ]
  },
  {
   "cell_type": "markdown",
   "id": "8001af89",
   "metadata": {},
   "source": [
    "Violation Code 10F is the most common violation"
   ]
  },
  {
   "cell_type": "code",
   "execution_count": null,
   "id": "d93817b7",
   "metadata": {},
   "outputs": [],
   "source": [
    "No_facilitiescd.Critical_Flag.value_counts()"
   ]
  },
  {
   "cell_type": "code",
   "execution_count": null,
   "id": "8c56a10f",
   "metadata": {},
   "outputs": [],
   "source": [
    "bottom_critical = pd.DataFrame(No_facilitiescd.Critical_Flag.value_counts().reset_index())"
   ]
  },
  {
   "cell_type": "code",
   "execution_count": null,
   "id": "6e046bf1",
   "metadata": {},
   "outputs": [],
   "source": [
    "bottom_critical"
   ]
  },
  {
   "cell_type": "code",
   "execution_count": null,
   "id": "be615a1c",
   "metadata": {},
   "outputs": [],
   "source": [
    "bottom_critical.columns = ['Critical Flag', 'Total']"
   ]
  },
  {
   "cell_type": "code",
   "execution_count": null,
   "id": "d0877d8a",
   "metadata": {},
   "outputs": [],
   "source": [
    "bottom_critical"
   ]
  },
  {
   "cell_type": "markdown",
   "id": "4115bd6c",
   "metadata": {},
   "source": [
    "Most of the violations were critical"
   ]
  },
  {
   "cell_type": "markdown",
   "id": "84ad7958",
   "metadata": {},
   "source": [
    "Let's make excel workbooks out of the dataframes we created"
   ]
  },
  {
   "cell_type": "code",
   "execution_count": null,
   "id": "42be8336",
   "metadata": {},
   "outputs": [],
   "source": [
    "xlwriter = pd.ExcelWriter('Restaurants_Output.xlsx')  \n",
    "boro_restaurants.to_excel(xlwriter, sheet_name='Total_Restaurants_Borough')\n",
    "CD_restaurants.to_excel(xlwriter, sheet_name='Total_Restaurants_CD')\n",
    "cuisine_nyc.to_excel(xlwriter, sheet_name='Cuisine_Type_NYC')\n",
    "restaurant_grade_nyc.to_excel(xlwriter, sheet_name='Restaurant_Grades_NYC')\n",
    "brooklyn_cuisine.to_excel(xlwriter, sheet_name='Brooklyn_Cuisine')\n",
    "brooklyn_grades.to_excel(xlwriter, sheet_name='Brooklyn_Grades')\n",
    "bronx_cuisine.to_excel(xlwriter, sheet_name='Bronx_Cuisine')\n",
    "bronx_grades.to_excel(xlwriter, sheet_name='Bronx_Grades')\n",
    "manhattan_cuisine.to_excel(xlwriter, sheet_name='Manhattan_Cuisine')\n",
    "manhattan_grades.to_excel(xlwriter, sheet_name='Manhattan_Grades')\n",
    "queens_cuisine.to_excel(xlwriter, sheet_name='Queens_Cuisine')\n",
    "queens_grades.to_excel(xlwriter, sheet_name='Queens_Grades')\n",
    "si_cuisine.to_excel(xlwriter, sheet_name='SI_Cuisine')\n",
    "si_grades.to_excel(xlwriter, sheet_name='Queens_Grades')\n",
    "xlwriter.close()"
   ]
  },
  {
   "cell_type": "code",
   "execution_count": null,
   "id": "f159b470",
   "metadata": {},
   "outputs": [],
   "source": [
    "borowriter = pd.ExcelWriter('Restaurants_Output_Boro.xlsx')  \n",
    "brooklyn.to_excel(borowriter, sheet_name='Brooklyn')\n",
    "bronx.to_excel(borowriter, sheet_name='Bronx')\n",
    "manhattan.to_excel(borowriter, sheet_name='Manhattan')\n",
    "queens.to_excel(borowriter, sheet_name='Queens')\n",
    "staten_island.to_excel(borowriter, sheet_name='Staten_Island')\n",
    "borowriter.close()"
   ]
  },
  {
   "cell_type": "code",
   "execution_count": null,
   "id": "e1ef568d",
   "metadata": {},
   "outputs": [],
   "source": [
    "cdswriter = pd.ExcelWriter('Restaurants_Output_CDs.xlsx') \n",
    "top_cuisine.to_excel(cdswriter, sheet_name='top_cuisine')\n",
    "top_grades.to_excel(cdswriter, sheet_name='top_grades')\n",
    "bottom_cuisine.to_excel(cdswriter, sheet_name='bottom_cuisine')\n",
    "bottom_grades.to_excel(cdswriter, sheet_name='bottom_grades')\n",
    "top_violations.to_excel(cdswriter, sheet_name='top_violations')\n",
    "top_critical.to_excel(cdswriter, sheet_name='top_critical')\n",
    "bottom_violation.to_excel(cdswriter, sheet_name='bottom_violation')\n",
    "bottom_critical.to_excel(cdswriter, sheet_name='bottom_critical')\n",
    "top_cds.to_excel(cdswriter, sheet_name='top_cd_restaurants')\n",
    "bottom_cds.to_excel(cdswriter, sheet_name='bottom_cd_restaurants')\n",
    "top_vcode.to_excel(cdswriter, sheet_name='top_violation_codes')\n",
    "bottom_vcode.to_excel(cdswriter, sheet_name='bottom_violation_codes')\n",
    "cdswriter.close()"
   ]
  },
  {
   "cell_type": "code",
   "execution_count": null,
   "id": "d7e98db6",
   "metadata": {},
   "outputs": [],
   "source": [
    "tbcdwriter = pd.ExcelWriter('Restaurants_Output_TBCD.xlsx') \n",
    "Top.to_excel(tbcdwriter, sheet_name='Top_CDs')\n",
    "Bottom.to_excel(tbcdwriter, sheet_name='Bottom_CDs')\n",
    "tbcdwriter.close()"
   ]
  },
  {
   "cell_type": "code",
   "execution_count": null,
   "id": "8657d697",
   "metadata": {},
   "outputs": [],
   "source": []
  }
 ],
 "metadata": {
  "kernelspec": {
   "display_name": "Python 3 (ipykernel)",
   "language": "python",
   "name": "python3"
  },
  "language_info": {
   "codemirror_mode": {
    "name": "ipython",
    "version": 3
   },
   "file_extension": ".py",
   "mimetype": "text/x-python",
   "name": "python",
   "nbconvert_exporter": "python",
   "pygments_lexer": "ipython3",
   "version": "3.9.7"
  }
 },
 "nbformat": 4,
 "nbformat_minor": 5
}
