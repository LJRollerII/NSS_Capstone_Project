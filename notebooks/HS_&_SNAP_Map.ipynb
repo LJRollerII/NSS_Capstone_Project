{
 "cells": [
  {
   "cell_type": "code",
   "execution_count": null,
   "id": "662f13f9",
   "metadata": {},
   "outputs": [],
   "source": [
    "from shapely.geometry import Point\n",
    "import pandas as pd\n",
    "import geopandas as gpd\n",
    "import matplotlib.pyplot as plt\n",
    "import folium\n",
    "from folium.plugins import MarkerCluster\n",
    "from folium.plugins import FastMarkerCluster"
   ]
  },
  {
   "cell_type": "code",
   "execution_count": null,
   "id": "4e6a4cdf",
   "metadata": {},
   "outputs": [],
   "source": [
    "nyc_cd = gpd.read_file('../data/Community_Districts.geojson')\n",
    "print(nyc_cd.crs)\n",
    "nyc_cd.head()"
   ]
  },
  {
   "cell_type": "code",
   "execution_count": null,
   "id": "cdcd5739",
   "metadata": {},
   "outputs": [],
   "source": [
    "type(nyc_cd)"
   ]
  },
  {
   "cell_type": "code",
   "execution_count": null,
   "id": "aa2b4178",
   "metadata": {},
   "outputs": [],
   "source": [
    "nyc_cd.loc[0, 'geometry']"
   ]
  },
  {
   "cell_type": "code",
   "execution_count": null,
   "id": "6a0bc6b8",
   "metadata": {},
   "outputs": [],
   "source": [
    "print(nyc_cd.loc[0, 'geometry'])"
   ]
  },
  {
   "cell_type": "code",
   "execution_count": null,
   "id": "f3a90c90",
   "metadata": {},
   "outputs": [],
   "source": [
    "nyc_cd.plot();"
   ]
  },
  {
   "cell_type": "code",
   "execution_count": null,
   "id": "8409996d",
   "metadata": {},
   "outputs": [],
   "source": [
    "leg_kwds = {'title': 'New York City Community Districts', 'loc': 'upper left', \n",
    "            'bbox_to_anchor': (1, 1.03), 'ncol': 2}\n",
    "\n",
    "nyc_cd.plot(column = 'boro_cd', figsize=(10, 10),\n",
    "              edgecolor = 'black',\n",
    "              legend = True, legend_kwds = leg_kwds, \n",
    "              cmap = 'Set2')\n",
    "plt.show()"
   ]
  },
  {
   "cell_type": "code",
   "execution_count": null,
   "id": "ca124e65",
   "metadata": {},
   "outputs": [],
   "source": [
    "nyc_cd.crs"
   ]
  },
  {
   "cell_type": "code",
   "execution_count": null,
   "id": "5cefcee2",
   "metadata": {},
   "outputs": [],
   "source": [
    "healthy_stores = pd.read_csv('../data/Recognized_Shop_Healthy_Stores.csv')\n",
    "print(healthy_stores.shape)\n",
    "healthy_stores.head(3)"
   ]
  },
  {
   "cell_type": "code",
   "execution_count": null,
   "id": "2fdcd10f",
   "metadata": {},
   "outputs": [],
   "source": [
    "healthy_stores = healthy_stores[['Store_Name','Street_Address','Borough','Latitude','Longitude','Community_District']]"
   ]
  },
  {
   "cell_type": "code",
   "execution_count": null,
   "id": "0d3502bf",
   "metadata": {},
   "outputs": [],
   "source": [
    "healthy_stores.head()"
   ]
  },
  {
   "cell_type": "code",
   "execution_count": null,
   "id": "9edf7617",
   "metadata": {},
   "outputs": [],
   "source": [
    "healthy_stores.info()"
   ]
  },
  {
   "cell_type": "code",
   "execution_count": null,
   "id": "7ebf37c0",
   "metadata": {},
   "outputs": [],
   "source": [
    "healthy_stores['geometry'] = healthy_stores.apply(lambda x: Point((x.Longitude, \n",
    "                                                         x.Latitude)), \n",
    "                                        axis=1)\n",
    "healthy_stores.head(3)"
   ]
  },
  {
   "cell_type": "code",
   "execution_count": null,
   "id": "c4808ef1",
   "metadata": {},
   "outputs": [],
   "source": [
    "hs_geo = gpd.GeoDataFrame(healthy_stores, \n",
    "                           crs = nyc_cd.crs, \n",
    "                           geometry = healthy_stores['geometry'])"
   ]
  },
  {
   "cell_type": "code",
   "execution_count": null,
   "id": "cb5d6020",
   "metadata": {},
   "outputs": [],
   "source": [
    "type(hs_geo)"
   ]
  },
  {
   "cell_type": "code",
   "execution_count": null,
   "id": "c98d616c",
   "metadata": {},
   "outputs": [],
   "source": [
    "snap = pd.read_csv('../data/Directory_of_SNAP_Centers.csv')\n",
    "print(snap.shape)\n",
    "snap.head(3)"
   ]
  },
  {
   "cell_type": "code",
   "execution_count": null,
   "id": "2a7a7f55",
   "metadata": {},
   "outputs": [],
   "source": [
    "snap['geometry'] = snap.apply(lambda x: Point((x.Longitude, \n",
    "                                                         x.Latitude)), \n",
    "                                        axis=1)\n",
    "snap.head(3)"
   ]
  },
  {
   "cell_type": "code",
   "execution_count": null,
   "id": "67558b4c",
   "metadata": {},
   "outputs": [],
   "source": [
    "snap_geo = gpd.GeoDataFrame(snap, \n",
    "                           crs = nyc_cd.crs, \n",
    "                           geometry = snap['geometry'])"
   ]
  },
  {
   "cell_type": "code",
   "execution_count": null,
   "id": "d235d53c",
   "metadata": {},
   "outputs": [],
   "source": [
    "type(snap_geo)"
   ]
  },
  {
   "cell_type": "code",
   "execution_count": null,
   "id": "ac030737",
   "metadata": {},
   "outputs": [],
   "source": [
    "snap.head()"
   ]
  },
  {
   "cell_type": "code",
   "execution_count": null,
   "id": "4d3ac5b1",
   "metadata": {},
   "outputs": [],
   "source": [
    "snap = snap[['Borough','Facility_Name','Street_Address','Latitude','Longitude','Community_District','geometry']]"
   ]
  },
  {
   "cell_type": "code",
   "execution_count": null,
   "id": "5c11e4c6",
   "metadata": {},
   "outputs": [],
   "source": [
    "snap.head()"
   ]
  },
  {
   "cell_type": "code",
   "execution_count": null,
   "id": "ff91e4fd",
   "metadata": {},
   "outputs": [],
   "source": [
    "snap.tail()"
   ]
  },
  {
   "cell_type": "code",
   "execution_count": null,
   "id": "a3360b92",
   "metadata": {},
   "outputs": [],
   "source": [
    "snap.columns = ['Borough','Facility_Name','Street_Address','Latitude','Longitude','Community_District_SP','geometry']"
   ]
  },
  {
   "cell_type": "code",
   "execution_count": null,
   "id": "76553a76",
   "metadata": {},
   "outputs": [],
   "source": [
    "snap.head()"
   ]
  },
  {
   "cell_type": "code",
   "execution_count": null,
   "id": "bc50be06",
   "metadata": {},
   "outputs": [],
   "source": [
    "nyc_area_center = ['40.71','-74.00']\n",
    "print(nyc_area_center)  "
   ]
  },
  {
   "cell_type": "code",
   "execution_count": null,
   "id": "e134ed60",
   "metadata": {},
   "outputs": [],
   "source": [
    "map_nyc = folium.Map(location = nyc_area_center, zoom_start = 12)\n",
    "map_nyc"
   ]
  },
  {
   "cell_type": "code",
   "execution_count": null,
   "id": "f30abed9",
   "metadata": {},
   "outputs": [],
   "source": [
    "i = 0\n",
    "for row_index, row_values in healthy_stores.iterrows():\n",
    "    if i <3: \n",
    "       print('index is', row_index)\n",
    "       print('values are:')\n",
    "       print(' ')\n",
    "       print(row_values)\n",
    "       print('------------------------- ')\n",
    "       i+=1"
   ]
  },
  {
   "cell_type": "code",
   "execution_count": null,
   "id": "aa8fc46e",
   "metadata": {},
   "outputs": [],
   "source": [
    "i = 0\n",
    "for row_index, row_values in snap.iterrows():\n",
    "    if i <3: \n",
    "        print('index is', row_index)\n",
    "        print('values are:')\n",
    "        print(' ')\n",
    "        print(row_values)\n",
    "        print('------------------------- ')\n",
    "        i+=1"
   ]
  },
  {
   "cell_type": "code",
   "execution_count": null,
   "id": "e4b0eda6",
   "metadata": {},
   "outputs": [],
   "source": [
    "map_nyc = folium.Map(location =  nyc_area_center, zoom_start = 12)\n",
    "\n",
    "\n",
    "for row_index, row_values in healthy_stores.iterrows():\n",
    "    hs_loc = [row_values['Latitude'], row_values['Longitude']]\n",
    "    hs_pop = str(row_values['Store_Name'])\n",
    "    hs_icon=folium.Icon(color=\"orange\",icon=\"shopping-cart\", prefix='fa')\n",
    "    hs_marker = folium.Marker(\n",
    "    location = hs_loc, \n",
    "    popup = hs_pop, icon = hs_icon)\n",
    "    hs_marker.add_to(map_nyc)\n",
    "    \n",
    "for row_index, row_values in snap.iterrows():\n",
    "    s_loc = [row_values['Latitude'], row_values['Longitude']]\n",
    "    s_pop = str(row_values['Facility_Name'])\n",
    "    s_icon=folium.Icon(color=\"red\",icon=\"institution\", prefix='fa')\n",
    "    s_marker = folium.Marker(\n",
    "    location = s_loc, \n",
    "    popup = s_pop, icon = s_icon)\n",
    "    s_marker.add_to(map_nyc)\n",
    "\n",
    "\n",
    "map_nyc.save('../maps/hssnapnyc.html')\n",
    "\n",
    "\n",
    "map_nyc"
   ]
  },
  {
   "cell_type": "code",
   "execution_count": null,
   "id": "9ffa555c",
   "metadata": {},
   "outputs": [],
   "source": [
    "cluster_map_nyc = folium.Map(location =  nyc_area_center, zoom_start = 12)\n",
    "\n",
    "marker_cluster = MarkerCluster().add_to(cluster_map_nyc)\n",
    "\n",
    "for row_index, row_values in healthy_stores.iterrows():\n",
    "    hs_loc = [row_values['Latitude'], row_values['Longitude']]\n",
    "    hs_pop = str(row_values['Store_Name'])\n",
    "    hs_icon=folium.Icon(color=\"orange\",icon=\"shopping-cart\", prefix='fa')\n",
    "    hs_marker = folium.Marker(\n",
    "    location = hs_loc, \n",
    "    popup = hs_pop, icon = hs_icon)\n",
    "    hs_marker.add_to(marker_cluster)\n",
    "\n",
    "for row_index, row_values in snap.iterrows():\n",
    "    s_loc = [row_values['Latitude'], row_values['Longitude']]\n",
    "    s_pop = str(row_values['Facility_Name'])\n",
    "    s_icon=folium.Icon(color=\"red\",icon=\"institution\", prefix='fa')\n",
    "    s_marker = folium.Marker(\n",
    "    location = s_loc, \n",
    "    popup = s_pop, icon = s_icon)\n",
    "    s_marker.add_to(marker_cluster)\n",
    "\n",
    "cluster_map_nyc.save('../maps/hssnapcluster.html')\n",
    "\n",
    "cluster_map_nyc"
   ]
  }
 ],
 "metadata": {
  "kernelspec": {
   "display_name": "Python 3 (ipykernel)",
   "language": "python",
   "name": "python3"
  },
  "language_info": {
   "codemirror_mode": {
    "name": "ipython",
    "version": 3
   },
   "file_extension": ".py",
   "mimetype": "text/x-python",
   "name": "python",
   "nbconvert_exporter": "python",
   "pygments_lexer": "ipython3",
   "version": "3.8.5"
  }
 },
 "nbformat": 4,
 "nbformat_minor": 5
}
